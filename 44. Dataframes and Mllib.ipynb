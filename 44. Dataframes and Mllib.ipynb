{
 "cells": [
  {
   "cell_type": "code",
   "execution_count": 23,
   "metadata": {
    "collapsed": true
   },
   "outputs": [],
   "source": [
    "master='local[*]'\n",
    "\n",
    "file_regression='/home/ggomarr/Documents/Education/Udemy_Spark/44_regression.txt'"
   ]
  },
  {
   "cell_type": "code",
   "execution_count": 26,
   "metadata": {
    "collapsed": false
   },
   "outputs": [],
   "source": [
    "import findspark\n",
    "findspark.init()\n",
    "\n",
    "from pyspark.sql import SparkSession\n",
    "spark=SparkSession.builder.appName('DataframesAndMllib').getOrCreate()\n",
    "sc=spark.sparkContext\n",
    "\n",
    "from pyspark.ml.regression import LinearRegression\n",
    "from pyspark.ml.linalg import Vectors"
   ]
  },
  {
   "cell_type": "code",
   "execution_count": 73,
   "metadata": {
    "collapsed": true
   },
   "outputs": [],
   "source": [
    "def extract_data(data_row):\n",
    "    data=data_row.split(',')\n",
    "    return (float(data[0]),Vectors.dense(float(data[1])))"
   ]
  },
  {
   "cell_type": "code",
   "execution_count": 74,
   "metadata": {
    "collapsed": false
   },
   "outputs": [],
   "source": [
    "ratings_df=(sc.textFile(file_regression)\n",
    "              .map(extract_data)\n",
    "              .toDF(['label','features']))"
   ]
  },
  {
   "cell_type": "code",
   "execution_count": 75,
   "metadata": {
    "collapsed": false,
    "scrolled": false
   },
   "outputs": [
    {
     "name": "stdout",
     "output_type": "stream",
     "text": [
      "+-----+--------+\n",
      "|label|features|\n",
      "+-----+--------+\n",
      "|-1.74|  [1.66]|\n",
      "| 1.24| [-1.18]|\n",
      "| 0.29|  [-0.4]|\n",
      "|-0.13|  [0.09]|\n",
      "|-0.39|  [0.38]|\n",
      "+-----+--------+\n",
      "only showing top 5 rows\n",
      "\n"
     ]
    }
   ],
   "source": [
    "ratings_df.show(5)"
   ]
  },
  {
   "cell_type": "code",
   "execution_count": 57,
   "metadata": {
    "collapsed": false
   },
   "outputs": [
    {
     "name": "stdout",
     "output_type": "stream",
     "text": [
      "+--------------------+--------------------+\n",
      "|            features|               label|\n",
      "+--------------------+--------------------+\n",
      "| [1.659999966621399]| -1.7400000095367432|\n",
      "|[-1.1799999475479...|  1.2400000095367432|\n",
      "|[-0.4000000059604...| 0.28999999165534973|\n",
      "|[0.09000000357627...|-0.12999999523162842|\n",
      "|[0.3799999952316284]|-0.38999998569488525|\n",
      "+--------------------+--------------------+\n",
      "only showing top 5 rows\n",
      "\n"
     ]
    }
   ],
   "source": [
    "from pyspark.sql import functions,Row\n",
    "from pyspark.sql.types import StructType, StructField, FloatType\n",
    "\n",
    "schema=StructType([StructField(\"label\", FloatType()),\n",
    "                   StructField(\"x\", FloatType())])\n",
    "ratings_df_2=spark.read.csv(file_regression,sep=',',schema=schema)\n",
    "ratings_df_2.rdd.map(lambda r: Row(label=r['label'],features=Vectors.dense(r['x']))).toDF().show(5)"
   ]
  },
  {
   "cell_type": "code",
   "execution_count": 76,
   "metadata": {
    "collapsed": false,
    "scrolled": true
   },
   "outputs": [
    {
     "name": "stdout",
     "output_type": "stream",
     "text": [
      "+-----+--------+\n",
      "|label|features|\n",
      "+-----+--------+\n",
      "|-3.74|  [3.75]|\n",
      "|-2.58|  [2.57]|\n",
      "|-2.36|  [2.63]|\n",
      "|-2.29|  [2.35]|\n",
      "|-2.27|  [2.19]|\n",
      "+-----+--------+\n",
      "only showing top 5 rows\n",
      "\n"
     ]
    }
   ],
   "source": [
    "train_df,test_df=ratings_df.randomSplit([0.8,0.2])\n",
    "train_df.show(5)"
   ]
  },
  {
   "cell_type": "code",
   "execution_count": 77,
   "metadata": {
    "collapsed": false
   },
   "outputs": [],
   "source": [
    "regression_model=LinearRegression(maxIter=10,regParam=0.3,elasticNetParam=0.8).fit(train_df)\n",
    "test_predictions=regression_model.transform(test_df).cache()"
   ]
  },
  {
   "cell_type": "code",
   "execution_count": 80,
   "metadata": {
    "collapsed": false
   },
   "outputs": [
    {
     "name": "stdout",
     "output_type": "stream",
     "text": [
      "+-----+--------+-------------------+\n",
      "|label|features|         prediction|\n",
      "+-----+--------+-------------------+\n",
      "|-2.54|  [2.39]|-1.7138593392651367|\n",
      "|-1.91|  [1.83]|-1.3148382695625032|\n",
      "|-1.58|  [1.65]| -1.186581497158085|\n",
      "|-1.36|  [1.41]| -1.015572467285528|\n",
      "|-1.29|  [1.14]|-0.8231873086789009|\n",
      "+-----+--------+-------------------+\n",
      "only showing top 5 rows\n",
      "\n"
     ]
    }
   ],
   "source": [
    "test_predictions.show(5)"
   ]
  },
  {
   "cell_type": "code",
   "execution_count": 83,
   "metadata": {
    "collapsed": false
   },
   "outputs": [
    {
     "data": {
      "text/plain": [
       "0.29771144184820164"
      ]
     },
     "execution_count": 83,
     "metadata": {},
     "output_type": "execute_result"
    }
   ],
   "source": [
    "from pyspark.mllib.evaluation import RegressionMetrics\n",
    "rm=RegressionMetrics(test_predictions.select(['prediction','label']).rdd)\n",
    "rm.rootMeanSquaredError"
   ]
  },
  {
   "cell_type": "code",
   "execution_count": 104,
   "metadata": {
    "collapsed": false
   },
   "outputs": [
    {
     "data": {
      "text/plain": [
       "<matplotlib.axes._subplots.AxesSubplot at 0x7f4bca0cdfd0>"
      ]
     },
     "execution_count": 104,
     "metadata": {},
     "output_type": "execute_result"
    },
    {
     "data": {
      "image/png": "[encoded data removed]",
      "text/plain": [
       "<matplotlib.figure.Figure at 0x7f4bca035dd0>"
      ]
     },
     "metadata": {},
     "output_type": "display_data"
    }
   ],
   "source": [
    "(test_predictions.toPandas()\n",
    "                 .plot(kind='scatter', x='prediction', y='label'))"
   ]
  },
  {
   "cell_type": "code",
   "execution_count": null,
   "metadata": {
    "collapsed": true
   },
   "outputs": [],
   "source": []
  }
 ],
 "metadata": {
  "kernelspec": {
   "display_name": "Python 2",
   "language": "python",
   "name": "python2"
  },
  "language_info": {
   "codemirror_mode": {
    "name": "ipython",
    "version": 2
   },
   "file_extension": ".py",
   "mimetype": "text/x-python",
   "name": "python",
   "nbconvert_exporter": "python",
   "pygments_lexer": "ipython2",
   "version": "2.7.12"
  }
 },
 "nbformat": 4,
 "nbformat_minor": 0
}
