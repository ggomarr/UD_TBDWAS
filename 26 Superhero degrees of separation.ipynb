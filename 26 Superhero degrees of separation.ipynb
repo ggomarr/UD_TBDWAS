{
 "cells": [
  {
   "cell_type": "code",
   "execution_count": 1,
   "metadata": {
    "collapsed": true
   },
   "outputs": [],
   "source": [
    "import findspark\n",
    "findspark.init()"
   ]
  },
  {
   "cell_type": "code",
   "execution_count": 2,
   "metadata": {
    "collapsed": false
   },
   "outputs": [],
   "source": [
    "from pyspark import SparkConf, SparkContext\n",
    "conf = SparkConf().setMaster(\"local\").setAppName(\"SuperheroDegreesOfSeparation\")\n",
    "sc = SparkContext(conf = conf)"
   ]
  },
  {
   "cell_type": "code",
   "execution_count": 132,
   "metadata": {
    "collapsed": false,
    "scrolled": true
   },
   "outputs": [],
   "source": [
    "sh_id_1=1\n",
    "sh_id_2=6"
   ]
  },
  {
   "cell_type": "code",
   "execution_count": 133,
   "metadata": {
    "collapsed": false
   },
   "outputs": [],
   "source": [
    "def extract_names(superhero_row):\n",
    "    import re\n",
    "    superhero=superhero_row.split(' ',1)\n",
    "    superhero_id=int(superhero[0])\n",
    "    superhero_name=re.sub('^[^a-zA-Z0-9\\s]*|[^a-zA-Z0-9\\s]*$','',superhero[1].strip())\n",
    "    return (superhero_id,superhero_name)\n",
    "\n",
    "superhero_names_raw=sc.textFile(\"/home/ggomarr/Documents/Education/Udemy_Spark/23_Marvel-Names.txt\")\n",
    "superhero_names=superhero_names_raw.map(extract_names)"
   ]
  },
  {
   "cell_type": "code",
   "execution_count": 134,
   "metadata": {
    "collapsed": false
   },
   "outputs": [
    {
     "name": "stdout",
     "output_type": "stream",
     "text": [
      "   1 - 24-HOUR MAN/EMMANUEL\n",
      "   6 - A'YIN\n"
     ]
    }
   ],
   "source": [
    "print('{:4d} - {}'.format(sh_id_1,superhero_names.lookup(sh_id_1)[0]))\n",
    "print('{:4d} - {}'.format(sh_id_2,superhero_names.lookup(sh_id_2)[0]))"
   ]
  },
  {
   "cell_type": "code",
   "execution_count": 145,
   "metadata": {
    "collapsed": true
   },
   "outputs": [],
   "source": [
    "def extract_record(superhero_row):\n",
    "    superhero=superhero_row.split()\n",
    "    sh_id=int(superhero[0])\n",
    "    sh_friends=[int(sh_friend_id) for sh_friend_id in superhero[1:]]\n",
    "    sh_distance=99\n",
    "    sh_path=[]\n",
    "    sh_status=0 # 0: not seen, 1: in the frontier, 2: already processed\n",
    "    return sh_id,(sh_friends,sh_distance,sh_path,sh_status)\n",
    "\n",
    "superhero_net_raw=sc.textFile(\"/home/ggomarr/Documents/Education/Udemy_Spark/23_Marvel-Graph.txt\")\n",
    "superhero_net=(superhero_net_raw.map(extract_record)\n",
    "                                .reduceByKey(lambda x, y: (x[0] + y[0],x[1],x[2],x[3])))"
   ]
  },
  {
   "cell_type": "code",
   "execution_count": 146,
   "metadata": {
    "collapsed": false
   },
   "outputs": [
    {
     "name": "stdout",
     "output_type": "stream",
     "text": [
      "   1 - ([1999, 6471, 6463, 6464, 6459], 99, [], 0)\n",
      "   6 - ([4366, 5017, 1207, 1127, 3329, 5587, 4539, 5317, 6283, 346, 1299, 6360, 6300, 5002, 3601, 3950, 4466, 4540, 3359, 867, 1381], 99, [], 0)\n"
     ]
    }
   ],
   "source": [
    "print('{:4d} - {}'.format(sh_id_1,superhero_net.lookup(sh_id_1)[0]))\n",
    "print('{:4d} - {}'.format(sh_id_2,superhero_net.lookup(sh_id_2)[0]))"
   ]
  },
  {
   "cell_type": "code",
   "execution_count": 147,
   "metadata": {
    "collapsed": false
   },
   "outputs": [],
   "source": [
    "def initialize_search(superhero):\n",
    "    if superhero[0]==sh_id_1:\n",
    "        return superhero[0],(superhero[1][0],0,[],1)\n",
    "    else:\n",
    "        return superhero\n",
    "\n",
    "superhero_net_initalized=superhero_net.map(initialize_search)"
   ]
  },
  {
   "cell_type": "code",
   "execution_count": 148,
   "metadata": {
    "collapsed": false
   },
   "outputs": [
    {
     "name": "stdout",
     "output_type": "stream",
     "text": [
      "   1 - ([1999, 6471, 6463, 6464, 6459], 0, [], 1)\n",
      "   6 - ([4366, 5017, 1207, 1127, 3329, 5587, 4539, 5317, 6283, 346, 1299, 6360, 6300, 5002, 3601, 3950, 4466, 4540, 3359, 867, 1381], 99, [], 0)\n"
     ]
    }
   ],
   "source": [
    "print('{:4d} - {}'.format(sh_id_1,superhero_net_initalized.lookup(sh_id_1)[0]))\n",
    "print('{:4d} - {}'.format(sh_id_2,superhero_net_initalized.lookup(sh_id_2)[0]))"
   ]
  },
  {
   "cell_type": "code",
   "execution_count": 153,
   "metadata": {
    "collapsed": false
   },
   "outputs": [],
   "source": [
    "def expand_frontier(superhero):\n",
    "    if superhero[1][3]==1:\n",
    "        aux_out=[]\n",
    "        for sh_id in superhero[1][0]:\n",
    "            aux_out.append((sh_id,([],superhero[1][1]+1,superhero[1][2]+[superhero[0]],1)))\n",
    "        aux_out.append((superhero[0],(superhero[1][0],superhero[1][1],superhero[1][2],2)))\n",
    "        return aux_out\n",
    "    else:\n",
    "        return [ superhero ]\n",
    "\n",
    "superhero_net_expanded=superhero_net_initalized.flatMap(expand_frontier)"
   ]
  },
  {
   "cell_type": "code",
   "execution_count": 154,
   "metadata": {
    "collapsed": false,
    "scrolled": true
   },
   "outputs": [
    {
     "name": "stdout",
     "output_type": "stream",
     "text": [
      "   1 - ([1999, 6471, 6463, 6464, 6459], 0, [], 2)\n",
      "   6 - ([4366, 5017, 1207, 1127, 3329, 5587, 4539, 5317, 6283, 346, 1299, 6360, 6300, 5002, 3601, 3950, 4466, 4540, 3359, 867, 1381], 99, [], 0)\n",
      "1999 - ([], 1, [1], 1)\n",
      "1999 - ([1487, 6457, 6456, 6459, 6458, 6479, 6478, 6473, 6472, 6471, 6470, 6477, 1778, 6475, 6474, 1, 6480, 6468, 6469, 13, 14, 6461, 6463, 6464, 6467, 6460, 6455, 2399], 99, [], 0)\n",
      "6471 - ([], 1, [1], 1)\n",
      "6471 - ([6455, 6457, 6456, 6459, 6458, 6479, 6478, 6473, 6472, 6470, 6477, 1778, 6475, 6474, 1, 6480, 6468, 6469, 13, 14, 1999, 6461, 6463, 6464, 6465, 6467, 6460, 1487, 2399], 99, [], 0)\n",
      "6463 - ([], 1, [1], 1)\n",
      "6463 - ([1778, 6455, 6454, 6457, 6456, 6459, 6458, 6479, 6478, 6473, 6472, 6471, 6470, 6477, 6476, 6475, 6474, 1, 1319, 6480, 6468, 6469, 13, 14, 5184, 1999, 6461, 6462, 6464, 6465, 6466, 6467, 6460, 1487, 2399], 99, [], 0)\n",
      "6464 - ([], 1, [1], 1)\n",
      "6464 - ([1778, 6455, 6454, 6457, 6456, 6459, 6458, 6479, 6478, 6473, 6472, 6471, 6470, 6477, 6476, 6475, 6474, 1, 6480, 6468, 6469, 13, 14, 5184, 1999, 6461, 6462, 6463, 6465, 6466, 6467, 6460, 1487, 2399], 99, [], 0)\n",
      "6459 - ([], 1, [1], 1)\n",
      "6459 - ([1999, 6471, 6463, 6464, 1], 99, [], 0)\n"
     ]
    }
   ],
   "source": [
    "print('{:4d} - {}'.format(sh_id_1,superhero_net_expanded.lookup(sh_id_1)[0]))\n",
    "print('{:4d} - {}'.format(sh_id_2,superhero_net_expanded.lookup(sh_id_2)[0]))\n",
    "for sh_id in superhero_net_expanded.lookup(sh_id_1)[0][0]:\n",
    "    for superhero in superhero_net_expanded.lookup(sh_id):\n",
    "        print('{:4d} - {}'.format(sh_id,superhero))"
   ]
  },
  {
   "cell_type": "code",
   "execution_count": 155,
   "metadata": {
    "collapsed": false,
    "scrolled": true
   },
   "outputs": [],
   "source": [
    "def reduce_frontier(sh_1,sh_2):\n",
    "    return max(sh_1[0],sh_2[0]),min(sh_1[1],sh_2[1]),sh_1[2] if sh_1[1]<sh_2[1] else sh_2[2],max(sh_1[3],sh_2[3])\n",
    "\n",
    "superhero_net_reduced=superhero_net_expanded.reduceByKey(reduce_frontier)"
   ]
  },
  {
   "cell_type": "code",
   "execution_count": 156,
   "metadata": {
    "collapsed": false
   },
   "outputs": [
    {
     "name": "stdout",
     "output_type": "stream",
     "text": [
      "   1 - ([1999, 6471, 6463, 6464, 6459], 0, [], 2)\n",
      "   6 - ([4366, 5017, 1207, 1127, 3329, 5587, 4539, 5317, 6283, 346, 1299, 6360, 6300, 5002, 3601, 3950, 4466, 4540, 3359, 867, 1381], 99, [], 0)\n",
      "1999 - ([1487, 6457, 6456, 6459, 6458, 6479, 6478, 6473, 6472, 6471, 6470, 6477, 1778, 6475, 6474, 1, 6480, 6468, 6469, 13, 14, 6461, 6463, 6464, 6467, 6460, 6455, 2399], 1, [1], 1)\n",
      "6471 - ([6455, 6457, 6456, 6459, 6458, 6479, 6478, 6473, 6472, 6470, 6477, 1778, 6475, 6474, 1, 6480, 6468, 6469, 13, 14, 1999, 6461, 6463, 6464, 6465, 6467, 6460, 1487, 2399], 1, [1], 1)\n",
      "6463 - ([1778, 6455, 6454, 6457, 6456, 6459, 6458, 6479, 6478, 6473, 6472, 6471, 6470, 6477, 6476, 6475, 6474, 1, 1319, 6480, 6468, 6469, 13, 14, 5184, 1999, 6461, 6462, 6464, 6465, 6466, 6467, 6460, 1487, 2399], 1, [1], 1)\n",
      "6464 - ([1778, 6455, 6454, 6457, 6456, 6459, 6458, 6479, 6478, 6473, 6472, 6471, 6470, 6477, 6476, 6475, 6474, 1, 6480, 6468, 6469, 13, 14, 5184, 1999, 6461, 6462, 6463, 6465, 6466, 6467, 6460, 1487, 2399], 1, [1], 1)\n",
      "6459 - ([1999, 6471, 6463, 6464, 1], 1, [1], 1)\n"
     ]
    }
   ],
   "source": [
    "print('{:4d} - {}'.format(sh_id_1,superhero_net_reduced.lookup(sh_id_1)[0]))\n",
    "print('{:4d} - {}'.format(sh_id_2,superhero_net_reduced.lookup(sh_id_2)[0]))\n",
    "for sh_id in superhero_net_reduced.lookup(sh_id_1)[0][0]:\n",
    "    for superhero in superhero_net_reduced.lookup(sh_id):\n",
    "        print('{:4d} - {}'.format(sh_id,superhero))"
   ]
  },
  {
   "cell_type": "code",
   "execution_count": 157,
   "metadata": {
    "collapsed": false,
    "scrolled": false
   },
   "outputs": [
    {
     "name": "stdout",
     "output_type": "stream",
     "text": [
      "Iteration 1\n",
      "Iteration 2\n",
      "Iteration 3\n",
      "Iteration 4\n"
     ]
    }
   ],
   "source": [
    "sh_id_1=1\n",
    "sh_id_2=6\n",
    "max_cnt=10\n",
    "sh_id_2_found=sc.accumulator(0)\n",
    "superhero_net=(sc.textFile(\"/home/ggomarr/Documents/Education/Udemy_Spark/23_Marvel-Graph.txt\")\n",
    "                 .map(extract_record)\n",
    "                 .reduceByKey(lambda x, y: (x[0] + y[0],x[1],x[2],x[3]))\n",
    "                 .map(initialize_search))\n",
    "cnt=0\n",
    "while not sh_id_2_found.value and cnt<max_cnt:\n",
    "    cnt=cnt+1\n",
    "    print('Iteration {}'.format(cnt))\n",
    "    superhero_net=superhero_net.flatMap(expand_frontier)\n",
    "    superhero_net=superhero_net.reduceByKey(reduce_frontier)\n",
    "    if superhero_net.lookup(sh_id_2)[0][1]<99:\n",
    "        sh_id_2_found.add(1)"
   ]
  },
  {
   "cell_type": "code",
   "execution_count": 158,
   "metadata": {
    "collapsed": false
   },
   "outputs": [
    {
     "data": {
      "text/plain": [
       "([4366,\n",
       "  5017,\n",
       "  1207,\n",
       "  1127,\n",
       "  3329,\n",
       "  5587,\n",
       "  4539,\n",
       "  5317,\n",
       "  6283,\n",
       "  346,\n",
       "  1299,\n",
       "  6360,\n",
       "  6300,\n",
       "  5002,\n",
       "  3601,\n",
       "  3950,\n",
       "  4466,\n",
       "  4540,\n",
       "  3359,\n",
       "  867,\n",
       "  1381],\n",
       " 4,\n",
       " [1, 6471, 2399, 6300],\n",
       " 1)"
      ]
     },
     "execution_count": 158,
     "metadata": {},
     "output_type": "execute_result"
    }
   ],
   "source": [
    "superhero_net.lookup(sh_id_2)[0]"
   ]
  },
  {
   "cell_type": "code",
   "execution_count": null,
   "metadata": {
    "collapsed": true
   },
   "outputs": [],
   "source": []
  }
 ],
 "metadata": {
  "kernelspec": {
   "display_name": "Python 2",
   "language": "python",
   "name": "python2"
  },
  "language_info": {
   "codemirror_mode": {
    "name": "ipython",
    "version": 2
   },
   "file_extension": ".py",
   "mimetype": "text/x-python",
   "name": "python",
   "nbconvert_exporter": "python",
   "pygments_lexer": "ipython2",
   "version": "2.7.12"
  }
 },
 "nbformat": 4,
 "nbformat_minor": 0
}
