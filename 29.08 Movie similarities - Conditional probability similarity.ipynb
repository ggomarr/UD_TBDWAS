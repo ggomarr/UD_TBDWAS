{
 "cells": [
  {
   "cell_type": "code",
   "execution_count": 1,
   "metadata": {
    "collapsed": true
   },
   "outputs": [],
   "source": [
    "import findspark\n",
    "findspark.init()"
   ]
  },
  {
   "cell_type": "code",
   "execution_count": 2,
   "metadata": {
    "collapsed": false
   },
   "outputs": [],
   "source": [
    "from pyspark import SparkConf, SparkContext\n",
    "conf = SparkConf().setMaster(\"local[*]\").setAppName(\"MovieSimilaritiesRedux008\")\n",
    "sc = SparkContext(conf = conf)"
   ]
  },
  {
   "cell_type": "code",
   "execution_count": 3,
   "metadata": {
    "collapsed": false,
    "scrolled": true
   },
   "outputs": [],
   "source": [
    "def process_movie_row(movie_row):\n",
    "    movie=movie_row.split()\n",
    "    user_id=int(movie[0])\n",
    "    movie_id=int(movie[1])\n",
    "    rating=float(movie[2])\n",
    "    return user_id,(movie_id,rating)\n",
    "\n",
    "user_movie_ratings=(sc.textFile(\"/home/ggomarr/Documents/Education/Udemy_Spark/ml-100k/u.data\")\n",
    "                      .map(process_movie_row))"
   ]
  },
  {
   "cell_type": "code",
   "execution_count": 4,
   "metadata": {
    "collapsed": false
   },
   "outputs": [
    {
     "name": "stdout",
     "output_type": "stream",
     "text": [
      "(196, (242, 3.0))\n",
      "(186, (302, 3.0))\n",
      "(22, (377, 1.0))\n",
      "(244, (51, 2.0))\n",
      "(166, (346, 1.0))\n",
      "(298, (474, 4.0))\n",
      "(115, (265, 2.0))\n",
      "(253, (465, 5.0))\n",
      "(305, (451, 3.0))\n",
      "(6, (86, 3.0))\n"
     ]
    }
   ],
   "source": [
    "for r in user_movie_ratings.take(10):\n",
    "    print(r)"
   ]
  },
  {
   "cell_type": "code",
   "execution_count": 5,
   "metadata": {
    "collapsed": false
   },
   "outputs": [],
   "source": [
    "user_mr_pairs=(user_movie_ratings.join(user_movie_ratings)\n",
    "                                 .filter(lambda x: x[1][0][0]<x[1][1][0])\n",
    "                                 .map(lambda x: ((x[1][0][0],x[1][1][0]),(x[1][0][1],x[1][1][1])))\n",
    "                                 .groupByKey())"
   ]
  },
  {
   "cell_type": "code",
   "execution_count": 6,
   "metadata": {
    "collapsed": false,
    "scrolled": true
   },
   "outputs": [
    {
     "name": "stdout",
     "output_type": "stream",
     "text": [
      "((197, 1097), <pyspark.resultiterable.ResultIterable object at 0x7f4a78ffc750>)\n",
      "((42, 364), <pyspark.resultiterable.ResultIterable object at 0x7f4a78ffc910>)\n",
      "((773, 1409), <pyspark.resultiterable.ResultIterable object at 0x7f4a78ffc950>)\n",
      "((273, 617), <pyspark.resultiterable.ResultIterable object at 0x7f4a78ffc990>)\n",
      "((372, 974), <pyspark.resultiterable.ResultIterable object at 0x7f4a78ffc9d0>)\n",
      "((789, 865), <pyspark.resultiterable.ResultIterable object at 0x7f4a78ffca10>)\n",
      "((496, 1314), <pyspark.resultiterable.ResultIterable object at 0x7f4a78ffca50>)\n",
      "((389, 493), <pyspark.resultiterable.ResultIterable object at 0x7f4a78ffca90>)\n",
      "((856, 1006), <pyspark.resultiterable.ResultIterable object at 0x7f4a78ffcad0>)\n",
      "((552, 754), <pyspark.resultiterable.ResultIterable object at 0x7f4a78ffcb10>)\n"
     ]
    }
   ],
   "source": [
    "for r in user_mr_pairs.take(10):\n",
    "    print(r)"
   ]
  },
  {
   "cell_type": "code",
   "execution_count": 15,
   "metadata": {
    "collapsed": false
   },
   "outputs": [],
   "source": [
    "def conditional_probability_similarity(ratings):\n",
    "    def compare(x,y):\n",
    "        if x>y:\n",
    "            return -1\n",
    "        elif x==y:\n",
    "            return 0\n",
    "        else:\n",
    "            return 1\n",
    "    ratings_comparison=[ compare(x,y) for x,y in ratings ]\n",
    "    num_pairs=len(ratings)\n",
    "    similarity=1.0*ratings_comparison.count(0)/num_pairs\n",
    "    return similarity,num_pairs\n",
    "    \n",
    "movie_pair_similarities=user_mr_pairs.mapValues(conditional_probability_similarity)"
   ]
  },
  {
   "cell_type": "code",
   "execution_count": 16,
   "metadata": {
    "collapsed": false
   },
   "outputs": [
    {
     "name": "stdout",
     "output_type": "stream",
     "text": [
      "((197, 1097), (0.2857142857142857, 7))\n",
      "((42, 364), (0.1111111111111111, 18))\n",
      "((773, 1409), (1.0, 1))\n",
      "((273, 617), (0.2857142857142857, 7))\n",
      "((372, 974), (0.0, 1))\n",
      "((789, 865), (0.3333333333333333, 3))\n",
      "((496, 1314), (0.5, 4))\n",
      "((389, 493), (0.2857142857142857, 7))\n",
      "((856, 1006), (0.3, 10))\n",
      "((552, 754), (0.0, 2))\n"
     ]
    }
   ],
   "source": [
    "for r in movie_pair_similarities.take(10):\n",
    "    print(r)"
   ]
  },
  {
   "cell_type": "code",
   "execution_count": 17,
   "metadata": {
    "collapsed": false
   },
   "outputs": [],
   "source": [
    "target_movie=50\n",
    "min_similarity=0.25\n",
    "min_num_rating_pairs=25\n",
    "\n",
    "target_movie_filtered=movie_pair_similarities.filter(lambda x: ((x[0][0]==target_movie) or \\\n",
    "                                                                 (x[0][1]==target_movie)) and \\\n",
    "                                                                 x[1][0]>=min_similarity and \\\n",
    "                                                                 x[1][1]>=min_num_rating_pairs)"
   ]
  },
  {
   "cell_type": "code",
   "execution_count": 18,
   "metadata": {
    "collapsed": false
   },
   "outputs": [
    {
     "name": "stdout",
     "output_type": "stream",
     "text": [
      "((50, 172), (0.6434782608695652, 345))\n",
      "((50, 114), (0.5862068965517241, 58))\n",
      "((50, 169), (0.5728155339805825, 103))\n",
      "((50, 174), (0.5710526315789474, 380))\n",
      "((50, 181), (0.5625, 480))\n",
      "((50, 641), (0.56, 25))\n",
      "((50, 963), (0.525, 40))\n",
      "((50, 408), (0.5217391304347826, 92))\n",
      "((50, 936), (0.5185185185185185, 27))\n",
      "((50, 1142), (0.4864864864864865, 37))\n"
     ]
    }
   ],
   "source": [
    "for r in target_movie_filtered.takeOrdered(10,key=lambda x: (-x[1][0],-x[1][1])):\n",
    "    print(r)"
   ]
  },
  {
   "cell_type": "code",
   "execution_count": 19,
   "metadata": {
    "collapsed": true
   },
   "outputs": [],
   "source": [
    "def process_movie_names_file(movie_names_file):\n",
    "    movie_names_dict={}\n",
    "    with open(movie_names_file) as f:\n",
    "        for movie_row in f:\n",
    "            movie=movie_row.split('|')\n",
    "            movie_id=int(movie[0])\n",
    "            movie_title=movie[1]\n",
    "            movie_names_dict[movie_id]=movie_title\n",
    "    return movie_names_dict\n",
    "\n",
    "movie_names_file=\"/home/ggomarr/Documents/Education/Udemy_Spark/ml-100k/u.item\"\n",
    "movie_names_dict=process_movie_names_file(movie_names_file)"
   ]
  },
  {
   "cell_type": "code",
   "execution_count": 20,
   "metadata": {
    "collapsed": false
   },
   "outputs": [
    {
     "name": "stdout",
     "output_type": "stream",
     "text": [
      "Most similar movies to Star Wars (1977)\n",
      "0.6435 (345): Empire Strikes Back, The (1980)\n",
      "0.5862 ( 58): Wallace & Gromit: The Best of Aardman Animation (1996)\n",
      "0.5728 (103): Wrong Trousers, The (1993)\n",
      "0.5711 (380): Raiders of the Lost Ark (1981)\n",
      "0.5625 (480): Return of the Jedi (1983)\n",
      "0.5600 ( 25): Paths of Glory (1957)\n",
      "0.5250 ( 40): Some Folks Call It a Sling Blade (1993)\n",
      "0.5217 ( 92): Close Shave, A (1995)\n",
      "0.5185 ( 27): Brassed Off (1996)\n",
      "0.4865 ( 37): When We Were Kings (1996)\n"
     ]
    }
   ],
   "source": [
    "print('Most similar movies to {}'.format(movie_names_dict[target_movie]))\n",
    "for r in target_movie_filtered.takeOrdered(10,key=lambda x: (-x[1][0],-x[1][1])):\n",
    "    print('{:.4f} ({:3}): {}'.format(r[1][0],r[1][1],movie_names_dict[r[0][0] if r[0][0]<>target_movie else r[0][1]]))"
   ]
  },
  {
   "cell_type": "code",
   "execution_count": null,
   "metadata": {
    "collapsed": true
   },
   "outputs": [],
   "source": []
  }
 ],
 "metadata": {
  "kernelspec": {
   "display_name": "Python 2",
   "language": "python",
   "name": "python2"
  },
  "language_info": {
   "codemirror_mode": {
    "name": "ipython",
    "version": 2
   },
   "file_extension": ".py",
   "mimetype": "text/x-python",
   "name": "python",
   "nbconvert_exporter": "python",
   "pygments_lexer": "ipython2",
   "version": "2.7.12"
  }
 },
 "nbformat": 4,
 "nbformat_minor": 0
}
