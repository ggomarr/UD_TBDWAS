{
 "cells": [
  {
   "cell_type": "markdown",
   "metadata": {},
   "source": [
    "# 29.12 Movie similarities\n",
    "- 100K\n",
    "- Broadcasting title, average rating, and genre vector dictionary\n",
    "- Streamlined (this time for real)\n",
    "- Removing bad rated movies at the end\n",
    "- Cosine similarity for movie ratings\n",
    "- Cosine similarity for movie genres"
   ]
  },
  {
   "cell_type": "code",
   "execution_count": 1,
   "metadata": {
    "collapsed": true
   },
   "outputs": [],
   "source": [
    "import findspark\n",
    "findspark.init()"
   ]
  },
  {
   "cell_type": "code",
   "execution_count": 2,
   "metadata": {
    "collapsed": false
   },
   "outputs": [],
   "source": [
    "from pyspark import SparkConf, SparkContext\n",
    "conf = SparkConf().setMaster(\"local[*]\").setAppName(\"MovieSimilaritiesRedux012\")\n",
    "sc = SparkContext(conf = conf)"
   ]
  },
  {
   "cell_type": "code",
   "execution_count": 3,
   "metadata": {
    "collapsed": false,
    "scrolled": true
   },
   "outputs": [],
   "source": [
    "def process_user_movie_rating(movie_row):\n",
    "    movie=movie_row.split()\n",
    "    user_id=int(movie[0])\n",
    "    movie_id=int(movie[1])\n",
    "    rating=float(movie[2])\n",
    "    return user_id,(movie_id,rating)\n",
    "\n",
    "user_movie_ratings=(sc.textFile(\"/home/ggomarr/Documents/Education/Udemy_Spark/ml-100k/u.data\")\n",
    "                      .map(process_user_movie_rating))"
   ]
  },
  {
   "cell_type": "code",
   "execution_count": 5,
   "metadata": {
    "collapsed": false
   },
   "outputs": [],
   "source": [
    "mr_pairs=(user_movie_ratings.join(user_movie_ratings)\n",
    "                            .filter(lambda x: x[1][0][0]<x[1][1][0])\n",
    "                            .map(lambda x: ((x[1][0][0],x[1][1][0]),\n",
    "                                            [(x[1][0][0],x[1][1][0]),(x[1][0][1],x[1][1][1])]))\n",
    "                            .reduceByKey(lambda x,y: x+y[1:]))"
   ]
  },
  {
   "cell_type": "code",
   "execution_count": 10,
   "metadata": {
    "collapsed": false
   },
   "outputs": [],
   "source": [
    "def process_movie_rating(movie_row):\n",
    "    movie=movie_row.split()\n",
    "    movie_id=int(movie[1])\n",
    "    rating=float(movie[2])\n",
    "    return (movie_id,(rating,1))\n",
    "\n",
    "movie_ar_dict=(sc.textFile(\"/home/ggomarr/Documents/Education/Udemy_Spark/ml-100k/u.data\")\n",
    "                 .map(process_movie_rating)\n",
    "                 .reduceByKey(lambda x,y: (x[0]+y[0],x[1]+y[1]))\n",
    "                 .mapValues(lambda x: (x[0]/x[1],x[1]))\n",
    "                 .collectAsMap())"
   ]
  },
  {
   "cell_type": "code",
   "execution_count": 12,
   "metadata": {
    "collapsed": true
   },
   "outputs": [],
   "source": [
    "def build_movie_dict(file_nom,ratings_dict={}):\n",
    "    movie_dict={}\n",
    "    with open(file_nom) as f:\n",
    "        for movie_row in f:\n",
    "            movie=movie_row.split('|')\n",
    "            movie_id=int(movie[0])\n",
    "            movie_title=movie[1]\n",
    "            movie_genres=[int(g) for g in movie[5:]]\n",
    "            if movie_id in ratings_dict.keys():\n",
    "                movie_avg=ratings_dict[movie_id][0]\n",
    "                movie_cnt=ratings_dict[movie_id][1]\n",
    "            else:\n",
    "                movie_avg=0\n",
    "                movie_cnt=0\n",
    "            movie_dict[movie_id]=(movie_avg,movie_cnt,movie_title,movie_genres)\n",
    "    return movie_dict\n",
    "\n",
    "movie_dict=sc.broadcast(build_movie_dict(\"/home/ggomarr/Documents/Education/Udemy_Spark/ml-100k/u.item\",\n",
    "                                         movie_ar_dict))"
   ]
  },
  {
   "cell_type": "code",
   "execution_count": 14,
   "metadata": {
    "collapsed": false
   },
   "outputs": [],
   "source": [
    "def cosine_similarity(v1,v2):\n",
    "    from math import sqrt\n",
    "    def mult_vectors(a,b):\n",
    "        return sum([1.0*a[n]*b[n] for n in range(len(a))])\n",
    "    try:\n",
    "        return mult_vectors(v1,v2)/(sqrt(mult_vectors(v1,v1)) * sqrt(mult_vectors(v2,v2)))\n",
    "    except:\n",
    "        return 0\n",
    "\n",
    "def compute_similarity(movie_pair_data,genre_weight=0.25):\n",
    "    movie_ids=movie_pair_data[0]\n",
    "    rating_pairs=movie_pair_data[1:]\n",
    "    num_pairs=len(rating_pairs)\n",
    "    ur_similarity=cosine_similarity(*zip(*rating_pairs))\n",
    "    gr_similarity=cosine_similarity(movie_dict.value[movie_ids[0]][3],\n",
    "                                    movie_dict.value[movie_ids[1]][3])\n",
    "    return (ur_similarity+genre_weight*gr_similarity,num_pairs)\n",
    "\n",
    "movie_pair_similarities=mr_pairs.mapValues(compute_similarity)"
   ]
  },
  {
   "cell_type": "code",
   "execution_count": 22,
   "metadata": {
    "collapsed": true
   },
   "outputs": [],
   "source": [
    "target_movie=50\n",
    "min_rating=4\n",
    "min_similarity=0.95\n",
    "min_num_rating_pairs=25\n",
    "\n",
    "def extract_sim_to_target(movie_pair_data,target_movie=target_movie):\n",
    "    movie_ids=movie_pair_data[0]\n",
    "    sim_id=movie_ids[0] if movie_ids[0]<>target_movie else movie_ids[1]\n",
    "    sim_val=movie_pair_data[1][0]\n",
    "    sim_num=movie_pair_data[1][1]\n",
    "    sim_ar=movie_dict.value[sim_id][0]\n",
    "    return (sim_val,(sim_id,sim_ar,sim_num))\n",
    "\n",
    "sims_to_target=(movie_pair_similarities.filter(lambda x: ((x[0][0]==target_movie) or (x[0][1]==target_movie)) and \\\n",
    "                                                         x[1][0]>=min_similarity and \\\n",
    "                                                         x[1][1]>=min_num_rating_pairs)\n",
    "                                       .map(extract_sim_to_target)\n",
    "                                       .filter(lambda x: x[1][1]>=min_rating))"
   ]
  },
  {
   "cell_type": "code",
   "execution_count": 28,
   "metadata": {
    "collapsed": false,
    "scrolled": true
   },
   "outputs": [
    {
     "name": "stdout",
     "output_type": "stream",
     "text": [
      "Most similar movies to   50 [ 583] (4.36) - Star Wars (1977)\n",
      " 181 [1.24,  480 / 507] (4.01): Return of the Jedi (1983)\n",
      " 172 [1.22,  345 / 367] (4.20): Empire Strikes Back, The (1980)\n",
      " 498 [1.20,  138 / 152] (4.18): African Queen, The (1951)\n",
      " 174 [1.14,  380 / 420] (4.25): Raiders of the Lost Ark (1981)\n",
      " 173 [1.14,  284 / 324] (4.17): Princess Bride, The (1987)\n",
      " 511 [1.13,  153 / 173] (4.23): Lawrence of Arabia (1962)\n",
      " 520 [1.12,  107 / 124] (4.10): Great Escape, The (1963)\n",
      " 474 [1.12,  171 / 194] (4.25): Dr. Strangelove or: How I Learned to Stop Worrying and Love the Bomb (1963)\n",
      " 483 [1.10,  214 / 243] (4.46): Casablanca (1942)\n",
      " 651 [1.10,  155 / 171] (4.08): Glory (1989)\n"
     ]
    }
   ],
   "source": [
    "target_info=movie_dict.value[target_movie]\n",
    "print('Most similar movies to {:4d} [{:4d}] ({:.2f}) - {}'.format(target_movie,\n",
    "                                                                   target_info[1],target_info[0],target_info[2]))\n",
    "for r in sims_to_target.sortByKey(ascending=False).take(10):\n",
    "    sim_val=r[0]\n",
    "    sim_id=r[1][0]\n",
    "    sim_num=r[1][2]\n",
    "    sim_info=movie_dict.value[sim_id]\n",
    "    print('{:4d} [{:.2f}, {:4d}/{:4d}] ({:.2f}): {}'.format(sim_id,sim_val,sim_num,\n",
    "                                                            sim_info[1],sim_info[0],sim_info[2]))"
   ]
  },
  {
   "cell_type": "code",
   "execution_count": null,
   "metadata": {
    "collapsed": true
   },
   "outputs": [],
   "source": []
  }
 ],
 "metadata": {
  "kernelspec": {
   "display_name": "Python 2",
   "language": "python",
   "name": "python2"
  },
  "language_info": {
   "codemirror_mode": {
    "name": "ipython",
    "version": 2
   },
   "file_extension": ".py",
   "mimetype": "text/x-python",
   "name": "python",
   "nbconvert_exporter": "python",
   "pygments_lexer": "ipython2",
   "version": "2.7.12"
  }
 },
 "nbformat": 4,
 "nbformat_minor": 0
}
