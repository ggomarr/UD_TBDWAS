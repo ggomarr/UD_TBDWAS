{
 "cells": [
  {
   "cell_type": "code",
   "execution_count": 1,
   "metadata": {
    "collapsed": true
   },
   "outputs": [],
   "source": [
    "import findspark\n",
    "findspark.init()"
   ]
  },
  {
   "cell_type": "code",
   "execution_count": 2,
   "metadata": {
    "collapsed": false
   },
   "outputs": [],
   "source": [
    "from pyspark import SparkConf, SparkContext\n",
    "conf = SparkConf().setMaster(\"local[*]\").setAppName(\"MovieSimilaritiesRedux004\")\n",
    "sc = SparkContext(conf = conf)"
   ]
  },
  {
   "cell_type": "code",
   "execution_count": 3,
   "metadata": {
    "collapsed": false,
    "scrolled": true
   },
   "outputs": [],
   "source": [
    "def process_movie_row(movie_row):\n",
    "    movie=movie_row.split()\n",
    "    user_id=int(movie[0])\n",
    "    movie_id=int(movie[1])\n",
    "    rating=float(movie[2])\n",
    "    return user_id,(movie_id,rating)\n",
    "\n",
    "user_movie_ratings=(sc.textFile(\"/home/ggomarr/Documents/Education/Udemy_Spark/ml-100k/u.data\")\n",
    "                      .map(process_movie_row))"
   ]
  },
  {
   "cell_type": "code",
   "execution_count": 4,
   "metadata": {
    "collapsed": false
   },
   "outputs": [
    {
     "name": "stdout",
     "output_type": "stream",
     "text": [
      "(196, (242, 3.0))\n",
      "(186, (302, 3.0))\n",
      "(22, (377, 1.0))\n",
      "(244, (51, 2.0))\n",
      "(166, (346, 1.0))\n",
      "(298, (474, 4.0))\n",
      "(115, (265, 2.0))\n",
      "(253, (465, 5.0))\n",
      "(305, (451, 3.0))\n",
      "(6, (86, 3.0))\n"
     ]
    }
   ],
   "source": [
    "for r in user_movie_ratings.take(10):\n",
    "    print(r)"
   ]
  },
  {
   "cell_type": "code",
   "execution_count": 5,
   "metadata": {
    "collapsed": false
   },
   "outputs": [],
   "source": [
    "user_mr_pairs=(user_movie_ratings.join(user_movie_ratings)\n",
    "                                 .filter(lambda x: x[1][0][0]<x[1][1][0])\n",
    "                                 .map(lambda x: ((x[1][0][0],x[1][1][0]),(x[1][0][1],x[1][1][1])))\n",
    "                                 .groupByKey())"
   ]
  },
  {
   "cell_type": "code",
   "execution_count": 6,
   "metadata": {
    "collapsed": false,
    "scrolled": true
   },
   "outputs": [
    {
     "name": "stdout",
     "output_type": "stream",
     "text": [
      "((197, 1097), <pyspark.resultiterable.ResultIterable object at 0x7f88ee772450>)\n",
      "((42, 364), <pyspark.resultiterable.ResultIterable object at 0x7f88ee7721d0>)\n",
      "((773, 1409), <pyspark.resultiterable.ResultIterable object at 0x7f88ee772210>)\n",
      "((273, 617), <pyspark.resultiterable.ResultIterable object at 0x7f88ee772250>)\n",
      "((372, 974), <pyspark.resultiterable.ResultIterable object at 0x7f88ee772090>)\n",
      "((789, 865), <pyspark.resultiterable.ResultIterable object at 0x7f88ee7722d0>)\n",
      "((496, 1314), <pyspark.resultiterable.ResultIterable object at 0x7f88ee7725d0>)\n",
      "((389, 493), <pyspark.resultiterable.ResultIterable object at 0x7f88ee772610>)\n",
      "((856, 1006), <pyspark.resultiterable.ResultIterable object at 0x7f88ee772650>)\n",
      "((552, 754), <pyspark.resultiterable.ResultIterable object at 0x7f88ee772690>)\n"
     ]
    }
   ],
   "source": [
    "for r in user_mr_pairs.take(10):\n",
    "    print(r)"
   ]
  },
  {
   "cell_type": "code",
   "execution_count": 7,
   "metadata": {
    "collapsed": false
   },
   "outputs": [],
   "source": [
    "def pearson_similarity(ratings):\n",
    "    from scipy.stats.stats import pearsonr\n",
    "    v1,v2=zip(*ratings)\n",
    "    num_pairs=len(v1)\n",
    "    return pearsonr(v1,v2)[0],num_pairs\n",
    "    \n",
    "movie_pair_similarities=user_mr_pairs.mapValues(pearson_similarity)"
   ]
  },
  {
   "cell_type": "code",
   "execution_count": 8,
   "metadata": {
    "collapsed": false
   },
   "outputs": [
    {
     "name": "stdout",
     "output_type": "stream",
     "text": [
      "((197, 1097), (0.63586706399759618, 7))\n",
      "((42, 364), (-0.077864642904380901, 18))\n",
      "((773, 1409), (nan, 1))\n",
      "((273, 617), (0.21459876881973802, 7))\n",
      "((372, 974), (nan, 1))\n",
      "((789, 865), (1.0, 3))\n",
      "((496, 1314), (nan, 4))\n",
      "((389, 493), (0.0, 7))\n",
      "((856, 1006), (0.6805446536716202, 10))\n",
      "((552, 754), (nan, 2))\n"
     ]
    }
   ],
   "source": [
    "for r in movie_pair_similarities.take(10):\n",
    "    print(r)"
   ]
  },
  {
   "cell_type": "code",
   "execution_count": 9,
   "metadata": {
    "collapsed": false
   },
   "outputs": [],
   "source": [
    "target_movie=50\n",
    "min_similarity=0.5\n",
    "min_num_rating_pairs=25\n",
    "\n",
    "target_movie_filtered=movie_pair_similarities.filter(lambda x: ((x[0][0]==target_movie) or \\\n",
    "                                                                 (x[0][1]==target_movie)) and \\\n",
    "                                                                 x[1][0]>=min_similarity and \\\n",
    "                                                                 x[1][1]>=min_num_rating_pairs)"
   ]
  },
  {
   "cell_type": "code",
   "execution_count": 10,
   "metadata": {
    "collapsed": false
   },
   "outputs": [
    {
     "name": "stdout",
     "output_type": "stream",
     "text": [
      "((50, 172), (0.74798142237886811, 345))\n",
      "((50, 181), (0.67255585588760702, 480))\n",
      "((50, 174), (0.53611710137293112, 380))\n",
      "((50, 1226), (0.51529081620737816, 28))\n",
      "((50, 1142), (0.51516406681876525, 37))\n",
      "((50, 936), (0.51510769706017157, 27))\n",
      "((50, 963), (0.5090161595253091, 40))\n"
     ]
    }
   ],
   "source": [
    "for r in target_movie_filtered.takeOrdered(10,key=lambda x: (-x[1][0],-x[1][1])):\n",
    "    print(r)"
   ]
  },
  {
   "cell_type": "code",
   "execution_count": 11,
   "metadata": {
    "collapsed": true
   },
   "outputs": [],
   "source": [
    "def process_movie_names_file(movie_names_file):\n",
    "    movie_names_dict={}\n",
    "    with open(movie_names_file) as f:\n",
    "        for movie_row in f:\n",
    "            movie=movie_row.split('|')\n",
    "            movie_id=int(movie[0])\n",
    "            movie_title=movie[1]\n",
    "            movie_names_dict[movie_id]=movie_title\n",
    "    return movie_names_dict\n",
    "\n",
    "movie_names_file=\"/home/ggomarr/Documents/Education/Udemy_Spark/ml-100k/u.item\"\n",
    "movie_names_dict=process_movie_names_file(movie_names_file)"
   ]
  },
  {
   "cell_type": "code",
   "execution_count": 12,
   "metadata": {
    "collapsed": false
   },
   "outputs": [
    {
     "name": "stdout",
     "output_type": "stream",
     "text": [
      "Most similar movies to Star Wars (1977)\n",
      "0.7480 (345): Empire Strikes Back, The (1980)\n",
      "0.6726 (480): Return of the Jedi (1983)\n",
      "0.5361 (380): Raiders of the Lost Ark (1981)\n",
      "0.5153 ( 28): Night Falls on Manhattan (1997)\n",
      "0.5152 ( 37): When We Were Kings (1996)\n",
      "0.5151 ( 27): Brassed Off (1996)\n",
      "0.5090 ( 40): Some Folks Call It a Sling Blade (1993)\n"
     ]
    }
   ],
   "source": [
    "print('Most similar movies to {}'.format(movie_names_dict[target_movie]))\n",
    "for r in target_movie_filtered.takeOrdered(10,key=lambda x: (-x[1][0],-x[1][1])):\n",
    "    print('{:.4f} ({:3}): {}'.format(r[1][0],r[1][1],movie_names_dict[r[0][0] if r[0][0]<>target_movie else r[0][1]]))"
   ]
  },
  {
   "cell_type": "code",
   "execution_count": null,
   "metadata": {
    "collapsed": true
   },
   "outputs": [],
   "source": []
  }
 ],
 "metadata": {
  "kernelspec": {
   "display_name": "Python 2",
   "language": "python",
   "name": "python2"
  },
  "language_info": {
   "codemirror_mode": {
    "name": "ipython",
    "version": 2
   },
   "file_extension": ".py",
   "mimetype": "text/x-python",
   "name": "python",
   "nbconvert_exporter": "python",
   "pygments_lexer": "ipython2",
   "version": "2.7.12"
  }
 },
 "nbformat": 4,
 "nbformat_minor": 0
}
