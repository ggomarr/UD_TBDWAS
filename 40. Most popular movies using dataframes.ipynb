{
 "cells": [
  {
   "cell_type": "code",
   "execution_count": 2,
   "metadata": {
    "collapsed": false
   },
   "outputs": [],
   "source": [
    "import findspark\n",
    "findspark.init()\n",
    "\n",
    "from pyspark.sql import SparkSession,Row,functions\n",
    "spark=SparkSession.builder.appName('SparkSQL040').getOrCreate()\n",
    "sc=spark.sparkContext"
   ]
  },
  {
   "cell_type": "code",
   "execution_count": 3,
   "metadata": {
    "collapsed": true
   },
   "outputs": [],
   "source": [
    "file_ratings_100K='/home/ggomarr/Documents/Education/Udemy_Spark/ml-100k/u.data'\n",
    "file_info_100K='/home/ggomarr/Documents/Education/Udemy_Spark/ml-100k/u.item'"
   ]
  },
  {
   "cell_type": "code",
   "execution_count": 49,
   "metadata": {
    "collapsed": true
   },
   "outputs": [],
   "source": [
    "def process_movie_rating_100K(movie_row):\n",
    "    movie=movie_row.split()\n",
    "    return Row(movie_id=int(movie[1]),\n",
    "               rating=float(movie[2]))\n",
    "\n",
    "def build_movie_dict_100K(file_nom):\n",
    "    movie_dict={}\n",
    "    with open(file_nom) as f:\n",
    "        for movie_row in f:\n",
    "            movie=movie_row.split('|')\n",
    "            movie_dict[int(movie[0])]=movie[1]\n",
    "    return movie_dict"
   ]
  },
  {
   "cell_type": "code",
   "execution_count": 50,
   "metadata": {
    "collapsed": true
   },
   "outputs": [],
   "source": [
    "movie_dict=build_movie_dict_100K(file_info_100K)\n",
    "\n",
    "from pyspark.sql.types import StringType\n",
    "title_grabber=functions.udf(lambda movie_id: movie_dict[movie_id],StringType())"
   ]
  },
  {
   "cell_type": "code",
   "execution_count": 41,
   "metadata": {
    "collapsed": false
   },
   "outputs": [
    {
     "name": "stdout",
     "output_type": "stream",
     "text": [
      "   1 - Toy Story (1995)\n",
      "   2 - GoldenEye (1995)\n",
      "   3 - Four Rooms (1995)\n",
      "   4 - Get Shorty (1995)\n",
      "   5 - Copycat (1995)\n",
      "   6 - Shanghai Triad (Yao a yao yao dao waipo qiao) (1995)\n",
      "   7 - Twelve Monkeys (1995)\n",
      "   8 - Babe (1995)\n",
      "   9 - Dead Man Walking (1995)\n",
      "  10 - Richard III (1995)\n"
     ]
    }
   ],
   "source": [
    "for key in movie_dict.keys()[:10]:\n",
    "    print('{:4d} - {}'.format(key,movie_dict[key]))"
   ]
  },
  {
   "cell_type": "code",
   "execution_count": 5,
   "metadata": {
    "collapsed": false
   },
   "outputs": [],
   "source": [
    "movies_rdd=sc.textFile(file_ratings_100K).map(process_movie_rating_100K)\n",
    "movies_df=spark.createDataFrame(movies_rdd)"
   ]
  },
  {
   "cell_type": "code",
   "execution_count": 6,
   "metadata": {
    "collapsed": false
   },
   "outputs": [
    {
     "name": "stdout",
     "output_type": "stream",
     "text": [
      "+--------+------+\n",
      "|movie_id|rating|\n",
      "+--------+------+\n",
      "|     242|   3.0|\n",
      "|     302|   3.0|\n",
      "|     377|   1.0|\n",
      "|      51|   2.0|\n",
      "|     346|   1.0|\n",
      "+--------+------+\n",
      "only showing top 5 rows\n",
      "\n"
     ]
    }
   ],
   "source": [
    "movies_df.show(5)"
   ]
  },
  {
   "cell_type": "code",
   "execution_count": 54,
   "metadata": {
    "collapsed": false,
    "scrolled": true
   },
   "outputs": [
    {
     "name": "stdout",
     "output_type": "stream",
     "text": [
      "+--------+-----+-------------------------+\n",
      "|movie_id|count|title                    |\n",
      "+--------+-----+-------------------------+\n",
      "|50      |583  |Star Wars (1977)         |\n",
      "|258     |509  |Contact (1997)           |\n",
      "|100     |508  |Fargo (1996)             |\n",
      "|181     |507  |Return of the Jedi (1983)|\n",
      "|294     |485  |Liar Liar (1997)         |\n",
      "+--------+-----+-------------------------+\n",
      "only showing top 5 rows\n",
      "\n"
     ]
    }
   ],
   "source": [
    "pop_movies=movies_df.groupBy('movie_id').count()\n",
    "\n",
    "(pop_movies.withColumn('title',title_grabber(mean_and_count['movie_id']))\n",
    "           .orderBy('count',ascending=False)\n",
    "           .show(5,False))"
   ]
  },
  {
   "cell_type": "code",
   "execution_count": 32,
   "metadata": {
    "collapsed": false,
    "scrolled": true
   },
   "outputs": [
    {
     "name": "stdout",
     "output_type": "stream",
     "text": [
      "+--------+-----------+\n",
      "|movie_id|mean_rating|\n",
      "+--------+-----------+\n",
      "|    1189|        5.0|\n",
      "|    1536|        5.0|\n",
      "|    1122|        5.0|\n",
      "|    1599|        5.0|\n",
      "|     814|        5.0|\n",
      "+--------+-----------+\n",
      "only showing top 5 rows\n",
      "\n"
     ]
    }
   ],
   "source": [
    "(movies_df.groupBy('movie_id')\n",
    "          .agg(functions.mean(movies_df['rating']).alias('mean_rating'))\n",
    "          .orderBy('mean_rating',ascending=False)\n",
    "          .show(5))"
   ]
  },
  {
   "cell_type": "code",
   "execution_count": 51,
   "metadata": {
    "collapsed": false
   },
   "outputs": [
    {
     "name": "stdout",
     "output_type": "stream",
     "text": [
      "+--------+-----------------+-----+------------------------------------------------------+\n",
      "|movie_id|rating           |count|title                                                 |\n",
      "+--------+-----------------+-----+------------------------------------------------------+\n",
      "|408     |4.491071428571429|112  |Close Shave, A (1995)                                 |\n",
      "|318     |4.466442953020135|298  |Schindler's List (1993)                               |\n",
      "|169     |4.466101694915254|118  |Wrong Trousers, The (1993)                            |\n",
      "|483     |4.45679012345679 |243  |Casablanca (1942)                                     |\n",
      "|114     |4.447761194029851|67   |Wallace & Gromit: The Best of Aardman Animation (1996)|\n",
      "+--------+-----------------+-----+------------------------------------------------------+\n",
      "only showing top 5 rows\n",
      "\n"
     ]
    }
   ],
   "source": [
    "mean_and_count=(movies_df.groupBy('movie_id')\n",
    "                         .agg({'rating':'mean','movie_id':'count'})\n",
    "                         .withColumnRenamed('avg(rating)','rating')\n",
    "                         .withColumnRenamed('count(movie_id)','count'))             \n",
    "\n",
    "(mean_and_count.withColumn('title',title_grabber(mean_and_count['movie_id']))\n",
    "               .filter(mean_and_count['count']>10)\n",
    "               .orderBy('rating',ascending=False)\n",
    "               .show(5,False))"
   ]
  },
  {
   "cell_type": "code",
   "execution_count": null,
   "metadata": {
    "collapsed": true
   },
   "outputs": [],
   "source": []
  }
 ],
 "metadata": {
  "kernelspec": {
   "display_name": "Python 2",
   "language": "python",
   "name": "python2"
  },
  "language_info": {
   "codemirror_mode": {
    "name": "ipython",
    "version": 2
   },
   "file_extension": ".py",
   "mimetype": "text/x-python",
   "name": "python",
   "nbconvert_exporter": "python",
   "pygments_lexer": "ipython2",
   "version": "2.7.12"
  }
 },
 "nbformat": 4,
 "nbformat_minor": 0
}
