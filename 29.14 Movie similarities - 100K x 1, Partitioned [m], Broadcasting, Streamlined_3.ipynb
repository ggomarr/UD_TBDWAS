{
 "cells": [
  {
   "cell_type": "markdown",
   "metadata": {},
   "source": [
    "# 29.14 Movie similarities\n",
    "- Local\n",
    "- 100K x 1.0\n",
    "- Partitioned [0,4,16,64,256]\n",
    "- Broadcasting title, average rating, and genre vector dictionary\n",
    "- Streamlined (this time for the real deal)\n",
    "- Timed\n",
    "- Removing bad rated movies at the end\n",
    "- Cosine similarity for movie ratings\n",
    "- Cosine similarity for movie genres"
   ]
  },
  {
   "cell_type": "code",
   "execution_count": 23,
   "metadata": {
    "collapsed": false
   },
   "outputs": [],
   "source": [
    "master='local[*]' # 'local[*]' or 'spark://1.1.1.102:7077' \n",
    "target_data='100K' # '100K' or '1M'\n",
    "data_fraction=1\n",
    "seed=42\n",
    "\n",
    "num_partitions_lst=[0,4,16,64,256]\n",
    "target_movie=50\n",
    "min_rating=4\n",
    "min_similarity=0.95\n",
    "min_num_rating_pairs=25\n",
    "\n",
    "file_ratings_100K='/home/ggomarr/Documents/Education/Udemy_Spark/ml-100k/u.data'\n",
    "file_info_100K='/home/ggomarr/Documents/Education/Udemy_Spark/ml-100k/u.item'\n",
    "\n",
    "file_ratings_1M=''\n",
    "file_info_1M=''"
   ]
  },
  {
   "cell_type": "code",
   "execution_count": 2,
   "metadata": {
    "collapsed": false
   },
   "outputs": [],
   "source": [
    "import datetime\n",
    "\n",
    "import findspark\n",
    "findspark.init()\n",
    "\n",
    "from pyspark import SparkConf, SparkContext\n",
    "conf=SparkConf().setMaster(master).setAppName('MovieSimilaritiesRedux014')\n",
    "sc=SparkContext(conf=conf)"
   ]
  },
  {
   "cell_type": "code",
   "execution_count": 3,
   "metadata": {
    "collapsed": false
   },
   "outputs": [],
   "source": [
    "def process_user_movie_rating_100K(movie_row):\n",
    "    movie=movie_row.split()\n",
    "    user_id=int(movie[0])\n",
    "    movie_id=int(movie[1])\n",
    "    rating=float(movie[2])\n",
    "    return user_id,(movie_id,rating)\n",
    "\n",
    "def process_movie_rating_100K(movie_row):\n",
    "    movie=movie_row.split()\n",
    "    movie_id=int(movie[1])\n",
    "    rating=float(movie[2])\n",
    "    return (movie_id,(rating,1))\n",
    "\n",
    "def build_movie_dict_100K(file_nom,ratings_dict={}):\n",
    "    movie_dict={}\n",
    "    with open(file_nom) as f:\n",
    "        for movie_row in f:\n",
    "            movie=movie_row.split('|')\n",
    "            movie_id=int(movie[0])\n",
    "            movie_title=movie[1]\n",
    "            movie_genres=[int(g) for g in movie[5:]]\n",
    "            if movie_id in ratings_dict.keys():\n",
    "                movie_avg=ratings_dict[movie_id][0]\n",
    "                movie_cnt=ratings_dict[movie_id][1]\n",
    "            else:\n",
    "                movie_avg=0\n",
    "                movie_cnt=0\n",
    "            movie_dict[movie_id]=(movie_avg,movie_cnt,movie_title,movie_genres)\n",
    "    return movie_dict\n",
    "\n",
    "def process_user_movie_rating_1M(movie_row):\n",
    "    movie=movie_row.split('::')\n",
    "    user_id=int(movie[0])\n",
    "    movie_id=int(movie[1])\n",
    "    rating=float(movie[2])\n",
    "    return user_id,(movie_id,rating)\n",
    "\n",
    "def process_movie_rating_1M(movie_row):\n",
    "    movie=movie_row.split('::')\n",
    "    movie_id=int(movie[1])\n",
    "    rating=float(movie[2])\n",
    "    return (movie_id,(rating,1))\n",
    "\n",
    "def build_movie_dict_1M(file_nom,ratings_dict={}):\n",
    "    movie_dict={}\n",
    "    with open(file_nom) as f:\n",
    "        for movie_row in f:\n",
    "            movie_row=movie_row.strip()\n",
    "            movie=movie_row.split('::')\n",
    "            movie_id=int(movie[0])\n",
    "            movie_title=movie[1]\n",
    "            genres=['Action','Adventure','Animation','Children\\'s','Comedy','Crime',\n",
    "                    'Documentary','Drama','Fantasy','Film-Noir','Horror',\n",
    "                    'Musical','Mystery','Romance','Sci-Fi','Thriller','War','Western']\n",
    "            movie_genres=[0]*len(genres)\n",
    "            for genre in movie[2].split('|'):\n",
    "                movie_genres[genres.index(genre)]=1\n",
    "            if movie_id in ratings_dict.keys():\n",
    "                movie_avg=ratings_dict[movie_id][0]\n",
    "                movie_cnt=ratings_dict[movie_id][1]\n",
    "            else:\n",
    "                movie_avg=0\n",
    "                movie_cnt=0\n",
    "            movie_dict[movie_id]=(movie_avg,movie_cnt,movie_title,movie_genres)\n",
    "    return movie_dict\n",
    "\n",
    "def cosine_similarity(v1,v2):\n",
    "    from math import sqrt\n",
    "    def mult_vectors(a,b):\n",
    "        return sum([1.0*a[n]*b[n] for n in range(len(a))])\n",
    "    try:\n",
    "        return mult_vectors(v1,v2)/(sqrt(mult_vectors(v1,v1)) * sqrt(mult_vectors(v2,v2)))\n",
    "    except:\n",
    "        return 0\n",
    "\n",
    "def jaccard_similarity(v1,v2):\n",
    "    from sklearn.metrics import jaccard_similarity_score\n",
    "    return jaccard_similarity_score(v1,v2)\n",
    "    \n",
    "def compute_similarity(movie_pair_data,genre_weight=0.25,target_movie=target_movie):\n",
    "    movie_ids=movie_pair_data[0]\n",
    "    similar_id=movie_ids[0] if movie_ids[0]<>target_movie else movie_ids[1]\n",
    "    similar_movie_ar=movie_dict.value[similar_id][0]\n",
    "    rating_pairs=movie_pair_data[1]\n",
    "    num_pairs=len(rating_pairs)\n",
    "    ur_similarity=cosine_similarity(*zip(*rating_pairs))\n",
    "    gr_similarity=cosine_similarity(movie_dict.value[movie_ids[0]][3],\n",
    "                                    movie_dict.value[movie_ids[1]][3])\n",
    "    similarity=ur_similarity+genre_weight*gr_similarity\n",
    "    return (similarity,num_pairs,similar_movie_ar,similar_id)\n",
    "\n",
    "def print_output(output):\n",
    "    target_info=movie_dict.value[target_movie]\n",
    "    print('Most similar movies to {} (Id: {}, AR: {:.2f}, NR: {})'.format(target_info[2],\n",
    "                                                                          target_movie,\n",
    "                                                                          target_info[0],\n",
    "                                                                          target_info[1]))\n",
    "    print(' Id     SR / AR     PR / NR   Title')\n",
    "    for r in output:\n",
    "        similarity=r[1][0]\n",
    "        num_pairs=r[1][1]\n",
    "        similar_id=r[1][3]\n",
    "        similar_info=movie_dict.value[similar_id]\n",
    "        print('{:4d} - {:.2f}/{:.2f} - {:4d}/{:4d}: {}'.format(similar_id,\n",
    "                                                                similarity,similar_info[0],\n",
    "                                                                num_pairs,similar_info[1],\n",
    "                                                                similar_info[2]))"
   ]
  },
  {
   "cell_type": "code",
   "execution_count": 4,
   "metadata": {
    "collapsed": true
   },
   "outputs": [],
   "source": [
    "if target_data=='100K':\n",
    "    file_ratings=file_ratings_100K\n",
    "    file_info=file_info_100K\n",
    "    process_movie_rating=process_movie_rating_100K\n",
    "    build_movie_dict=build_movie_dict_100K\n",
    "    process_user_movie_rating=process_user_movie_rating_100K\n",
    "else:\n",
    "    file_ratings=file_ratings_1M\n",
    "    file_info=file_info_1M\n",
    "    process_movie_rating=process_movie_rating_1M\n",
    "    build_movie_dict=build_movie_dict_1M\n",
    "    process_user_movie_rating=process_user_movie_rating_1M"
   ]
  },
  {
   "cell_type": "code",
   "execution_count": 5,
   "metadata": {
    "collapsed": false
   },
   "outputs": [
    {
     "name": "stdout",
     "output_type": "stream",
     "text": [
      "CPU times: user 72 ms, sys: 0 ns, total: 72 ms\n",
      "Wall time: 2.09 s\n"
     ]
    }
   ],
   "source": [
    "%%time\n",
    "\n",
    "movie_ar_dict=(sc.textFile(file_ratings)\n",
    "                 .map(process_movie_rating)\n",
    "                 .reduceByKey(lambda x,y: (x[0]+y[0],x[1]+y[1]))\n",
    "                 .mapValues(lambda x: (x[0]/x[1],x[1]))\n",
    "                 .collectAsMap())\n",
    "movie_dict=sc.broadcast(build_movie_dict(file_info,movie_ar_dict))"
   ]
  },
  {
   "cell_type": "code",
   "execution_count": 24,
   "metadata": {
    "collapsed": false
   },
   "outputs": [
    {
     "name": "stdout",
     "output_type": "stream",
     "text": [
      "CPU times: user 208 ms, sys: 56 ms, total: 264 ms\n",
      "Wall time: 51.3 s\n"
     ]
    }
   ],
   "source": [
    "%%time\n",
    "\n",
    "output_lst=[]\n",
    "\n",
    "for num_partitions in num_partitions_lst:\n",
    "    start_time=datetime.datetime.now()\n",
    "    user_movie_ratings=(sc.textFile(file_ratings)\n",
    "                          .sample(False,data_fraction,seed)\n",
    "                          .map(process_user_movie_rating))\n",
    "\n",
    "    if num_partitions>0:\n",
    "        user_movie_ratings=user_movie_ratings.partitionBy(num_partitions)\n",
    "\n",
    "    tm_mr_pairs=(user_movie_ratings.join(user_movie_ratings)\n",
    "                                   .filter(lambda x: ((x[1][0][0]==target_movie) or (x[1][1][0]==target_movie)) and \\\n",
    "                                                     x[1][0][0]<x[1][1][0])\n",
    "                                   .map(lambda x: ((x[1][0][0],x[1][1][0]),[(x[1][0][1],x[1][1][1])]))\n",
    "                                   .reduceByKey(lambda x,y: x+y))\n",
    "\n",
    "    tm_sims=(tm_mr_pairs.map(lambda x: (x[0],compute_similarity(x)),preservesPartitioning=True)\n",
    "                        .filter(lambda x: (x[1][0]>=min_similarity) and \\\n",
    "                                          (x[1][1]>=min_num_rating_pairs) and \\\n",
    "                                          (x[1][2]>=min_rating)))\n",
    "    output_rdd=tm_sims.takeOrdered(10,key=lambda x: -x[1][0])\n",
    "    elapsed_time=datetime.datetime.now()-start_time\n",
    "    output_lst=output_lst+[(num_partitions,elapsed_time,output_rdd)]"
   ]
  },
  {
   "cell_type": "code",
   "execution_count": 25,
   "metadata": {
    "collapsed": false
   },
   "outputs": [
    {
     "name": "stdout",
     "output_type": "stream",
     "text": [
      "Master: local[*], Partitions: 0, Time: 0:00:08\n",
      "Most similar movies to Star Wars (1977) (Id: 50, AR: 4.36, NR: 583)\n",
      " Id     SR / AR     PR / NR   Title\n",
      " 181 - 1.24/4.01 -  480/ 507: Return of the Jedi (1983)\n",
      " 172 - 1.22/4.20 -  345/ 367: Empire Strikes Back, The (1980)\n",
      " 498 - 1.20/4.18 -  138/ 152: African Queen, The (1951)\n",
      " 174 - 1.14/4.25 -  380/ 420: Raiders of the Lost Ark (1981)\n",
      " 173 - 1.14/4.17 -  284/ 324: Princess Bride, The (1987)\n",
      " 511 - 1.13/4.23 -  153/ 173: Lawrence of Arabia (1962)\n",
      " 520 - 1.12/4.10 -  107/ 124: Great Escape, The (1963)\n",
      " 474 - 1.12/4.25 -  171/ 194: Dr. Strangelove or: How I Learned to Stop Worrying and Love the Bomb (1963)\n",
      " 483 - 1.10/4.46 -  214/ 243: Casablanca (1942)\n",
      " 651 - 1.10/4.08 -  155/ 171: Glory (1989)\n",
      "Master: local[*], Partitions: 4, Time: 0:00:08\n",
      "Most similar movies to Star Wars (1977) (Id: 50, AR: 4.36, NR: 583)\n",
      " Id     SR / AR     PR / NR   Title\n",
      " 181 - 1.24/4.01 -  480/ 507: Return of the Jedi (1983)\n",
      " 172 - 1.22/4.20 -  345/ 367: Empire Strikes Back, The (1980)\n",
      " 498 - 1.20/4.18 -  138/ 152: African Queen, The (1951)\n",
      " 174 - 1.14/4.25 -  380/ 420: Raiders of the Lost Ark (1981)\n",
      " 173 - 1.14/4.17 -  284/ 324: Princess Bride, The (1987)\n",
      " 511 - 1.13/4.23 -  153/ 173: Lawrence of Arabia (1962)\n",
      " 520 - 1.12/4.10 -  107/ 124: Great Escape, The (1963)\n",
      " 474 - 1.12/4.25 -  171/ 194: Dr. Strangelove or: How I Learned to Stop Worrying and Love the Bomb (1963)\n",
      " 483 - 1.10/4.46 -  214/ 243: Casablanca (1942)\n",
      " 651 - 1.10/4.08 -  155/ 171: Glory (1989)\n",
      "Master: local[*], Partitions: 16, Time: 0:00:08\n",
      "Most similar movies to Star Wars (1977) (Id: 50, AR: 4.36, NR: 583)\n",
      " Id     SR / AR     PR / NR   Title\n",
      " 181 - 1.24/4.01 -  480/ 507: Return of the Jedi (1983)\n",
      " 172 - 1.22/4.20 -  345/ 367: Empire Strikes Back, The (1980)\n",
      " 498 - 1.20/4.18 -  138/ 152: African Queen, The (1951)\n",
      " 174 - 1.14/4.25 -  380/ 420: Raiders of the Lost Ark (1981)\n",
      " 173 - 1.14/4.17 -  284/ 324: Princess Bride, The (1987)\n",
      " 511 - 1.13/4.23 -  153/ 173: Lawrence of Arabia (1962)\n",
      " 520 - 1.12/4.10 -  107/ 124: Great Escape, The (1963)\n",
      " 474 - 1.12/4.25 -  171/ 194: Dr. Strangelove or: How I Learned to Stop Worrying and Love the Bomb (1963)\n",
      " 483 - 1.10/4.46 -  214/ 243: Casablanca (1942)\n",
      " 651 - 1.10/4.08 -  155/ 171: Glory (1989)\n",
      "Master: local[*], Partitions: 64, Time: 0:00:10\n",
      "Most similar movies to Star Wars (1977) (Id: 50, AR: 4.36, NR: 583)\n",
      " Id     SR / AR     PR / NR   Title\n",
      " 181 - 1.24/4.01 -  480/ 507: Return of the Jedi (1983)\n",
      " 172 - 1.22/4.20 -  345/ 367: Empire Strikes Back, The (1980)\n",
      " 498 - 1.20/4.18 -  138/ 152: African Queen, The (1951)\n",
      " 174 - 1.14/4.25 -  380/ 420: Raiders of the Lost Ark (1981)\n",
      " 173 - 1.14/4.17 -  284/ 324: Princess Bride, The (1987)\n",
      " 511 - 1.13/4.23 -  153/ 173: Lawrence of Arabia (1962)\n",
      " 520 - 1.12/4.10 -  107/ 124: Great Escape, The (1963)\n",
      " 474 - 1.12/4.25 -  171/ 194: Dr. Strangelove or: How I Learned to Stop Worrying and Love the Bomb (1963)\n",
      " 483 - 1.10/4.46 -  214/ 243: Casablanca (1942)\n",
      " 651 - 1.10/4.08 -  155/ 171: Glory (1989)\n",
      "Master: local[*], Partitions: 256, Time: 0:00:15\n",
      "Most similar movies to Star Wars (1977) (Id: 50, AR: 4.36, NR: 583)\n",
      " Id     SR / AR     PR / NR   Title\n",
      " 181 - 1.24/4.01 -  480/ 507: Return of the Jedi (1983)\n",
      " 172 - 1.22/4.20 -  345/ 367: Empire Strikes Back, The (1980)\n",
      " 498 - 1.20/4.18 -  138/ 152: African Queen, The (1951)\n",
      " 174 - 1.14/4.25 -  380/ 420: Raiders of the Lost Ark (1981)\n",
      " 173 - 1.14/4.17 -  284/ 324: Princess Bride, The (1987)\n",
      " 511 - 1.13/4.23 -  153/ 173: Lawrence of Arabia (1962)\n",
      " 520 - 1.12/4.10 -  107/ 124: Great Escape, The (1963)\n",
      " 474 - 1.12/4.25 -  171/ 194: Dr. Strangelove or: How I Learned to Stop Worrying and Love the Bomb (1963)\n",
      " 483 - 1.10/4.46 -  214/ 243: Casablanca (1942)\n",
      " 651 - 1.10/4.08 -  155/ 171: Glory (1989)\n"
     ]
    }
   ],
   "source": [
    "for output in output_lst:\n",
    "    print('Master: {}, Partitions: {}, Time: {}'.format(master,output[0],str(output[1]).split('.')[0]))\n",
    "    print_output(output[2])"
   ]
  },
  {
   "cell_type": "code",
   "execution_count": null,
   "metadata": {
    "collapsed": true
   },
   "outputs": [],
   "source": []
  }
 ],
 "metadata": {
  "kernelspec": {
   "display_name": "Python 2",
   "language": "python",
   "name": "python2"
  },
  "language_info": {
   "codemirror_mode": {
    "name": "ipython",
    "version": 2
   },
   "file_extension": ".py",
   "mimetype": "text/x-python",
   "name": "python",
   "nbconvert_exporter": "python",
   "pygments_lexer": "ipython2",
   "version": "2.7.12"
  }
 },
 "nbformat": 4,
 "nbformat_minor": 0
}
