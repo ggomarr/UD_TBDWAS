{
 "cells": [
  {
   "cell_type": "code",
   "execution_count": 1,
   "metadata": {
    "collapsed": true
   },
   "outputs": [],
   "source": [
    "import findspark\n",
    "findspark.init()"
   ]
  },
  {
   "cell_type": "code",
   "execution_count": 2,
   "metadata": {
    "collapsed": true
   },
   "outputs": [],
   "source": [
    "from pyspark import SparkConf, SparkContext\n",
    "conf = SparkConf().setMaster(\"local\").setAppName(\"PopularMovies\")\n",
    "sc = SparkContext(conf = conf)"
   ]
  },
  {
   "cell_type": "code",
   "execution_count": 11,
   "metadata": {
    "collapsed": false
   },
   "outputs": [],
   "source": [
    "lines=sc.textFile(\"/home/ggomarr/Documents/Education/Udemy_Spark/ml-100k/u.data\")\n",
    "moviesByCountSorted=(lines.map(lambda x: (int(x.split()[1]),1) )\n",
    "                          .reduceByKey(lambda x, y: x + y)\n",
    "                          .map(lambda x: (x[1], x[0]))\n",
    "                          .sortByKey(False))"
   ]
  },
  {
   "cell_type": "code",
   "execution_count": 12,
   "metadata": {
    "collapsed": false
   },
   "outputs": [
    {
     "name": "stdout",
     "output_type": "stream",
     "text": [
      "583 - 50\n",
      "509 - 258\n",
      "508 - 100\n",
      "507 - 181\n",
      "485 - 294\n",
      "481 - 286\n",
      "478 - 288\n",
      "452 - 1\n",
      "431 - 300\n",
      "429 - 121\n"
     ]
    }
   ],
   "source": [
    "for movie in moviesByCountSorted.take(10):\n",
    "    print('{} - {}'.format(movie[0],movie[1]))"
   ]
  },
  {
   "cell_type": "code",
   "execution_count": null,
   "metadata": {
    "collapsed": true
   },
   "outputs": [],
   "source": []
  }
 ],
 "metadata": {
  "kernelspec": {
   "display_name": "Python 2",
   "language": "python",
   "name": "python2"
  },
  "language_info": {
   "codemirror_mode": {
    "name": "ipython",
    "version": 2
   },
   "file_extension": ".py",
   "mimetype": "text/x-python",
   "name": "python",
   "nbconvert_exporter": "python",
   "pygments_lexer": "ipython2",
   "version": "2.7.12"
  }
 },
 "nbformat": 4,
 "nbformat_minor": 0
}
