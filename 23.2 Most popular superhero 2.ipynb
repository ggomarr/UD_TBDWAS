{
 "cells": [
  {
   "cell_type": "code",
   "execution_count": 2,
   "metadata": {
    "collapsed": true
   },
   "outputs": [],
   "source": [
    "import findspark\n",
    "findspark.init()"
   ]
  },
  {
   "cell_type": "code",
   "execution_count": 3,
   "metadata": {
    "collapsed": true
   },
   "outputs": [],
   "source": [
    "from pyspark import SparkConf, SparkContext\n",
    "conf = SparkConf().setMaster(\"local\").setAppName(\"MostPopularSuperhero2\")\n",
    "sc = SparkContext(conf = conf)"
   ]
  },
  {
   "cell_type": "code",
   "execution_count": 4,
   "metadata": {
    "collapsed": false
   },
   "outputs": [],
   "source": [
    "def extract_friends(super_hero_row):\n",
    "    super_hero=super_hero_row.split()\n",
    "    super_hero_id=int(super_hero[0])\n",
    "    super_hero_friends=[int(sh_id) for sh_id in super_hero[1:]]\n",
    "    return super_hero_id,super_hero_friends\n",
    "\n",
    "superhero_friends_raw=sc.textFile(\"/home/ggomarr/Documents/Education/Udemy_Spark/23_Marvel-Graph.txt\")\n",
    "superhero_friends_count_sorted=(superhero_friends_raw.map(extract_friends)\n",
    "                                                     .map(lambda x: (x[0],len(x[1])))\n",
    "                                                     .reduceByKey(lambda x, y: x + y)\n",
    "                                                     .map(lambda x: (x[1],x[0]))\n",
    "                                                     .sortByKey(False))"
   ]
  },
  {
   "cell_type": "code",
   "execution_count": 5,
   "metadata": {
    "collapsed": false
   },
   "outputs": [
    {
     "name": "stdout",
     "output_type": "stream",
     "text": [
      "1933 -  859\n",
      "1741 - 5306\n",
      "1528 - 2664\n",
      "1426 - 5716\n",
      "1394 - 6306\n",
      "1386 - 3805\n",
      "1371 - 2557\n",
      "1345 - 4898\n",
      "1289 - 5736\n",
      "1280 -  403\n"
     ]
    }
   ],
   "source": [
    "for superhero in superhero_friends_count_sorted.take(10):\n",
    "    print('{:4d} - {:4d}'.format(superhero[0],superhero[1]))"
   ]
  },
  {
   "cell_type": "code",
   "execution_count": 6,
   "metadata": {
    "collapsed": false,
    "scrolled": true
   },
   "outputs": [],
   "source": [
    "def prepare_superhero_dict(superhero_names_file):\n",
    "    import re\n",
    "    superhero_names_dict={}\n",
    "    with open(superhero_names_file) as f:\n",
    "        for superhero_row in f:\n",
    "            superhero=superhero_row.split(' ',1)\n",
    "            superhero_id=int(superhero[0])\n",
    "            superhero_name=re.sub('^[^a-zA-Z0-9\\s]*|[^a-zA-Z0-9\\s]*$','',superhero[1].strip())\n",
    "            superhero_names_dict[superhero_id]=superhero_name\n",
    "    return superhero_names_dict\n",
    "\n",
    "superhero_names_file=\"/home/ggomarr/Documents/Education/Udemy_Spark/23_Marvel-Names.txt\"\n",
    "superhero_names_dict=prepare_superhero_dict(superhero_names_file)"
   ]
  },
  {
   "cell_type": "code",
   "execution_count": 7,
   "metadata": {
    "collapsed": false,
    "scrolled": true
   },
   "outputs": [
    {
     "name": "stdout",
     "output_type": "stream",
     "text": [
      "   1 - 24-HOUR MAN/EMMANUEL\n",
      "   2 - 3-D MAN/CHARLES CHAN\n",
      "   3 - 4-D MAN/MERCURIO\n",
      "   4 - 8-BALL\n",
      "   5 - A\n",
      "   6 - A'YIN\n",
      "   7 - ABBOTT, JACK\n",
      "   8 - ABCISSA\n",
      "   9 - ABEL\n",
      "  10 - ABOMINATION/EMIL BLO\n"
     ]
    }
   ],
   "source": [
    "for superhero_id in range(1,11):\n",
    "    print('{:4d} - {}'.format(superhero_id,superhero_names_dict[superhero_id]))"
   ]
  },
  {
   "cell_type": "code",
   "execution_count": 8,
   "metadata": {
    "collapsed": false
   },
   "outputs": [
    {
     "name": "stdout",
     "output_type": "stream",
     "text": [
      "1933 -  859 - CAPTAIN AMERICA\n",
      "1741 - 5306 - SPIDER-MAN/PETER PAR\n",
      "1528 - 2664 - IRON MAN/TONY STARK \n",
      "1426 - 5716 - THING/BENJAMIN J. GR\n",
      "1394 - 6306 - WOLVERINE/LOGAN \n",
      "1386 - 3805 - MR. FANTASTIC/REED R\n",
      "1371 - 2557 - HUMAN TORCH/JOHNNY S\n",
      "1345 - 4898 - SCARLET WITCH/WANDA \n",
      "1289 - 5736 - THOR/DR. DONALD BLAK\n",
      "1280 -  403 - BEAST/HENRY &HANK& P\n"
     ]
    }
   ],
   "source": [
    "for superhero in superhero_friends_count_sorted.take(10):\n",
    "    print('{:3d} - {:4d} - {}'.format(superhero[0],superhero[1],superhero_names_dict[superhero[1]]))"
   ]
  },
  {
   "cell_type": "code",
   "execution_count": null,
   "metadata": {
    "collapsed": true
   },
   "outputs": [],
   "source": []
  }
 ],
 "metadata": {
  "kernelspec": {
   "display_name": "Python 2",
   "language": "python",
   "name": "python2"
  },
  "language_info": {
   "codemirror_mode": {
    "name": "ipython",
    "version": 2
   },
   "file_extension": ".py",
   "mimetype": "text/x-python",
   "name": "python",
   "nbconvert_exporter": "python",
   "pygments_lexer": "ipython2",
   "version": "2.7.12"
  }
 },
 "nbformat": 4,
 "nbformat_minor": 0
}
