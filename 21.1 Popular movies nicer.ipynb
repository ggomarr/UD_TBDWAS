{
 "cells": [
  {
   "cell_type": "code",
   "execution_count": 1,
   "metadata": {
    "collapsed": true
   },
   "outputs": [],
   "source": [
    "import findspark\n",
    "findspark.init()"
   ]
  },
  {
   "cell_type": "code",
   "execution_count": 2,
   "metadata": {
    "collapsed": true
   },
   "outputs": [],
   "source": [
    "from pyspark import SparkConf, SparkContext\n",
    "conf = SparkConf().setMaster(\"local\").setAppName(\"PopularMoviesNicer\")\n",
    "sc = SparkContext(conf = conf)"
   ]
  },
  {
   "cell_type": "code",
   "execution_count": 51,
   "metadata": {
    "collapsed": false
   },
   "outputs": [],
   "source": [
    "movie_counts_raw=sc.textFile(\"/home/ggomarr/Documents/Education/Udemy_Spark/ml-100k/u.data\")\n",
    "movie_counts=(movie_counts_raw.map(lambda x: (int(x.split()[1]),1) )\n",
    "                              .reduceByKey(lambda x, y: x + y))"
   ]
  },
  {
   "cell_type": "code",
   "execution_count": 53,
   "metadata": {
    "collapsed": false
   },
   "outputs": [
    {
     "name": "stdout",
     "output_type": "stream",
     "text": [
      "   1 - 452\n",
      "   2 - 131\n",
      "   3 -  90\n",
      "   4 - 209\n",
      "   5 -  86\n",
      "   6 -  26\n",
      "   7 - 392\n",
      "   8 - 219\n",
      "   9 - 299\n",
      "  10 -  89\n"
     ]
    }
   ],
   "source": [
    "for movie in movie_counts.take(10):\n",
    "    print('{:4d} - {:3d}'.format(movie[0],movie[1]))"
   ]
  },
  {
   "cell_type": "code",
   "execution_count": 54,
   "metadata": {
    "collapsed": false,
    "scrolled": true
   },
   "outputs": [],
   "source": [
    "def process_movie_row(movie_row):\n",
    "    movie=movie_row.split('|')\n",
    "    movie_id=int(movie[0])\n",
    "    movie_title=movie[1]\n",
    "    return (movie_id,movie_title)\n",
    "\n",
    "movie_names_raw=sc.textFile(\"/home/ggomarr/Documents/Education/Udemy_Spark/ml-100k/u.item\")\n",
    "movie_names=movie_names_raw.map(process_movie_row)"
   ]
  },
  {
   "cell_type": "code",
   "execution_count": 55,
   "metadata": {
    "collapsed": false
   },
   "outputs": [
    {
     "name": "stdout",
     "output_type": "stream",
     "text": [
      "   1 - Toy Story (1995)\n",
      "   2 - GoldenEye (1995)\n",
      "   3 - Four Rooms (1995)\n",
      "   4 - Get Shorty (1995)\n",
      "   5 - Copycat (1995)\n",
      "   6 - Shanghai Triad (Yao a yao yao dao waipo qiao) (1995)\n",
      "   7 - Twelve Monkeys (1995)\n",
      "   8 - Babe (1995)\n",
      "   9 - Dead Man Walking (1995)\n",
      "  10 - Richard III (1995)\n"
     ]
    }
   ],
   "source": [
    "for movie in movie_names.take(10):\n",
    "    print('{:4d} - {}'.format(movie[0],movie[1]))"
   ]
  },
  {
   "cell_type": "code",
   "execution_count": 56,
   "metadata": {
    "collapsed": true
   },
   "outputs": [],
   "source": [
    "movie_counts_with_names=movie_counts.join(movie_names)"
   ]
  },
  {
   "cell_type": "code",
   "execution_count": 57,
   "metadata": {
    "collapsed": false
   },
   "outputs": [
    {
     "name": "stdout",
     "output_type": "stream",
     "text": [
      "   2 - 131 - GoldenEye (1995)\n",
      "   4 - 209 - Get Shorty (1995)\n",
      "   6 -  26 - Shanghai Triad (Yao a yao yao dao waipo qiao) (1995)\n",
      "   8 - 219 - Babe (1995)\n",
      "  10 -  89 - Richard III (1995)\n",
      "  12 - 267 - Usual Suspects, The (1995)\n",
      "  14 - 183 - Postino, Il (1994)\n",
      "  16 -  39 - French Twist (Gazon maudit) (1995)\n",
      "  18 -  10 - White Balloon, The (1995)\n",
      "  20 -  72 - Angels and Insects (1995)\n"
     ]
    }
   ],
   "source": [
    "for movie in movie_counts_with_names.take(10):\n",
    "    print('{:4d} - {:3d} - {}'.format(movie[0],movie[1][0],movie[1][1]))"
   ]
  },
  {
   "cell_type": "code",
   "execution_count": 58,
   "metadata": {
    "collapsed": false
   },
   "outputs": [],
   "source": [
    "movie_counts_with_names_sorted=(movie_counts_with_names.map(lambda x: (x[1][0],(x[0],x[1][1])))\n",
    "                                                       .sortByKey(False))"
   ]
  },
  {
   "cell_type": "code",
   "execution_count": 60,
   "metadata": {
    "collapsed": false
   },
   "outputs": [
    {
     "name": "stdout",
     "output_type": "stream",
     "text": [
      "583 -   50 - Star Wars (1977)\n",
      "509 -  258 - Contact (1997)\n",
      "508 -  100 - Fargo (1996)\n",
      "507 -  181 - Return of the Jedi (1983)\n",
      "485 -  294 - Liar Liar (1997)\n",
      "481 -  286 - English Patient, The (1996)\n",
      "478 -  288 - Scream (1996)\n",
      "452 -    1 - Toy Story (1995)\n",
      "431 -  300 - Air Force One (1997)\n",
      "429 -  121 - Independence Day (ID4) (1996)\n"
     ]
    }
   ],
   "source": [
    "for movie in movie_counts_with_names_sorted.take(10):\n",
    "    print('{:3d} - {:4d} - {}'.format(movie[0],movie[1][0],movie[1][1]))"
   ]
  },
  {
   "cell_type": "code",
   "execution_count": null,
   "metadata": {
    "collapsed": true
   },
   "outputs": [],
   "source": []
  }
 ],
 "metadata": {
  "kernelspec": {
   "display_name": "Python 2",
   "language": "python",
   "name": "python2"
  },
  "language_info": {
   "codemirror_mode": {
    "name": "ipython",
    "version": 2
   },
   "file_extension": ".py",
   "mimetype": "text/x-python",
   "name": "python",
   "nbconvert_exporter": "python",
   "pygments_lexer": "ipython2",
   "version": "2.7.12"
  }
 },
 "nbformat": 4,
 "nbformat_minor": 0
}
