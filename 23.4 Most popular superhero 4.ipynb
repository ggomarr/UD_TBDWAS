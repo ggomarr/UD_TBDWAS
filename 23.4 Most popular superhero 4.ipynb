{
 "cells": [
  {
   "cell_type": "code",
   "execution_count": 1,
   "metadata": {
    "collapsed": true
   },
   "outputs": [],
   "source": [
    "import findspark\n",
    "findspark.init()"
   ]
  },
  {
   "cell_type": "code",
   "execution_count": 2,
   "metadata": {
    "collapsed": true
   },
   "outputs": [],
   "source": [
    "from pyspark import SparkConf, SparkContext\n",
    "conf = SparkConf().setMaster(\"local\").setAppName(\"MostPopularSuperhero4\")\n",
    "sc = SparkContext(conf = conf)"
   ]
  },
  {
   "cell_type": "code",
   "execution_count": 3,
   "metadata": {
    "collapsed": false
   },
   "outputs": [],
   "source": [
    "def extract_friends(super_hero_row):\n",
    "    super_hero=super_hero_row.split()\n",
    "    super_hero_id=int(super_hero[0])\n",
    "    super_hero_friends=[int(sh_id) for sh_id in super_hero[1:]]\n",
    "    return super_hero_id,super_hero_friends\n",
    "\n",
    "superhero_friends_raw=sc.textFile(\"/home/ggomarr/Documents/Education/Udemy_Spark/23_Marvel-Graph.txt\")\n",
    "superhero_friends_count=(superhero_friends_raw.map(extract_friends)\n",
    "                                              .map(lambda x: (x[0],len(x[1])))\n",
    "                                              .reduceByKey(lambda x, y: x + y)\n",
    "                                              .map(lambda x: (x[1],x[0])))"
   ]
  },
  {
   "cell_type": "code",
   "execution_count": 4,
   "metadata": {
    "collapsed": false
   },
   "outputs": [
    {
     "name": "stdout",
     "output_type": "stream",
     "text": [
      "   5 -    1\n",
      " 122 -    2\n",
      "  72 -    3\n",
      "  14 -    4\n",
      "   8 -    5\n",
      "  21 -    6\n",
      "   8 -    7\n",
      "  15 -    8\n",
      "  11 -    9\n",
      " 187 -   10\n"
     ]
    }
   ],
   "source": [
    "for superhero in superhero_friends_count.take(10):\n",
    "    print('{:4d} - {:4d}'.format(superhero[0],superhero[1]))"
   ]
  },
  {
   "cell_type": "code",
   "execution_count": 8,
   "metadata": {
    "collapsed": false
   },
   "outputs": [],
   "source": [
    "max_friends_count_superhero=superhero_friends_count.max()"
   ]
  },
  {
   "cell_type": "code",
   "execution_count": 9,
   "metadata": {
    "collapsed": false
   },
   "outputs": [
    {
     "name": "stdout",
     "output_type": "stream",
     "text": [
      "1933 -  859\n"
     ]
    }
   ],
   "source": [
    "print('{:4d} - {:4d}'.format(max_friends_count_superhero[0],max_friends_count_superhero[1]))"
   ]
  },
  {
   "cell_type": "code",
   "execution_count": 5,
   "metadata": {
    "collapsed": false,
    "scrolled": true
   },
   "outputs": [],
   "source": [
    "def process_superhero_row(superhero_row):\n",
    "    import re\n",
    "    superhero=superhero_row.split(' ',1)\n",
    "    superhero_id=int(superhero[0])\n",
    "    superhero_name=re.sub('^[^a-zA-Z0-9\\s]*|[^a-zA-Z0-9\\s]*$','',superhero[1].strip())\n",
    "    return (superhero_id,superhero_name)\n",
    "\n",
    "superhero_names_raw=sc.textFile(\"/home/ggomarr/Documents/Education/Udemy_Spark/23_Marvel-Names.txt\")\n",
    "superhero_names=superhero_names_raw.map(process_superhero_row)"
   ]
  },
  {
   "cell_type": "code",
   "execution_count": 6,
   "metadata": {
    "collapsed": false,
    "scrolled": true
   },
   "outputs": [
    {
     "name": "stdout",
     "output_type": "stream",
     "text": [
      "   1 - 24-HOUR MAN/EMMANUEL\n",
      "   2 - 3-D MAN/CHARLES CHAN\n",
      "   3 - 4-D MAN/MERCURIO\n",
      "   4 - 8-BALL\n",
      "   5 - A\n",
      "   6 - A'YIN\n",
      "   7 - ABBOTT, JACK\n",
      "   8 - ABCISSA\n",
      "   9 - ABEL\n",
      "  10 - ABOMINATION/EMIL BLO\n"
     ]
    }
   ],
   "source": [
    "for superhero in superhero_names.take(10):\n",
    "    print('{:4d} - {}'.format(superhero[0],superhero[1]))"
   ]
  },
  {
   "cell_type": "code",
   "execution_count": 10,
   "metadata": {
    "collapsed": false
   },
   "outputs": [
    {
     "name": "stdout",
     "output_type": "stream",
     "text": [
      "1933 -  859 - CAPTAIN AMERICA\n"
     ]
    }
   ],
   "source": [
    "print('{:3d} - {:4d} - {}'.format(max_friends_count_superhero[0],\n",
    "                                  max_friends_count_superhero[1],\n",
    "                                  superhero_names.lookup(max_friends_count_superhero[1])[0]))"
   ]
  },
  {
   "cell_type": "code",
   "execution_count": null,
   "metadata": {
    "collapsed": true
   },
   "outputs": [],
   "source": []
  }
 ],
 "metadata": {
  "kernelspec": {
   "display_name": "Python 2",
   "language": "python",
   "name": "python2"
  },
  "language_info": {
   "codemirror_mode": {
    "name": "ipython",
    "version": 2
   },
   "file_extension": ".py",
   "mimetype": "text/x-python",
   "name": "python",
   "nbconvert_exporter": "python",
   "pygments_lexer": "ipython2",
   "version": "2.7.12"
  }
 },
 "nbformat": 4,
 "nbformat_minor": 0
}
