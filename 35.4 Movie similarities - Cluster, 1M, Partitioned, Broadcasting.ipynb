{
 "cells": [
  {
   "cell_type": "markdown",
   "metadata": {},
   "source": [
    "# 35.4 Movie similarities\n",
    "- 1M\n",
    "- Cluster\n",
    "- Partitioned\n",
    "- Broadcasting title, average rating, and genre vector dictionary\n",
    "- Removing bad rated movies at the end\n",
    "- Cosine similarity for movie ratings\n",
    "- Cosine similarity for movie genres"
   ]
  },
  {
   "cell_type": "code",
   "execution_count": 1,
   "metadata": {
    "collapsed": true
   },
   "outputs": [],
   "source": [
    "import findspark\n",
    "findspark.init()"
   ]
  },
  {
   "cell_type": "code",
   "execution_count": 2,
   "metadata": {
    "collapsed": false
   },
   "outputs": [],
   "source": [
    "from pyspark import SparkConf, SparkContext\n",
    "conf=SparkConf().setMaster(\"spark://1.1.1.102:7077\").setAppName(\"MovieSimilaritiesCluster004\")\n",
    "sc=SparkContext(conf=conf)"
   ]
  },
  {
   "cell_type": "code",
   "execution_count": 3,
   "metadata": {
    "collapsed": true
   },
   "outputs": [],
   "source": [
    "num_partitions=8"
   ]
  },
  {
   "cell_type": "code",
   "execution_count": 4,
   "metadata": {
    "collapsed": true
   },
   "outputs": [],
   "source": [
    "def process_movie_row(movie_row):\n",
    "    movie=movie_row.split('::')\n",
    "    user_id=int(movie[0])\n",
    "    movie_id=int(movie[1])\n",
    "    rating=float(movie[2])\n",
    "    return user_id,(movie_id,rating)\n",
    "\n",
    "user_movie_ratings=(sc.textFile(\"file:///home/sparky/jupyter/ZZ_Data/ml-1m/ratings.dat\")\n",
    "                      .map(process_movie_row).partitionBy(num_partitions))"
   ]
  },
  {
   "cell_type": "code",
   "execution_count": 5,
   "metadata": {
    "collapsed": false
   },
   "outputs": [
    {
     "data": {
      "text/plain": [
       "8"
      ]
     },
     "execution_count": 5,
     "metadata": {},
     "output_type": "execute_result"
    }
   ],
   "source": [
    "user_movie_ratings.getNumPartitions()"
   ]
  },
  {
   "cell_type": "code",
   "execution_count": 7,
   "metadata": {
    "collapsed": false,
    "scrolled": true
   },
   "outputs": [
    {
     "name": "stdout",
     "output_type": "stream",
     "text": [
      "(3096, (3930, 3.0))\n",
      "(3096, (3936, 4.0))\n",
      "(3096, (2053, 4.0))\n",
      "(3096, (3793, 5.0))\n",
      "(3096, (1253, 5.0))\n",
      "(3096, (3798, 5.0))\n",
      "(3096, (587, 5.0))\n",
      "(3096, (589, 4.0))\n",
      "(3096, (3, 3.0))\n",
      "(3096, (1408, 5.0))\n"
     ]
    }
   ],
   "source": [
    "for r in user_movie_ratings.take(10):\n",
    "    print r"
   ]
  },
  {
   "cell_type": "code",
   "execution_count": 8,
   "metadata": {
    "collapsed": false
   },
   "outputs": [],
   "source": [
    "movie_ar_dict=(user_movie_ratings.map(lambda x: (x[1][0],(x[1][1],1)))\n",
    "                                 .reduceByKey(lambda x,y: (x[0]+y[0],x[1]+y[1]))\n",
    "                                 .mapValues(lambda x: (x[0]/x[1],x[1]))\n",
    "                                 .collectAsMap())"
   ]
  },
  {
   "cell_type": "code",
   "execution_count": 9,
   "metadata": {
    "collapsed": false,
    "scrolled": true
   },
   "outputs": [
    {
     "name": "stdout",
     "output_type": "stream",
     "text": [
      "   1 [4.15 2077]\n",
      "   2 [3.20  701]\n",
      "   3 [3.02  478]\n",
      "   4 [2.73  170]\n",
      "   5 [3.01  296]\n",
      "   6 [3.88  940]\n",
      "   7 [3.41  458]\n",
      "   8 [3.01   68]\n",
      "   9 [2.66  102]\n",
      "  10 [3.54  888]\n"
     ]
    }
   ],
   "source": [
    "for key in movie_ar_dict.keys()[:10]:\n",
    "    print('{:4d} [{:.2f} {:4d}]'.format(key,*movie_ar_dict[key]))"
   ]
  },
  {
   "cell_type": "code",
   "execution_count": 11,
   "metadata": {
    "collapsed": false
   },
   "outputs": [],
   "source": [
    "def build_movie_dict(file_nom,ratings_dict={}):\n",
    "    movie_dict={}\n",
    "    with open(file_nom) as f:\n",
    "        for movie_row in f:\n",
    "            movie_row=movie_row.strip()\n",
    "            movie=movie_row.split('::')\n",
    "            movie_id=int(movie[0])\n",
    "            movie_title=movie[1]\n",
    "            genres=['Action','Adventure','Animation','Children\\'s','Comedy','Crime',\n",
    "                    'Documentary','Drama','Fantasy','Film-Noir','Horror',\n",
    "                    'Musical','Mystery','Romance','Sci-Fi','Thriller','War','Western']\n",
    "            movie_genres=[0]*len(genres)\n",
    "            for genre in movie[2].split('|'):\n",
    "                movie_genres[genres.index(genre)]=1\n",
    "            if movie_id in ratings_dict.keys():\n",
    "                movie_avg=ratings_dict[movie_id][0]\n",
    "                movie_cnt=ratings_dict[movie_id][1]\n",
    "            else:\n",
    "                movie_avg=0\n",
    "                movie_cnt=0\n",
    "            movie_dict[movie_id]=(movie_avg,movie_cnt,movie_title,movie_genres)\n",
    "    return movie_dict\n",
    "\n",
    "movie_dict=sc.broadcast(build_movie_dict('/home/sparky/jupyter/ZZ_Data/ml-1m/movies.dat',movie_ar_dict))"
   ]
  },
  {
   "cell_type": "code",
   "execution_count": 12,
   "metadata": {
    "collapsed": false
   },
   "outputs": [
    {
     "name": "stdout",
     "output_type": "stream",
     "text": [
      "   1 [4.15 2077] - Toy Story (1995) - [0, 0, 1, 1, 1, 0, 0, 0, 0, 0, 0, 0, 0, 0, 0, 0, 0, 0]\n",
      "   2 [3.20  701] - Jumanji (1995) - [0, 1, 0, 1, 0, 0, 0, 0, 1, 0, 0, 0, 0, 0, 0, 0, 0, 0]\n",
      "   3 [3.02  478] - Grumpier Old Men (1995) - [0, 0, 0, 0, 1, 0, 0, 0, 0, 0, 0, 0, 0, 1, 0, 0, 0, 0]\n",
      "   4 [2.73  170] - Waiting to Exhale (1995) - [0, 0, 0, 0, 1, 0, 0, 1, 0, 0, 0, 0, 0, 0, 0, 0, 0, 0]\n",
      "   5 [3.01  296] - Father of the Bride Part II (1995) - [0, 0, 0, 0, 1, 0, 0, 0, 0, 0, 0, 0, 0, 0, 0, 0, 0, 0]\n",
      "   6 [3.88  940] - Heat (1995) - [1, 0, 0, 0, 0, 1, 0, 0, 0, 0, 0, 0, 0, 0, 0, 1, 0, 0]\n",
      "   7 [3.41  458] - Sabrina (1995) - [0, 0, 0, 0, 1, 0, 0, 0, 0, 0, 0, 0, 0, 1, 0, 0, 0, 0]\n",
      "   8 [3.01   68] - Tom and Huck (1995) - [0, 1, 0, 1, 0, 0, 0, 0, 0, 0, 0, 0, 0, 0, 0, 0, 0, 0]\n",
      "   9 [2.66  102] - Sudden Death (1995) - [1, 0, 0, 0, 0, 0, 0, 0, 0, 0, 0, 0, 0, 0, 0, 0, 0, 0]\n",
      "  10 [3.54  888] - GoldenEye (1995) - [1, 1, 0, 0, 0, 0, 0, 0, 0, 0, 0, 0, 0, 0, 0, 1, 0, 0]\n"
     ]
    }
   ],
   "source": [
    "for key in movie_dict.value.keys()[:10]:\n",
    "    print('{:4d} [{:.2f} {:4d}] - {} - {}'.format(key,*movie_dict.value[key]))"
   ]
  },
  {
   "cell_type": "code",
   "execution_count": 13,
   "metadata": {
    "collapsed": true
   },
   "outputs": [],
   "source": [
    "user_mr_pairs=(user_movie_ratings.join(user_movie_ratings)\n",
    "                                 .filter(lambda x: x[1][0][0]<x[1][1][0])\n",
    "                                 .map(lambda x: ((x[1][0][0],x[1][1][0]),[(x[1][0][1],x[1][1][1])]))\n",
    "                                 .partitionBy(num_partitions)\n",
    "                                 .reduceByKey(lambda x,y: x+y)\n",
    "                                 .mapValues(lambda x: zip(*x)))"
   ]
  },
  {
   "cell_type": "code",
   "execution_count": 14,
   "metadata": {
    "collapsed": false,
    "scrolled": true
   },
   "outputs": [
    {
     "name": "stdout",
     "output_type": "stream",
     "text": [
      "((530, 640), [(4.0,), (1.0,)])\n",
      "((3066, 3072), [(3.0, 4.0, 4.0, 4.0, 4.0, 3.0, 2.0, 4.0, 5.0, 4.0, 5.0, 3.0, 1.0, 4.0, 4.0, 4.0, 3.0, 3.0, 5.0, 4.0, 3.0, 4.0, 4.0, 4.0, 5.0, 3.0, 2.0, 4.0, 4.0, 3.0, 5.0, 3.0, 5.0, 3.0, 4.0, 3.0, 3.0, 2.0, 3.0, 4.0, 1.0, 3.0, 5.0, 2.0, 4.0, 3.0, 5.0, 3.0, 2.0, 2.0, 3.0, 5.0, 3.0, 2.0, 3.0, 3.0, 4.0, 3.0, 2.0, 4.0, 2.0, 5.0, 3.0, 3.0, 4.0, 3.0, 5.0, 5.0, 4.0, 3.0, 3.0, 5.0, 4.0, 3.0, 3.0, 2.0, 3.0, 4.0, 3.0, 3.0, 4.0, 4.0, 3.0, 2.0, 5.0, 3.0, 5.0, 1.0), (3.0, 3.0, 5.0, 4.0, 5.0, 3.0, 4.0, 4.0, 1.0, 5.0, 2.0, 2.0, 4.0, 4.0, 4.0, 4.0, 5.0, 3.0, 3.0, 5.0, 3.0, 4.0, 4.0, 4.0, 3.0, 4.0, 5.0, 4.0, 4.0, 4.0, 4.0, 1.0, 5.0, 4.0, 4.0, 4.0, 5.0, 4.0, 2.0, 5.0, 3.0, 1.0, 3.0, 5.0, 3.0, 3.0, 4.0, 3.0, 4.0, 5.0, 3.0, 1.0, 4.0, 4.0, 2.0, 3.0, 3.0, 2.0, 1.0, 5.0, 4.0, 3.0, 5.0, 4.0, 4.0, 4.0, 3.0, 2.0, 3.0, 5.0, 5.0, 5.0, 4.0, 5.0, 3.0, 4.0, 2.0, 3.0, 4.0, 4.0, 4.0, 5.0, 3.0, 5.0, 3.0, 3.0, 4.0, 3.0)])\n",
      "((3052, 3202), [(4.0,), (1.0,)])\n",
      "((1176, 1606), [(5.0, 3.0, 3.0), (3.0, 1.0, 3.0)])\n",
      "((2212, 3866), [(3.0,), (2.0,)])\n",
      "((1090, 2144), [(4.0, 3.0, 5.0, 4.0, 5.0, 5.0, 3.0, 4.0, 4.0, 5.0, 4.0, 4.0, 3.0, 4.0, 5.0, 4.0, 4.0, 4.0, 4.0, 3.0, 4.0, 5.0, 3.0, 2.0, 5.0, 5.0, 4.0, 4.0, 5.0, 4.0, 4.0, 4.0, 5.0, 5.0, 4.0, 5.0, 4.0, 5.0, 5.0, 4.0, 5.0, 3.0, 5.0, 5.0, 4.0, 4.0, 5.0, 3.0, 4.0, 4.0, 4.0, 4.0, 4.0, 5.0, 4.0, 5.0, 4.0, 3.0, 4.0, 4.0, 5.0, 4.0, 4.0, 4.0, 5.0, 5.0, 4.0, 3.0, 3.0, 5.0, 5.0, 4.0, 2.0, 5.0, 5.0, 3.0, 3.0, 4.0, 4.0, 5.0, 4.0, 3.0, 4.0, 5.0, 5.0, 5.0, 4.0, 4.0, 2.0, 4.0, 5.0, 5.0, 5.0, 5.0, 3.0, 5.0, 3.0, 4.0, 4.0, 4.0, 4.0, 5.0, 5.0, 3.0, 4.0, 5.0, 4.0, 3.0, 3.0, 4.0, 5.0, 4.0, 5.0, 3.0, 4.0, 4.0, 5.0, 4.0, 4.0, 5.0, 4.0, 4.0, 5.0, 4.0, 5.0, 4.0, 4.0, 4.0, 4.0, 2.0, 5.0, 3.0, 5.0, 4.0, 3.0, 5.0, 4.0, 4.0, 4.0, 2.0, 4.0, 5.0, 4.0, 3.0, 4.0, 5.0, 4.0, 5.0, 3.0, 4.0, 4.0, 5.0, 4.0, 4.0, 3.0, 5.0, 4.0, 4.0, 4.0, 3.0, 5.0, 3.0, 5.0, 4.0, 5.0, 3.0, 4.0, 5.0, 4.0, 4.0, 5.0, 4.0, 4.0, 4.0, 3.0, 4.0, 3.0, 4.0, 5.0, 4.0, 2.0, 4.0, 4.0, 4.0, 3.0, 4.0, 5.0, 5.0, 5.0, 4.0, 3.0, 5.0, 5.0, 3.0, 5.0, 3.0, 5.0, 4.0, 4.0, 5.0, 4.0, 5.0, 3.0, 4.0, 5.0, 5.0, 3.0, 3.0, 3.0, 3.0, 5.0, 4.0, 5.0, 5.0, 4.0, 5.0, 4.0, 5.0, 4.0, 5.0, 5.0, 5.0, 4.0, 4.0, 3.0, 5.0, 2.0, 4.0, 1.0, 4.0, 5.0, 5.0, 4.0, 4.0, 5.0, 4.0, 5.0, 5.0, 5.0, 5.0, 4.0, 4.0, 5.0, 5.0, 4.0, 4.0, 3.0, 5.0, 4.0, 4.0, 4.0, 4.0, 4.0, 5.0, 4.0, 4.0, 2.0, 4.0, 2.0, 3.0, 5.0, 3.0, 4.0, 4.0, 5.0, 4.0, 4.0, 3.0, 4.0, 4.0, 4.0, 5.0, 2.0, 4.0, 4.0, 3.0, 5.0, 5.0, 3.0, 4.0, 4.0, 5.0, 4.0, 3.0, 5.0, 5.0, 1.0, 4.0, 3.0, 4.0, 5.0, 5.0, 4.0, 4.0, 4.0, 3.0, 4.0, 4.0, 5.0, 3.0, 4.0, 5.0, 2.0, 4.0, 4.0, 2.0, 2.0, 3.0, 3.0, 5.0, 4.0, 5.0, 3.0, 4.0, 4.0, 4.0, 4.0, 4.0, 4.0, 5.0, 4.0, 4.0, 4.0, 4.0, 5.0, 5.0, 5.0, 4.0, 3.0, 4.0, 4.0, 5.0, 4.0, 5.0, 4.0, 5.0, 4.0, 5.0, 4.0, 5.0, 5.0, 4.0, 4.0, 4.0, 5.0, 4.0, 4.0, 3.0, 5.0), (2.0, 5.0, 4.0, 4.0, 5.0, 4.0, 5.0, 4.0, 1.0, 4.0, 4.0, 4.0, 4.0, 3.0, 4.0, 4.0, 4.0, 5.0, 3.0, 5.0, 3.0, 4.0, 3.0, 5.0, 5.0, 4.0, 4.0, 2.0, 5.0, 1.0, 4.0, 4.0, 3.0, 3.0, 3.0, 4.0, 2.0, 4.0, 2.0, 3.0, 5.0, 3.0, 4.0, 4.0, 4.0, 5.0, 5.0, 3.0, 4.0, 4.0, 3.0, 4.0, 4.0, 3.0, 3.0, 4.0, 5.0, 3.0, 4.0, 2.0, 4.0, 3.0, 4.0, 1.0, 5.0, 3.0, 3.0, 3.0, 3.0, 2.0, 3.0, 3.0, 4.0, 5.0, 5.0, 5.0, 3.0, 4.0, 3.0, 3.0, 4.0, 3.0, 4.0, 5.0, 5.0, 4.0, 4.0, 4.0, 3.0, 2.0, 5.0, 3.0, 5.0, 3.0, 3.0, 5.0, 3.0, 5.0, 5.0, 2.0, 4.0, 4.0, 3.0, 3.0, 4.0, 4.0, 3.0, 3.0, 4.0, 5.0, 4.0, 5.0, 3.0, 3.0, 4.0, 4.0, 5.0, 5.0, 4.0, 3.0, 4.0, 3.0, 5.0, 3.0, 3.0, 4.0, 3.0, 4.0, 5.0, 3.0, 3.0, 3.0, 4.0, 4.0, 4.0, 4.0, 4.0, 3.0, 5.0, 4.0, 4.0, 4.0, 3.0, 3.0, 3.0, 4.0, 4.0, 3.0, 4.0, 3.0, 5.0, 4.0, 4.0, 4.0, 3.0, 5.0, 4.0, 4.0, 3.0, 4.0, 4.0, 5.0, 4.0, 4.0, 4.0, 5.0, 3.0, 5.0, 5.0, 4.0, 3.0, 3.0, 4.0, 4.0, 4.0, 3.0, 2.0, 4.0, 5.0, 2.0, 3.0, 4.0, 3.0, 5.0, 2.0, 2.0, 4.0, 4.0, 3.0, 3.0, 4.0, 2.0, 2.0, 4.0, 3.0, 4.0, 4.0, 3.0, 5.0, 3.0, 5.0, 4.0, 2.0, 2.0, 5.0, 3.0, 3.0, 5.0, 1.0, 4.0, 3.0, 3.0, 5.0, 4.0, 5.0, 3.0, 4.0, 4.0, 2.0, 4.0, 5.0, 4.0, 3.0, 4.0, 3.0, 5.0, 4.0, 4.0, 3.0, 2.0, 5.0, 3.0, 4.0, 5.0, 4.0, 5.0, 4.0, 3.0, 4.0, 3.0, 3.0, 2.0, 5.0, 5.0, 2.0, 3.0, 5.0, 5.0, 3.0, 4.0, 2.0, 3.0, 5.0, 4.0, 4.0, 2.0, 3.0, 4.0, 4.0, 2.0, 4.0, 3.0, 4.0, 3.0, 5.0, 4.0, 3.0, 4.0, 4.0, 4.0, 4.0, 3.0, 2.0, 3.0, 3.0, 3.0, 4.0, 4.0, 5.0, 4.0, 3.0, 2.0, 4.0, 2.0, 5.0, 3.0, 2.0, 4.0, 4.0, 1.0, 3.0, 4.0, 5.0, 3.0, 3.0, 3.0, 4.0, 4.0, 3.0, 3.0, 3.0, 3.0, 3.0, 4.0, 4.0, 2.0, 4.0, 2.0, 4.0, 3.0, 3.0, 4.0, 4.0, 5.0, 4.0, 4.0, 4.0, 4.0, 4.0, 4.0, 3.0, 4.0, 4.0, 5.0, 4.0, 3.0, 4.0, 3.0, 4.0, 5.0, 4.0, 3.0, 3.0, 4.0, 3.0, 4.0, 4.0, 4.0, 3.0, 4.0, 4.0, 3.0, 3.0, 5.0, 3.0, 3.0, 4.0, 3.0, 5.0)])\n",
      "((346, 1472), [(4.0, 4.0, 4.0, 5.0, 4.0, 4.0, 4.0, 3.0, 4.0), (3.0, 3.0, 4.0, 3.0, 4.0, 4.0, 3.0, 3.0, 2.0)])\n",
      "((1584, 2734), [(3.0, 3.0, 5.0, 3.0, 3.0, 5.0, 4.0, 4.0, 3.0, 4.0, 5.0, 3.0, 2.0, 4.0, 1.0, 2.0, 4.0, 5.0, 3.0, 3.0, 5.0, 2.0, 4.0, 5.0, 4.0, 4.0, 5.0, 3.0, 4.0, 3.0, 5.0, 4.0, 4.0, 4.0, 4.0, 3.0, 3.0, 4.0, 4.0, 4.0, 3.0, 2.0, 4.0, 4.0, 4.0, 4.0, 5.0, 5.0, 3.0, 5.0, 3.0, 5.0, 5.0, 4.0, 4.0, 3.0, 3.0, 5.0, 4.0, 2.0, 5.0, 3.0, 3.0, 4.0, 4.0, 4.0, 4.0, 4.0, 2.0, 4.0, 3.0, 2.0, 3.0, 4.0, 4.0, 3.0, 3.0, 4.0, 5.0, 4.0, 5.0, 3.0, 3.0, 3.0, 3.0, 3.0, 3.0, 3.0, 5.0, 4.0, 4.0, 3.0, 4.0, 4.0, 3.0, 4.0, 4.0, 4.0, 4.0, 5.0, 5.0, 4.0, 4.0, 3.0, 5.0, 4.0, 4.0, 5.0, 4.0, 5.0, 3.0, 4.0, 3.0, 3.0, 4.0, 5.0, 4.0, 4.0, 4.0, 2.0, 2.0, 5.0, 5.0, 5.0, 3.0, 4.0, 3.0, 5.0, 3.0, 4.0, 4.0, 4.0, 5.0, 5.0, 4.0, 4.0, 2.0, 4.0, 3.0, 3.0, 4.0, 3.0, 3.0, 3.0, 3.0, 5.0, 4.0, 4.0, 5.0, 5.0, 4.0, 4.0, 3.0, 3.0, 5.0, 3.0, 4.0, 4.0, 3.0, 3.0, 4.0, 4.0, 4.0, 5.0, 2.0, 5.0, 5.0, 4.0, 2.0, 1.0, 5.0, 2.0, 5.0, 3.0, 5.0, 4.0, 3.0, 5.0, 4.0, 4.0, 2.0, 2.0, 5.0, 5.0, 3.0, 4.0, 3.0, 3.0, 4.0, 4.0, 3.0, 4.0, 3.0, 4.0), (1.0, 3.0, 5.0, 4.0, 4.0, 4.0, 5.0, 3.0, 3.0, 2.0, 4.0, 4.0, 3.0, 4.0, 3.0, 3.0, 3.0, 3.0, 3.0, 4.0, 1.0, 2.0, 2.0, 2.0, 3.0, 4.0, 4.0, 4.0, 4.0, 4.0, 3.0, 4.0, 3.0, 3.0, 4.0, 4.0, 3.0, 5.0, 3.0, 3.0, 4.0, 4.0, 2.0, 2.0, 3.0, 4.0, 5.0, 3.0, 3.0, 4.0, 3.0, 5.0, 5.0, 2.0, 4.0, 4.0, 4.0, 4.0, 2.0, 3.0, 3.0, 4.0, 2.0, 4.0, 3.0, 5.0, 5.0, 4.0, 4.0, 4.0, 3.0, 3.0, 3.0, 3.0, 3.0, 2.0, 5.0, 2.0, 3.0, 2.0, 4.0, 4.0, 4.0, 4.0, 5.0, 2.0, 1.0, 4.0, 4.0, 4.0, 3.0, 4.0, 3.0, 3.0, 3.0, 4.0, 3.0, 4.0, 3.0, 3.0, 4.0, 3.0, 3.0, 2.0, 3.0, 3.0, 3.0, 4.0, 2.0, 2.0, 4.0, 5.0, 4.0, 4.0, 3.0, 3.0, 3.0, 4.0, 3.0, 3.0, 2.0, 3.0, 4.0, 4.0, 4.0, 3.0, 3.0, 3.0, 3.0, 3.0, 3.0, 3.0, 4.0, 2.0, 4.0, 3.0, 4.0, 3.0, 5.0, 3.0, 3.0, 3.0, 1.0, 3.0, 3.0, 4.0, 4.0, 3.0, 4.0, 3.0, 3.0, 4.0, 3.0, 2.0, 3.0, 2.0, 5.0, 3.0, 3.0, 4.0, 3.0, 3.0, 4.0, 2.0, 3.0, 4.0, 4.0, 3.0, 3.0, 4.0, 5.0, 3.0, 4.0, 3.0, 2.0, 3.0, 2.0, 2.0, 3.0, 4.0, 2.0, 4.0, 4.0, 4.0, 3.0, 4.0, 4.0, 3.0, 5.0, 3.0, 4.0, 4.0, 3.0, 3.0)])\n",
      "((938, 3008), [(3.0, 5.0), (4.0, 4.0)])\n",
      "((3060, 3194), [(3.0, 4.0, 5.0, 3.0, 4.0, 3.0, 4.0, 5.0, 5.0, 2.0, 5.0, 4.0, 5.0, 4.0, 5.0, 5.0, 2.0, 3.0, 4.0, 4.0, 4.0, 4.0, 5.0, 2.0, 4.0, 5.0, 3.0, 4.0, 4.0, 4.0, 4.0, 4.0, 3.0, 4.0, 4.0, 4.0, 5.0, 3.0, 5.0, 5.0, 4.0, 3.0, 4.0, 3.0, 4.0, 4.0, 3.0, 4.0, 3.0, 3.0, 3.0, 4.0, 5.0, 2.0, 3.0, 3.0, 3.0), (5.0, 3.0, 4.0, 2.0, 3.0, 2.0, 3.0, 4.0, 4.0, 1.0, 2.0, 4.0, 4.0, 4.0, 4.0, 5.0, 3.0, 3.0, 4.0, 3.0, 4.0, 3.0, 4.0, 5.0, 2.0, 3.0, 4.0, 2.0, 4.0, 2.0, 4.0, 3.0, 2.0, 3.0, 1.0, 4.0, 3.0, 3.0, 2.0, 5.0, 3.0, 3.0, 4.0, 2.0, 3.0, 4.0, 5.0, 4.0, 5.0, 3.0, 3.0, 5.0, 3.0, 1.0, 3.0, 3.0, 2.0)])\n"
     ]
    }
   ],
   "source": [
    "for r in user_mr_pairs.take(10):\n",
    "    print(r)"
   ]
  },
  {
   "cell_type": "code",
   "execution_count": 15,
   "metadata": {
    "collapsed": true
   },
   "outputs": [],
   "source": [
    "def cosine_similarity(v1,v2):\n",
    "    from math import sqrt\n",
    "    def mult_vectors(a,b):\n",
    "        return sum([1.0*a[n]*b[n] for n in range(len(a))])\n",
    "    num_pairs=len(v1)\n",
    "    try:\n",
    "        return mult_vectors(v1,v2)/(sqrt(mult_vectors(v1,v1)) * sqrt(mult_vectors(v2,v2))),num_pairs\n",
    "    except:\n",
    "        return 0,num_pairs\n",
    "    \n",
    "movie_pair_ur_similarities=user_mr_pairs.mapValues(lambda x: cosine_similarity(*x))"
   ]
  },
  {
   "cell_type": "code",
   "execution_count": 16,
   "metadata": {
    "collapsed": false
   },
   "outputs": [
    {
     "name": "stdout",
     "output_type": "stream",
     "text": [
      "((82, 2496), (0.794752861321983, 11))\n",
      "((3052, 3202), (1.0, 1))\n",
      "((1176, 1606), (0.9446104285307813, 3))\n",
      "((12, 2842), (0.9333809511662426, 4))\n",
      "((1193, 2621), (0.9539457271989132, 29))\n",
      "((1090, 2144), (0.9599744728931857, 349))\n",
      "((346, 1472), (0.974755499671922, 9))\n",
      "((2970, 3664), (1.0, 1))\n",
      "((181, 913), (0.9060787876015473, 19))\n",
      "((2089, 3821), (0.8725264017661245, 21))\n"
     ]
    }
   ],
   "source": [
    "for r in movie_pair_ur_similarities.take(10):\n",
    "    print(r)"
   ]
  },
  {
   "cell_type": "code",
   "execution_count": 17,
   "metadata": {
    "collapsed": true
   },
   "outputs": [],
   "source": [
    "def adjust_rating_by_genre(movie_pair,genre_weight=0.25):\n",
    "    gr_similarity=cosine_similarity(movie_dict.value[movie_pair[0][0]][3],\n",
    "                                    movie_dict.value[movie_pair[0][1]][3])[0]\n",
    "    return (movie_pair[0],\n",
    "            (movie_pair[1][0]+genre_weight*gr_similarity,movie_pair[1][1]))\n",
    "\n",
    "movie_pair_similarities=(movie_pair_ur_similarities.map(adjust_rating_by_genre)\n",
    "                                                   .partitionBy(num_partitions))"
   ]
  },
  {
   "cell_type": "code",
   "execution_count": 18,
   "metadata": {
    "collapsed": false
   },
   "outputs": [
    {
     "data": {
      "text/plain": [
       "8"
      ]
     },
     "execution_count": 18,
     "metadata": {},
     "output_type": "execute_result"
    }
   ],
   "source": [
    "movie_pair_similarities.getNumPartitions()"
   ]
  },
  {
   "cell_type": "code",
   "execution_count": 19,
   "metadata": {
    "collapsed": false
   },
   "outputs": [
    {
     "name": "stdout",
     "output_type": "stream",
     "text": [
      "((763, 3447), (1.25, 1))\n",
      "((2317, 2617), (0.9949366763261821, 3))\n",
      "((1954, 2600), (1.0161765475591253, 126))\n",
      "((1410, 1872), (1.176776695296637, 1))\n",
      "((479, 2131), (0.8408409924953906, 3))\n",
      "((1654, 2852), (1.012956620679228, 4))\n",
      "((1194, 2176), (0.9388293358648743, 30))\n",
      "((1425, 1869), (0.8946300779688404, 6))\n",
      "((480, 3838), (0.9007318732256941, 28))\n",
      "((265, 2613), (0.9129600438427359, 45))\n"
     ]
    }
   ],
   "source": [
    "for r in movie_pair_similarities.take(10):\n",
    "    print r"
   ]
  },
  {
   "cell_type": "code",
   "execution_count": 26,
   "metadata": {
    "collapsed": false
   },
   "outputs": [],
   "source": [
    "target_movie=260\n",
    "\n",
    "min_rating=4\n",
    "min_similarity=0.95\n",
    "min_num_rating_pairs=250\n",
    "\n",
    "sims_to_target=(movie_pair_similarities.filter(lambda x: ((x[0][0]==target_movie) or (x[0][1]==target_movie)) and \\\n",
    "                                                         x[1][0]>=min_similarity and \\\n",
    "                                                         x[1][1]>=min_num_rating_pairs)\n",
    "                                       .map(lambda x: (x[0][0] if x[0][0]<>target_movie else x[0][1],\n",
    "                                                       x[1])))"
   ]
  },
  {
   "cell_type": "code",
   "execution_count": 29,
   "metadata": {
    "collapsed": false
   },
   "outputs": [
    {
     "name": "stdout",
     "output_type": "stream",
     "text": [
      "(2628, (1.208293054475818, 1678))\n",
      "(2105, (1.20517218329955, 893))\n",
      "(2640, (1.1849154371081836, 1153))\n",
      "(1374, (1.1843208887582921, 1247))\n",
      "(480, (1.1829358746214107, 1824))\n",
      "(1375, (1.1819134194533014, 833))\n",
      "(1356, (1.1813526267333057, 1083))\n",
      "(1376, (1.1784875753299524, 1019))\n",
      "(2528, (1.1759700974811342, 599))\n",
      "(3698, (1.1759502418135537, 651))\n"
     ]
    }
   ],
   "source": [
    "for r in sims_to_target.takeOrdered(10,key=lambda x: (-x[1][0],-x[1][1])):\n",
    "    print r"
   ]
  },
  {
   "cell_type": "code",
   "execution_count": 27,
   "metadata": {
    "collapsed": false
   },
   "outputs": [],
   "source": [
    "sims_to_target_ext_fil=(sims_to_target.map(lambda x: (x[0],(movie_dict.value[x[0]][0],\n",
    "                                                            x[1][0],x[1][1],\n",
    "                                                            movie_dict.value[x[0]][1],\n",
    "                                                            movie_dict.value[x[0]][2])))\n",
    "                                      .filter(lambda x: x[1][0]>=min_rating))"
   ]
  },
  {
   "cell_type": "code",
   "execution_count": 30,
   "metadata": {
    "collapsed": false
   },
   "outputs": [
    {
     "name": "stdout",
     "output_type": "stream",
     "text": [
      "(1, (4.146846413095811, 0.9721270419610062, 1382, 2077, 'Toy Story (1995)'))\n",
      "(17, (4.027544910179641, 0.9639639121739775, 479, 835, 'Sense and Sensibility (1995)'))\n",
      "(29, (4.062034739454094, 1.1390315217600202, 344, 403, 'City of Lost Children, The (1995)'))\n",
      "(47, (4.106420404573439, 0.9619409530596446, 801, 1137, 'Seven (Se7en) (1995)'))\n",
      "(50, (4.517106001121705, 0.9766875136831684, 1194, 1783, 'Usual Suspects, The (1995)'))\n",
      "(58, (4.093812375249501, 0.9608543463218306, 296, 501, 'Postino, Il (The Postman) (1994)'))\n",
      "(110, (4.234957020057307, 1.0420684116040864, 1554, 2443, 'Braveheart (1995)'))\n",
      "(111, (4.183870967741935, 0.9609147058314133, 886, 1240, 'Taxi Driver (1976)'))\n",
      "(150, (4.073541167066347, 0.9724531455121123, 811, 1251, 'Apollo 13 (1995)'))\n",
      "(162, (4.063136456211812, 0.9513303336744755, 335, 491, 'Crumb (1994)'))\n"
     ]
    }
   ],
   "source": [
    "for r in sims_to_target_ext_fil.takeOrdered(10):\n",
    "    print r"
   ]
  },
  {
   "cell_type": "code",
   "execution_count": 28,
   "metadata": {
    "collapsed": false
   },
   "outputs": [
    {
     "name": "stdout",
     "output_type": "stream",
     "text": [
      "Most similar movies to  260 [4.45, 2991] - Star Wars: Episode IV - A New Hope (1977)\n",
      "1198 [1.1623, 1972/2514] (4.48): Raiders of the Lost Ark (1981)\n",
      "1196 [1.1575, 2355/2990] (4.29): Star Wars: Episode V - The Empire Strikes Back (1980)\n",
      "1291 [1.1542, 1397/1628] (4.13): Indiana Jones and the Last Crusade (1989)\n",
      "1210 [1.1518, 2113/2883] (4.02): Star Wars: Episode VI - Return of the Jedi (1983)\n",
      "  29 [1.1390,  344/ 403] (4.06): City of Lost Children, The (1995)\n",
      "1240 [1.1189, 1746/2098] (4.15): Terminator, The (1984)\n",
      "2571 [1.1176, 1908/2590] (4.32): Matrix, The (1999)\n",
      "1287 [1.1170,  600/ 704] (4.11): Ben-Hur (1959)\n",
      " 589 [1.1147, 1889/2649] (4.06): Terminator 2: Judgment Day (1991)\n",
      "3000 [1.1087,  287/ 345] (4.15): Princess Mononoke, The (Mononoke Hime) (1997)\n"
     ]
    }
   ],
   "source": [
    "target_info=movie_dict.value[target_movie]\n",
    "print('Most similar movies to {:4d} [{:4.2f}, {:3d}] - {}'.format(target_movie,\n",
    "                                                                  target_info[0],\n",
    "                                                                  target_info[1],\n",
    "                                                                  target_info[2]))\n",
    "for r in sims_to_target_ext_fil.takeOrdered(10,key=lambda x: (-x[1][1],-x[1][0])):\n",
    "    print('{:4d} [{:.4f}, {:4d}/{:4d}] ({:.2f}): {}'.format(r[0],r[1][1],r[1][2],r[1][3],r[1][0],r[1][4]))"
   ]
  },
  {
   "cell_type": "code",
   "execution_count": null,
   "metadata": {
    "collapsed": true
   },
   "outputs": [],
   "source": []
  }
 ],
 "metadata": {
  "kernelspec": {
   "display_name": "Python 2",
   "language": "python",
   "name": "python2"
  },
  "language_info": {
   "codemirror_mode": {
    "name": "ipython",
    "version": 2
   },
   "file_extension": ".py",
   "mimetype": "text/x-python",
   "name": "python",
   "nbconvert_exporter": "python",
   "pygments_lexer": "ipython2",
   "version": "2.7.12"
  }
 },
 "nbformat": 4,
 "nbformat_minor": 1
}
