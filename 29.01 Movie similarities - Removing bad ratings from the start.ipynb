{
 "cells": [
  {
   "cell_type": "code",
   "execution_count": 13,
   "metadata": {
    "collapsed": true
   },
   "outputs": [],
   "source": [
    "import findspark\n",
    "findspark.init()"
   ]
  },
  {
   "cell_type": "code",
   "execution_count": null,
   "metadata": {
    "collapsed": false
   },
   "outputs": [],
   "source": [
    "from pyspark import SparkConf, SparkContext\n",
    "conf = SparkConf().setMaster(\"local[*]\").setAppName(\"MovieSimilaritiesRedux001\")\n",
    "sc = SparkContext(conf = conf)"
   ]
  },
  {
   "cell_type": "code",
   "execution_count": 47,
   "metadata": {
    "collapsed": false,
    "scrolled": true
   },
   "outputs": [],
   "source": [
    "def process_movie_row(movie_row):\n",
    "    movie=movie_row.split()\n",
    "    user_id=int(movie[0])\n",
    "    movie_id=int(movie[1])\n",
    "    rating=float(movie[2])\n",
    "    return user_id,(movie_id,rating)\n",
    "\n",
    "user_movie_ratings=(sc.textFile(\"/home/ggomarr/Documents/Education/Udemy_Spark/ml-100k/u.data\")\n",
    "                      .map(process_movie_row))"
   ]
  },
  {
   "cell_type": "code",
   "execution_count": 48,
   "metadata": {
    "collapsed": false,
    "scrolled": true
   },
   "outputs": [
    {
     "name": "stdout",
     "output_type": "stream",
     "text": [
      "(196, (242, 3.0))\n",
      "(186, (302, 3.0))\n",
      "(22, (377, 1.0))\n",
      "(244, (51, 2.0))\n",
      "(166, (346, 1.0))\n",
      "(298, (474, 4.0))\n",
      "(115, (265, 2.0))\n",
      "(253, (465, 5.0))\n",
      "(305, (451, 3.0))\n",
      "(6, (86, 3.0))\n"
     ]
    }
   ],
   "source": [
    "for r in user_movie_ratings.take(10):\n",
    "    print(r)"
   ]
  },
  {
   "cell_type": "code",
   "execution_count": 50,
   "metadata": {
    "collapsed": false
   },
   "outputs": [],
   "source": [
    "min_rating=3\n",
    "\n",
    "user_movie_ratings_filtered=user_movie_ratings.filter(lambda x: x[1][1]>=min_rating)"
   ]
  },
  {
   "cell_type": "code",
   "execution_count": 51,
   "metadata": {
    "collapsed": false
   },
   "outputs": [
    {
     "name": "stdout",
     "output_type": "stream",
     "text": [
      "(196, (242, 3.0))\n",
      "(186, (302, 3.0))\n",
      "(298, (474, 4.0))\n",
      "(253, (465, 5.0))\n",
      "(305, (451, 3.0))\n",
      "(6, (86, 3.0))\n",
      "(286, (1014, 5.0))\n",
      "(200, (222, 5.0))\n",
      "(210, (40, 3.0))\n",
      "(224, (29, 3.0))\n"
     ]
    }
   ],
   "source": [
    "for r in user_movie_ratings_filtered.take(10):\n",
    "    print(r)"
   ]
  },
  {
   "cell_type": "code",
   "execution_count": 54,
   "metadata": {
    "collapsed": false
   },
   "outputs": [],
   "source": [
    "user_mr_pairs=(user_movie_ratings_filtered.join(user_movie_ratings_filtered)\n",
    "                                          .filter(lambda x: x[1][0][0]<x[1][1][0])\n",
    "                                          .map(lambda x: ((x[1][0][0],x[1][1][0]),(x[1][0][1],x[1][1][1])))\n",
    "                                          .groupByKey())"
   ]
  },
  {
   "cell_type": "code",
   "execution_count": 55,
   "metadata": {
    "collapsed": false,
    "scrolled": true
   },
   "outputs": [
    {
     "name": "stdout",
     "output_type": "stream",
     "text": [
      "((197, 1097), <pyspark.resultiterable.ResultIterable object at 0x7fef6176aad0>)\n",
      "((273, 617), <pyspark.resultiterable.ResultIterable object at 0x7fef6176a9d0>)\n",
      "((789, 865), <pyspark.resultiterable.ResultIterable object at 0x7fef6176afd0>)\n",
      "((496, 1314), <pyspark.resultiterable.ResultIterable object at 0x7fef6176ac50>)\n",
      "((246, 1008), <pyspark.resultiterable.ResultIterable object at 0x7fef6176a650>)\n",
      "((856, 1006), <pyspark.resultiterable.ResultIterable object at 0x7fef6176ad90>)\n",
      "((747, 795), <pyspark.resultiterable.ResultIterable object at 0x7fef6176a550>)\n",
      "((648, 678), <pyspark.resultiterable.ResultIterable object at 0x7fef6176af10>)\n",
      "((150, 1344), <pyspark.resultiterable.ResultIterable object at 0x7fef6176a110>)\n",
      "((734, 864), <pyspark.resultiterable.ResultIterable object at 0x7fef6176ab90>)\n"
     ]
    }
   ],
   "source": [
    "for r in user_mr_pairs.take(10):\n",
    "    print(r)"
   ]
  },
  {
   "cell_type": "code",
   "execution_count": 56,
   "metadata": {
    "collapsed": false
   },
   "outputs": [],
   "source": [
    "def cosine_similarity(ratings):\n",
    "    from math import sqrt\n",
    "    def mult_vectors(a,b):\n",
    "        return sum([1.0*a[n]*b[n] for n in range(len(a))])\n",
    "    v1,v2=zip(*ratings)\n",
    "    num_pairs=len(v1)\n",
    "    try:\n",
    "        return mult_vectors(v1,v2)/(sqrt(mult_vectors(v1,v1)) * sqrt(mult_vectors(v2,v2))),num_pairs\n",
    "    except:\n",
    "        return 0,num_pairs\n",
    "    \n",
    "movie_pair_similarities=user_mr_pairs.mapValues(cosine_similarity)"
   ]
  },
  {
   "cell_type": "code",
   "execution_count": 57,
   "metadata": {
    "collapsed": false
   },
   "outputs": [
    {
     "name": "stdout",
     "output_type": "stream",
     "text": [
      "((197, 1097), (0.9839914013827435, 5))\n",
      "((273, 617), (0.9652953599007105, 7))\n",
      "((789, 865), (0.9897475249773018, 3))\n",
      "((496, 1314), (0.976416832356179, 4))\n",
      "((246, 1008), (0.9688564539098803, 16))\n",
      "((856, 1006), (0.9681316602428751, 6))\n",
      "((747, 795), (1.0, 2))\n",
      "((648, 678), (0.9767576910715874, 4))\n",
      "((150, 1344), (1.0, 1))\n",
      "((734, 864), (0.9931459096297017, 6))\n"
     ]
    }
   ],
   "source": [
    "for r in movie_pair_similarities.take(10):\n",
    "    print(r)"
   ]
  },
  {
   "cell_type": "code",
   "execution_count": 61,
   "metadata": {
    "collapsed": false
   },
   "outputs": [],
   "source": [
    "movie_avg_ratings=(user_movie_ratings.map(lambda x: (x[1][0],(x[1][1],1)))\n",
    "                                     .reduceByKey(lambda x, y: (x[0]+y[0],x[1]+y[1]))\n",
    "                                     .mapValues(lambda x: (x[0]/x[1],x[1])))"
   ]
  },
  {
   "cell_type": "code",
   "execution_count": 67,
   "metadata": {
    "collapsed": false,
    "scrolled": false
   },
   "outputs": [
    {
     "name": "stdout",
     "output_type": "stream",
     "text": [
      "(1189, (5.0, 3))\n",
      "(1293, (5.0, 3))\n",
      "(1500, (5.0, 2))\n",
      "(1467, (5.0, 2))\n",
      "(814, (5.0, 1))\n",
      "(1122, (5.0, 1))\n",
      "(1536, (5.0, 1))\n",
      "(1201, (5.0, 1))\n",
      "(1599, (5.0, 1))\n",
      "(1653, (5.0, 1))\n"
     ]
    }
   ],
   "source": [
    "for r in movie_avg_ratings.takeOrdered(10,key=lambda x: (-x[1][0],-x[1][1])):\n",
    "    print(r)"
   ]
  },
  {
   "cell_type": "code",
   "execution_count": 68,
   "metadata": {
    "collapsed": false
   },
   "outputs": [
    {
     "name": "stdout",
     "output_type": "stream",
     "text": [
      "(50, (4.3584905660377355, 583))\n",
      "(258, (3.8035363457760316, 509))\n",
      "(100, (4.155511811023622, 508))\n",
      "(181, (4.007889546351085, 507))\n",
      "(294, (3.156701030927835, 485))\n",
      "(286, (3.656964656964657, 481))\n",
      "(288, (3.4414225941422596, 478))\n",
      "(1, (3.8783185840707963, 452))\n",
      "(300, (3.6310904872389793, 431))\n",
      "(121, (3.438228438228438, 429))\n"
     ]
    }
   ],
   "source": [
    "for r in movie_avg_ratings.takeOrdered(10,key=lambda x: (-x[1][1],-x[1][0])):\n",
    "    print(r)"
   ]
  },
  {
   "cell_type": "code",
   "execution_count": 69,
   "metadata": {
    "collapsed": true
   },
   "outputs": [],
   "source": [
    "def process_movie_row(movie_row):\n",
    "    movie=movie_row.split('|')\n",
    "    movie_id=int(movie[0])\n",
    "    movie_title=movie[1]\n",
    "    return (movie_id,movie_title)\n",
    "\n",
    "movie_names=(sc.textFile(\"/home/ggomarr/Documents/Education/Udemy_Spark/ml-100k/u.item\")\n",
    "               .map(process_movie_row))"
   ]
  },
  {
   "cell_type": "code",
   "execution_count": 70,
   "metadata": {
    "collapsed": false,
    "scrolled": true
   },
   "outputs": [
    {
     "name": "stdout",
     "output_type": "stream",
     "text": [
      "   1 - Toy Story (1995)\n",
      "   2 - GoldenEye (1995)\n",
      "   3 - Four Rooms (1995)\n",
      "   4 - Get Shorty (1995)\n",
      "   5 - Copycat (1995)\n",
      "   6 - Shanghai Triad (Yao a yao yao dao waipo qiao) (1995)\n",
      "   7 - Twelve Monkeys (1995)\n",
      "   8 - Babe (1995)\n",
      "   9 - Dead Man Walking (1995)\n",
      "  10 - Richard III (1995)\n"
     ]
    }
   ],
   "source": [
    "for r in movie_names.take(10):\n",
    "    print('{:4d} - {}'.format(r[0],r[1]))"
   ]
  },
  {
   "cell_type": "code",
   "execution_count": 97,
   "metadata": {
    "collapsed": false
   },
   "outputs": [],
   "source": [
    "movie_names_and_ratings=(movie_names.join(movie_avg_ratings)\n",
    "                                    .mapValues(lambda x: (x[0],x[1][0],x[1][1])))"
   ]
  },
  {
   "cell_type": "code",
   "execution_count": 98,
   "metadata": {
    "collapsed": false,
    "scrolled": true
   },
   "outputs": [
    {
     "name": "stdout",
     "output_type": "stream",
     "text": [
      "   1 [3.88, 452] - Toy Story (1995)\n",
      "   2 [3.21, 131] - GoldenEye (1995)\n",
      "   3 [3.03,  90] - Four Rooms (1995)\n",
      "   4 [3.55, 209] - Get Shorty (1995)\n",
      "   5 [3.30,  86] - Copycat (1995)\n",
      "   6 [3.58,  26] - Shanghai Triad (Yao a yao yao dao waipo qiao) (1995)\n",
      "   7 [3.80, 392] - Twelve Monkeys (1995)\n",
      "   8 [4.00, 219] - Babe (1995)\n",
      "   9 [3.90, 299] - Dead Man Walking (1995)\n",
      "  10 [3.83,  89] - Richard III (1995)\n"
     ]
    }
   ],
   "source": [
    "for r in movie_names_and_ratings.takeOrdered(10):\n",
    "    print('{:4d} [{:4.2f}, {:3d}] - {}'.format(r[0],r[1][1],r[1][2],r[1][0]))"
   ]
  },
  {
   "cell_type": "code",
   "execution_count": 86,
   "metadata": {
    "collapsed": false,
    "scrolled": true
   },
   "outputs": [
    {
     "name": "stdout",
     "output_type": "stream",
     "text": [
      "1189 [5.00,   3] - Prefontaine (1997)\n",
      "1293 [5.00,   3] - Star Kid (1997)\n",
      "1500 [5.00,   2] - Santa with Muscles (1996)\n",
      "1467 [5.00,   2] - Saint of Fort Washington, The (1993)\n",
      "1536 [5.00,   1] - Aiqing wansui (1994)\n",
      "1201 [5.00,   1] - Marlene Dietrich: Shadow and Light (1996) \n",
      "1653 [5.00,   1] - Entertaining Angels: The Dorothy Day Story (1996)\n",
      " 814 [5.00,   1] - Great Day in Harlem, A (1994)\n",
      "1122 [5.00,   1] - They Made Me a Criminal (1939)\n",
      "1599 [5.00,   1] - Someone Else's America (1995)\n"
     ]
    }
   ],
   "source": [
    "for r in movie_names_and_ratings.takeOrdered(10,key=lambda x: (-x[1][1],-x[1][2])):\n",
    "    print('{:4d} [{:4.2f}, {:3d}] - {}'.format(r[0],r[1][1],r[1][2],r[1][0]))"
   ]
  },
  {
   "cell_type": "code",
   "execution_count": 87,
   "metadata": {
    "collapsed": false
   },
   "outputs": [
    {
     "name": "stdout",
     "output_type": "stream",
     "text": [
      "  50 [4.36, 583] - Star Wars (1977)\n",
      " 258 [3.80, 509] - Contact (1997)\n",
      " 100 [4.16, 508] - Fargo (1996)\n",
      " 181 [4.01, 507] - Return of the Jedi (1983)\n",
      " 294 [3.16, 485] - Liar Liar (1997)\n",
      " 286 [3.66, 481] - English Patient, The (1996)\n",
      " 288 [3.44, 478] - Scream (1996)\n",
      "   1 [3.88, 452] - Toy Story (1995)\n",
      " 300 [3.63, 431] - Air Force One (1997)\n",
      " 121 [3.44, 429] - Independence Day (ID4) (1996)\n"
     ]
    }
   ],
   "source": [
    "for r in movie_names_and_ratings.takeOrdered(10,key=lambda x: (-x[1][2],-x[1][1])):\n",
    "    print('{:4d} [{:4.2f}, {:3d}] - {}'.format(r[0],r[1][1],r[1][2],r[1][0]))"
   ]
  },
  {
   "cell_type": "code",
   "execution_count": 42,
   "metadata": {
    "collapsed": false,
    "scrolled": true
   },
   "outputs": [
    {
     "name": "stdout",
     "output_type": "stream",
     "text": [
      "1574\n",
      "1682\n",
      "1574\n"
     ]
    }
   ],
   "source": [
    "print(movie_avg_ratings.count())\n",
    "print(movie_names.count())\n",
    "print(movie_names_and_ratings.count())"
   ]
  },
  {
   "cell_type": "code",
   "execution_count": 92,
   "metadata": {
    "collapsed": false
   },
   "outputs": [],
   "source": [
    "target_movie=50\n",
    "min_similarity=0.95\n",
    "min_num_rating_pairs=25\n",
    "\n",
    "target_movie_filtered=(movie_pair_similarities.filter(lambda x: ((x[0][0]==target_movie) or \\\n",
    "                                                                 (x[0][1]==target_movie)) and \\\n",
    "                                                                 x[1][0]>=min_similarity and \\\n",
    "                                                                 x[1][1]>=min_num_rating_pairs)\n",
    "                                              .map(lambda x: (x[0][0] if x[0][0]<>target_movie else x[0][1],\n",
    "                                                              (x[1][0],x[1][1]))))"
   ]
  },
  {
   "cell_type": "code",
   "execution_count": 93,
   "metadata": {
    "collapsed": false,
    "scrolled": true
   },
   "outputs": [
    {
     "name": "stdout",
     "output_type": "stream",
     "text": [
      "(172, (0.991306470335622, 327))\n",
      "(1142, (0.9895197229266409, 33))\n",
      "(181, (0.988642935971419, 450))\n",
      "(114, (0.9871889393770342, 56))\n",
      "(141, (0.9862168070192264, 62))\n",
      "(612, (0.9856850002173794, 29))\n",
      "(169, (0.9855477594994516, 97))\n",
      "(674, (0.985498827294707, 27))\n",
      "(174, (0.9854887713233331, 358))\n",
      "(570, (0.985200209815983, 32))\n"
     ]
    }
   ],
   "source": [
    "for r in target_movie_filtered.takeOrdered(10,key=lambda x: (-x[1][0],-x[1][1])):\n",
    "    print(r)"
   ]
  },
  {
   "cell_type": "code",
   "execution_count": 102,
   "metadata": {
    "collapsed": false,
    "scrolled": true
   },
   "outputs": [],
   "source": [
    "target_movie_filtered_named_rated=(target_movie_filtered.join(movie_names_and_ratings)\n",
    "                                                        .mapValues(lambda x: (x[1][0],x[1][1],x[1][2],\n",
    "                                                                              x[0][1],x[0][0])))"
   ]
  },
  {
   "cell_type": "code",
   "execution_count": 103,
   "metadata": {
    "collapsed": false
   },
   "outputs": [
    {
     "name": "stdout",
     "output_type": "stream",
     "text": [
      "(512, (u'Wings of Desire (1987)', 4.0, 57, 41, 0.9742728844145573))\n",
      "(520, (u'Great Escape, The (1963)', 4.104838709677419, 124, 98, 0.9770131024395379))\n",
      "(16, (u'French Twist (Gazon maudit) (1995)', 3.2051282051282053, 39, 27, 0.9692142921387517))\n",
      "(24, (u'Rumble in the Bronx (1995)', 3.4482758620689653, 174, 128, 0.9779808597908008))\n",
      "(32, (u'Crumb (1994)', 3.7901234567901234, 81, 62, 0.9820698016106348))\n",
      "(432, (u'Fantasia (1940)', 3.7701149425287355, 174, 142, 0.9771264299032284))\n",
      "(40, (u'To Wong Foo, Thanks for Everything! Julie Newmar (1995)', 2.8947368421052633, 57, 35, 0.9627068041543829))\n",
      "(48, (u'Hoop Dreams (1994)', 4.094017094017094, 117, 93, 0.9787764547742498))\n",
      "(8, (u'Babe (1995)', 3.9954337899543377, 219, 169, 0.9771268100909533))\n",
      "(568, (u'Speed (1994)', 3.6478260869565218, 230, 179, 0.9760032727286512))\n"
     ]
    }
   ],
   "source": [
    "for r in target_movie_filtered_named_rated.take(10):\n",
    "    print r"
   ]
  },
  {
   "cell_type": "code",
   "execution_count": 108,
   "metadata": {
    "collapsed": false,
    "scrolled": true
   },
   "outputs": [
    {
     "name": "stdout",
     "output_type": "stream",
     "text": [
      "Most similar movies to   50 [4.36, 583] - Star Wars (1977)\n",
      " 172 [4.20, 327/367] (0.9913): Empire Strikes Back, The (1980)\n",
      "1142 [4.05,  33/ 44] (0.9895): When We Were Kings (1996)\n",
      " 181 [4.01, 450/507] (0.9886): Return of the Jedi (1983)\n",
      " 114 [4.45,  56/ 67] (0.9872): Wallace & Gromit: The Best of Aardman Animation (1996)\n",
      " 141 [3.50,  62/ 72] (0.9862): 20,000 Leagues Under the Sea (1954)\n",
      " 612 [3.94,  29/ 34] (0.9857): Lost Horizon (1937)\n",
      " 169 [4.47,  97/118] (0.9855): Wrong Trousers, The (1993)\n",
      " 674 [2.90,  27/ 48] (0.9855): Cat People (1982)\n",
      " 174 [4.25, 358/420] (0.9855): Raiders of the Lost Ark (1981)\n",
      " 570 [3.10,  32/ 50] (0.9852): Wyatt Earp (1994)\n"
     ]
    }
   ],
   "source": [
    "target_movie_r=movie_names_and_ratings.lookup(target_movie)[0]\n",
    "print('Most similar movies to {:4d} [{:4.2f}, {:3d}] - {}'.format(target_movie,\n",
    "                                                                  target_movie_r[1],target_movie_r[2],\n",
    "                                                                  target_movie_r[0]))\n",
    "for r in target_movie_filtered_named_rated.takeOrdered(10,key=lambda x: (-x[1][4],-x[1][1])):\n",
    "    print('{:4d} [{:.2f}, {:3d}/{:3d}] ({:.4f}): {}'.format(r[0],r[1][1],r[1][3],r[1][2],r[1][4],r[1][0]))"
   ]
  },
  {
   "cell_type": "code",
   "execution_count": null,
   "metadata": {
    "collapsed": true
   },
   "outputs": [],
   "source": []
  }
 ],
 "metadata": {
  "kernelspec": {
   "display_name": "Python 2",
   "language": "python",
   "name": "python2"
  },
  "language_info": {
   "codemirror_mode": {
    "name": "ipython",
    "version": 2
   },
   "file_extension": ".py",
   "mimetype": "text/x-python",
   "name": "python",
   "nbconvert_exporter": "python",
   "pygments_lexer": "ipython2",
   "version": "2.7.12"
  }
 },
 "nbformat": 4,
 "nbformat_minor": 0
}
