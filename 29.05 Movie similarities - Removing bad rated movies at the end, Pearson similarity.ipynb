{
 "cells": [
  {
   "cell_type": "code",
   "execution_count": 1,
   "metadata": {
    "collapsed": true
   },
   "outputs": [],
   "source": [
    "import findspark\n",
    "findspark.init()"
   ]
  },
  {
   "cell_type": "code",
   "execution_count": 2,
   "metadata": {
    "collapsed": false
   },
   "outputs": [],
   "source": [
    "from pyspark import SparkConf, SparkContext\n",
    "conf = SparkConf().setMaster(\"local[*]\").setAppName(\"MovieSimilaritiesRedux005\")\n",
    "sc = SparkContext(conf = conf)"
   ]
  },
  {
   "cell_type": "code",
   "execution_count": 3,
   "metadata": {
    "collapsed": false,
    "scrolled": true
   },
   "outputs": [],
   "source": [
    "def process_movie_row(movie_row):\n",
    "    movie=movie_row.split()\n",
    "    user_id=int(movie[0])\n",
    "    movie_id=int(movie[1])\n",
    "    rating=float(movie[2])\n",
    "    return user_id,(movie_id,rating)\n",
    "\n",
    "user_movie_ratings=(sc.textFile(\"/home/ggomarr/Documents/Education/Udemy_Spark/ml-100k/u.data\")\n",
    "                      .map(process_movie_row))"
   ]
  },
  {
   "cell_type": "code",
   "execution_count": 4,
   "metadata": {
    "collapsed": false,
    "scrolled": true
   },
   "outputs": [
    {
     "name": "stdout",
     "output_type": "stream",
     "text": [
      "(196, (242, 3.0))\n",
      "(186, (302, 3.0))\n",
      "(22, (377, 1.0))\n",
      "(244, (51, 2.0))\n",
      "(166, (346, 1.0))\n",
      "(298, (474, 4.0))\n",
      "(115, (265, 2.0))\n",
      "(253, (465, 5.0))\n",
      "(305, (451, 3.0))\n",
      "(6, (86, 3.0))\n"
     ]
    }
   ],
   "source": [
    "for r in user_movie_ratings.take(10):\n",
    "    print(r)"
   ]
  },
  {
   "cell_type": "code",
   "execution_count": 5,
   "metadata": {
    "collapsed": false
   },
   "outputs": [],
   "source": [
    "user_mr_pairs=(user_movie_ratings.join(user_movie_ratings)\n",
    "                                 .filter(lambda x: x[1][0][0]<x[1][1][0])\n",
    "                                 .map(lambda x: ((x[1][0][0],x[1][1][0]),(x[1][0][1],x[1][1][1])))\n",
    "                                 .groupByKey())"
   ]
  },
  {
   "cell_type": "code",
   "execution_count": 6,
   "metadata": {
    "collapsed": false,
    "scrolled": true
   },
   "outputs": [
    {
     "name": "stdout",
     "output_type": "stream",
     "text": [
      "((197, 1097), <pyspark.resultiterable.ResultIterable object at 0x7f58c5f42750>)\n",
      "((42, 364), <pyspark.resultiterable.ResultIterable object at 0x7f58c5f42990>)\n",
      "((773, 1409), <pyspark.resultiterable.ResultIterable object at 0x7f58c5f429d0>)\n",
      "((273, 617), <pyspark.resultiterable.ResultIterable object at 0x7f58c5f42a10>)\n",
      "((372, 974), <pyspark.resultiterable.ResultIterable object at 0x7f58c5f42a50>)\n",
      "((789, 865), <pyspark.resultiterable.ResultIterable object at 0x7f58c5f42a90>)\n",
      "((496, 1314), <pyspark.resultiterable.ResultIterable object at 0x7f58c5f42ad0>)\n",
      "((389, 493), <pyspark.resultiterable.ResultIterable object at 0x7f58c5f42b10>)\n",
      "((856, 1006), <pyspark.resultiterable.ResultIterable object at 0x7f58c5f42b50>)\n",
      "((552, 754), <pyspark.resultiterable.ResultIterable object at 0x7f58c5f42b90>)\n"
     ]
    }
   ],
   "source": [
    "for r in user_mr_pairs.take(10):\n",
    "    print(r)"
   ]
  },
  {
   "cell_type": "code",
   "execution_count": 7,
   "metadata": {
    "collapsed": false
   },
   "outputs": [],
   "source": [
    "def pearson_similarity(ratings):\n",
    "    from scipy.stats.stats import pearsonr\n",
    "    v1,v2=zip(*ratings)\n",
    "    num_pairs=len(v1)\n",
    "    return pearsonr(v1,v2)[0],num_pairs\n",
    "    \n",
    "movie_pair_similarities=user_mr_pairs.mapValues(pearson_similarity)"
   ]
  },
  {
   "cell_type": "code",
   "execution_count": 8,
   "metadata": {
    "collapsed": false
   },
   "outputs": [
    {
     "name": "stdout",
     "output_type": "stream",
     "text": [
      "((197, 1097), (0.63586706399759618, 7))\n",
      "((42, 364), (-0.077864642904380901, 18))\n",
      "((773, 1409), (nan, 1))\n",
      "((273, 617), (0.21459876881973802, 7))\n",
      "((372, 974), (nan, 1))\n",
      "((789, 865), (1.0, 3))\n",
      "((496, 1314), (nan, 4))\n",
      "((389, 493), (0.0, 7))\n",
      "((856, 1006), (0.6805446536716202, 10))\n",
      "((552, 754), (nan, 2))\n"
     ]
    }
   ],
   "source": [
    "for r in movie_pair_similarities.take(10):\n",
    "    print(r)"
   ]
  },
  {
   "cell_type": "code",
   "execution_count": 9,
   "metadata": {
    "collapsed": false
   },
   "outputs": [],
   "source": [
    "movie_avg_ratings=(user_movie_ratings.map(lambda x: (x[1][0],(x[1][1],1)))\n",
    "                                     .reduceByKey(lambda x, y: (x[0]+y[0],x[1]+y[1]))\n",
    "                                     .mapValues(lambda x: (x[0]/x[1],x[1])))"
   ]
  },
  {
   "cell_type": "code",
   "execution_count": 10,
   "metadata": {
    "collapsed": false,
    "scrolled": true
   },
   "outputs": [
    {
     "name": "stdout",
     "output_type": "stream",
     "text": [
      "(2, (3.2061068702290076, 131))\n",
      "(4, (3.550239234449761, 209))\n",
      "(6, (3.576923076923077, 26))\n",
      "(8, (3.9954337899543377, 219))\n",
      "(10, (3.831460674157303, 89))\n",
      "(12, (4.385767790262173, 267))\n",
      "(14, (3.9672131147540983, 183))\n",
      "(16, (3.2051282051282053, 39))\n",
      "(18, (2.8, 10))\n",
      "(20, (3.4166666666666665, 72))\n"
     ]
    }
   ],
   "source": [
    "for r in movie_avg_ratings.take(10):\n",
    "    print(r)"
   ]
  },
  {
   "cell_type": "code",
   "execution_count": 11,
   "metadata": {
    "collapsed": true
   },
   "outputs": [],
   "source": [
    "def process_movie_row(movie_row):\n",
    "    movie=movie_row.split('|')\n",
    "    movie_id=int(movie[0])\n",
    "    movie_title=movie[1]\n",
    "    return (movie_id,movie_title)\n",
    "\n",
    "movie_names_and_ratings=(sc.textFile(\"/home/ggomarr/Documents/Education/Udemy_Spark/ml-100k/u.item\")\n",
    "                           .map(process_movie_row)\n",
    "                           .join(movie_avg_ratings)\n",
    "                           .mapValues(lambda x: (x[0],x[1][0],x[1][1])))"
   ]
  },
  {
   "cell_type": "code",
   "execution_count": 12,
   "metadata": {
    "collapsed": false,
    "scrolled": true
   },
   "outputs": [
    {
     "name": "stdout",
     "output_type": "stream",
     "text": [
      "   1 [3.88, 452] - Toy Story (1995)\n",
      "   2 [3.21, 131] - GoldenEye (1995)\n",
      "   3 [3.03,  90] - Four Rooms (1995)\n",
      "   4 [3.55, 209] - Get Shorty (1995)\n",
      "   5 [3.30,  86] - Copycat (1995)\n",
      "   6 [3.58,  26] - Shanghai Triad (Yao a yao yao dao waipo qiao) (1995)\n",
      "   7 [3.80, 392] - Twelve Monkeys (1995)\n",
      "   8 [4.00, 219] - Babe (1995)\n",
      "   9 [3.90, 299] - Dead Man Walking (1995)\n",
      "  10 [3.83,  89] - Richard III (1995)\n"
     ]
    }
   ],
   "source": [
    "for r in movie_names_and_ratings.takeOrdered(10):\n",
    "    print('{:4d} [{:4.2f}, {:3d}] - {}'.format(r[0],r[1][1],r[1][2],r[1][0]))"
   ]
  },
  {
   "cell_type": "code",
   "execution_count": 18,
   "metadata": {
    "collapsed": false
   },
   "outputs": [],
   "source": [
    "target_movie=50\n",
    "min_similarity=0.5\n",
    "min_num_rating_pairs=25\n",
    "\n",
    "target_movie_filtered=(movie_pair_similarities.filter(lambda x: ((x[0][0]==target_movie) or \\\n",
    "                                                                 (x[0][1]==target_movie)) and \\\n",
    "                                                                 x[1][0]>=min_similarity and \\\n",
    "                                                                 x[1][1]>=min_num_rating_pairs)\n",
    "                                              .map(lambda x: (x[0][0] if x[0][0]<>target_movie else x[0][1],\n",
    "                                                              (x[1][0],x[1][1]))))"
   ]
  },
  {
   "cell_type": "code",
   "execution_count": 19,
   "metadata": {
    "collapsed": false,
    "scrolled": true
   },
   "outputs": [
    {
     "name": "stdout",
     "output_type": "stream",
     "text": [
      "(172, (0.74798142237886811, 345))\n",
      "(181, (0.67255585588760702, 480))\n",
      "(174, (0.53611710137293112, 380))\n",
      "(1226, (0.51529081620737816, 28))\n",
      "(1142, (0.51516406681876525, 37))\n",
      "(936, (0.51510769706017157, 27))\n",
      "(963, (0.5090161595253091, 40))\n"
     ]
    }
   ],
   "source": [
    "for r in target_movie_filtered.takeOrdered(10,key=lambda x: (-x[1][0],-x[1][1])):\n",
    "    print(r)"
   ]
  },
  {
   "cell_type": "code",
   "execution_count": 20,
   "metadata": {
    "collapsed": false,
    "scrolled": true
   },
   "outputs": [],
   "source": [
    "min_rating=4\n",
    "\n",
    "target_movie_filtered_named_rated=(target_movie_filtered.join(movie_names_and_ratings)\n",
    "                                                        .mapValues(lambda x: (x[1][0],x[1][1],x[1][2],\n",
    "                                                                              x[0][1],x[0][0]))\n",
    "                                                        .filter(lambda x: x[1][1]>=min_rating))"
   ]
  },
  {
   "cell_type": "code",
   "execution_count": 21,
   "metadata": {
    "collapsed": false
   },
   "outputs": [
    {
     "name": "stdout",
     "output_type": "stream",
     "text": [
      "(963, (u'Some Folks Call It a Sling Blade (1993)', 4.2926829268292686, 41, 40, 0.5090161595253091))\n",
      "(172, (u'Empire Strikes Back, The (1980)', 4.204359673024523, 367, 345, 0.74798142237886811))\n",
      "(181, (u'Return of the Jedi (1983)', 4.007889546351085, 507, 480, 0.67255585588760702))\n",
      "(174, (u'Raiders of the Lost Ark (1981)', 4.252380952380952, 420, 380, 0.53611710137293112))\n",
      "(1142, (u'When We Were Kings (1996)', 4.045454545454546, 44, 37, 0.51516406681876525))\n"
     ]
    }
   ],
   "source": [
    "for r in target_movie_filtered_named_rated.take(10):\n",
    "    print r"
   ]
  },
  {
   "cell_type": "code",
   "execution_count": 22,
   "metadata": {
    "collapsed": false,
    "scrolled": true
   },
   "outputs": [
    {
     "name": "stdout",
     "output_type": "stream",
     "text": [
      "Most similar movies to   50 [4.36, 583] - Star Wars (1977)\n",
      " 172 [4.20, 345/367] (0.7480): Empire Strikes Back, The (1980)\n",
      " 181 [4.01, 480/507] (0.6726): Return of the Jedi (1983)\n",
      " 174 [4.25, 380/420] (0.5361): Raiders of the Lost Ark (1981)\n",
      "1142 [4.05,  37/ 44] (0.5152): When We Were Kings (1996)\n",
      " 963 [4.29,  40/ 41] (0.5090): Some Folks Call It a Sling Blade (1993)\n"
     ]
    }
   ],
   "source": [
    "target_movie_r=movie_names_and_ratings.lookup(target_movie)[0]\n",
    "print('Most similar movies to {:4d} [{:4.2f}, {:3d}] - {}'.format(target_movie,\n",
    "                                                                  target_movie_r[1],target_movie_r[2],\n",
    "                                                                  target_movie_r[0]))\n",
    "for r in target_movie_filtered_named_rated.takeOrdered(10,key=lambda x: (-x[1][4],-x[1][1])):\n",
    "    print('{:4d} [{:.2f}, {:3d}/{:3d}] ({:.4f}): {}'.format(r[0],r[1][1],r[1][3],r[1][2],r[1][4],r[1][0]))"
   ]
  },
  {
   "cell_type": "code",
   "execution_count": null,
   "metadata": {
    "collapsed": true
   },
   "outputs": [],
   "source": []
  }
 ],
 "metadata": {
  "kernelspec": {
   "display_name": "Python 2",
   "language": "python",
   "name": "python2"
  },
  "language_info": {
   "codemirror_mode": {
    "name": "ipython",
    "version": 2
   },
   "file_extension": ".py",
   "mimetype": "text/x-python",
   "name": "python",
   "nbconvert_exporter": "python",
   "pygments_lexer": "ipython2",
   "version": "2.7.12"
  }
 },
 "nbformat": 4,
 "nbformat_minor": 0
}
