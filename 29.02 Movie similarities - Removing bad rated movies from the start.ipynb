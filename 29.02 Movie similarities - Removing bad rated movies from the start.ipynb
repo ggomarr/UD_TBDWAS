{
 "cells": [
  {
   "cell_type": "code",
   "execution_count": 3,
   "metadata": {
    "collapsed": true
   },
   "outputs": [],
   "source": [
    "import findspark\n",
    "findspark.init()"
   ]
  },
  {
   "cell_type": "code",
   "execution_count": 4,
   "metadata": {
    "collapsed": false
   },
   "outputs": [],
   "source": [
    "from pyspark import SparkConf, SparkContext\n",
    "conf = SparkConf().setMaster(\"local[*]\").setAppName(\"MovieSimilaritiesRedux002\")\n",
    "sc = SparkContext(conf = conf)"
   ]
  },
  {
   "cell_type": "code",
   "execution_count": 5,
   "metadata": {
    "collapsed": false,
    "scrolled": true
   },
   "outputs": [],
   "source": [
    "def process_movie_row(movie_row):\n",
    "    movie=movie_row.split()\n",
    "    user_id=int(movie[0])\n",
    "    movie_id=int(movie[1])\n",
    "    rating=float(movie[2])\n",
    "    return user_id,(movie_id,rating)\n",
    "\n",
    "user_movie_ratings=(sc.textFile(\"/home/ggomarr/Documents/Education/Udemy_Spark/ml-100k/u.data\")\n",
    "                      .map(process_movie_row))"
   ]
  },
  {
   "cell_type": "code",
   "execution_count": 35,
   "metadata": {
    "collapsed": false,
    "scrolled": false
   },
   "outputs": [
    {
     "name": "stdout",
     "output_type": "stream",
     "text": [
      "(1, (1, 5.0))\n",
      "(1, (2, 3.0))\n",
      "(1, (3, 4.0))\n",
      "(1, (4, 3.0))\n",
      "(1, (5, 3.0))\n",
      "(1, (6, 5.0))\n",
      "(1, (7, 4.0))\n",
      "(1, (8, 1.0))\n",
      "(1, (9, 5.0))\n",
      "(1, (10, 3.0))\n",
      "(1, (11, 2.0))\n",
      "(1, (12, 5.0))\n",
      "(1, (13, 5.0))\n",
      "(1, (14, 5.0))\n",
      "(1, (15, 5.0))\n",
      "(1, (16, 5.0))\n",
      "(1, (17, 3.0))\n",
      "(1, (18, 4.0))\n",
      "(1, (19, 5.0))\n",
      "(1, (20, 4.0))\n"
     ]
    }
   ],
   "source": [
    "for r in user_movie_ratings.takeOrdered(20):\n",
    "    print(r)"
   ]
  },
  {
   "cell_type": "code",
   "execution_count": null,
   "metadata": {
    "collapsed": true
   },
   "outputs": [],
   "source": [
    "for r in user_movie_ratings.takeOrdered(10,key=lambda x: x[1][1]):\n",
    "    print(r)"
   ]
  },
  {
   "cell_type": "code",
   "execution_count": 10,
   "metadata": {
    "collapsed": false
   },
   "outputs": [],
   "source": [
    "movie_avg_ratings=(user_movie_ratings.map(lambda x: (x[1][0],(x[1][1],1)))\n",
    "                                     .reduceByKey(lambda x, y: (x[0]+y[0],x[1]+y[1]))\n",
    "                                     .mapValues(lambda x: (x[0]/x[1],x[1])))"
   ]
  },
  {
   "cell_type": "code",
   "execution_count": 11,
   "metadata": {
    "collapsed": false,
    "scrolled": true
   },
   "outputs": [
    {
     "name": "stdout",
     "output_type": "stream",
     "text": [
      "(314, (1.0, 5))\n",
      "(437, (1.0, 5))\n",
      "(439, (1.0, 5))\n",
      "(858, (1.0, 3))\n",
      "(1408, (1.0, 3))\n",
      "(1432, (1.0, 3))\n",
      "(784, (1.0, 2))\n",
      "(1308, (1.0, 2))\n",
      "(1334, (1.0, 2))\n",
      "(1354, (1.0, 2))\n"
     ]
    }
   ],
   "source": [
    "for r in movie_avg_ratings.takeOrdered(10,key=lambda x: (x[1][0],-x[1][1])):\n",
    "    print(r)"
   ]
  },
  {
   "cell_type": "code",
   "execution_count": 54,
   "metadata": {
    "collapsed": true
   },
   "outputs": [],
   "source": [
    "min_rating=4\n",
    "\n",
    "movie_avg_ratings_filtered=movie_avg_ratings.filter(lambda x: x[1][0]>=min_rating)"
   ]
  },
  {
   "cell_type": "code",
   "execution_count": 55,
   "metadata": {
    "collapsed": false
   },
   "outputs": [
    {
     "name": "stdout",
     "output_type": "stream",
     "text": [
      "(430, (4.0, 93))\n",
      "(505, (4.0, 68))\n",
      "(512, (4.0, 57))\n",
      "(494, (4.0, 56))\n",
      "(656, (4.0, 44))\n",
      "(57, (4.0, 40))\n",
      "(601, (4.0, 20))\n",
      "(1143, (4.0, 15))\n",
      "(1131, (4.0, 13))\n",
      "(701, (4.0, 10))\n"
     ]
    }
   ],
   "source": [
    "for r in movie_avg_ratings_filtered.takeOrdered(10,key=lambda x: (x[1][0],-x[1][1])):\n",
    "    print(r)"
   ]
  },
  {
   "cell_type": "code",
   "execution_count": 56,
   "metadata": {
    "collapsed": false
   },
   "outputs": [],
   "source": [
    "user_movie_ratings_filtered=(user_movie_ratings.map(lambda x: (x[1][0],(x[0],x[1][1])))\n",
    "                                               .join(movie_avg_ratings_filtered)\n",
    "                                               .map(lambda x: (x[1][0][0],(x[0],x[1][0][1],x[1][1][0]))))"
   ]
  },
  {
   "cell_type": "code",
   "execution_count": 57,
   "metadata": {
    "collapsed": false
   },
   "outputs": [
    {
     "name": "stdout",
     "output_type": "stream",
     "text": [
      "(1, (12, 5.0, 4.385767790262173))\n",
      "(1, (22, 4.0, 4.151515151515151))\n",
      "(1, (23, 4.0, 4.1208791208791204))\n",
      "(1, (45, 5.0, 4.05))\n",
      "(1, (48, 5.0, 4.094017094017094))\n",
      "(1, (50, 5.0, 4.3584905660377355))\n",
      "(1, (56, 4.0, 4.060913705583756))\n",
      "(1, (57, 5.0, 4.0))\n",
      "(1, (59, 5.0, 4.0602409638554215))\n",
      "(1, (60, 5.0, 4.015625))\n",
      "(1, (64, 5.0, 4.445229681978798))\n",
      "(1, (79, 4.0, 4.044642857142857))\n",
      "(1, (83, 3.0, 4.0625))\n",
      "(1, (89, 5.0, 4.138181818181818))\n",
      "(1, (96, 5.0, 4.0067796610169495))\n",
      "(1, (98, 4.0, 4.28974358974359))\n",
      "(1, (100, 5.0, 4.155511811023622))\n",
      "(1, (113, 5.0, 4.111111111111111))\n",
      "(1, (114, 5.0, 4.447761194029851))\n",
      "(1, (119, 5.0, 4.5))\n"
     ]
    }
   ],
   "source": [
    "for r in user_movie_ratings_filtered.takeOrdered(20):\n",
    "    print(r)"
   ]
  },
  {
   "cell_type": "code",
   "execution_count": 58,
   "metadata": {
    "collapsed": false
   },
   "outputs": [],
   "source": [
    "user_mr_pairs=(user_movie_ratings_filtered.join(user_movie_ratings_filtered)\n",
    "                                          .filter(lambda x: x[1][0][0]<x[1][1][0])\n",
    "                                          .map(lambda x: ((x[1][0][0],x[1][1][0]),(x[1][0][1],x[1][1][1])))\n",
    "                                          .groupByKey())"
   ]
  },
  {
   "cell_type": "code",
   "execution_count": 59,
   "metadata": {
    "collapsed": false,
    "scrolled": true
   },
   "outputs": [
    {
     "name": "stdout",
     "output_type": "stream",
     "text": [
      "((50, 96), <pyspark.resultiterable.ResultIterable object at 0x7fc939207a10>)\n",
      "((223, 651), <pyspark.resultiterable.ResultIterable object at 0x7fc939207a90>)\n",
      "((275, 487), <pyspark.resultiterable.ResultIterable object at 0x7fc939207c10>)\n",
      "((100, 1498), <pyspark.resultiterable.ResultIterable object at 0x7fc939207450>)\n",
      "((59, 511), <pyspark.resultiterable.ResultIterable object at 0x7fc939207b10>)\n",
      "((223, 1131), <pyspark.resultiterable.ResultIterable object at 0x7fc939207e10>)\n",
      "((60, 98), <pyspark.resultiterable.ResultIterable object at 0x7fc939207590>)\n",
      "((60, 178), <pyspark.resultiterable.ResultIterable object at 0x7fc939207b50>)\n",
      "((22, 484), <pyspark.resultiterable.ResultIterable object at 0x7fc939207550>)\n",
      "((223, 867), <pyspark.resultiterable.ResultIterable object at 0x7fc939207410>)\n"
     ]
    }
   ],
   "source": [
    "for r in user_mr_pairs.take(10):\n",
    "    print(r)"
   ]
  },
  {
   "cell_type": "code",
   "execution_count": 60,
   "metadata": {
    "collapsed": false
   },
   "outputs": [],
   "source": [
    "def cosine_similarity(ratings):\n",
    "    from math import sqrt\n",
    "    def mult_vectors(a,b):\n",
    "        return sum([1.0*a[n]*b[n] for n in range(len(a))])\n",
    "    v1,v2=zip(*ratings)\n",
    "    num_pairs=len(v1)\n",
    "    try:\n",
    "        return mult_vectors(v1,v2)/(sqrt(mult_vectors(v1,v1)) * sqrt(mult_vectors(v2,v2))),num_pairs\n",
    "    except:\n",
    "        return 0,num_pairs\n",
    "    \n",
    "movie_pair_similarities=user_mr_pairs.mapValues(cosine_similarity)"
   ]
  },
  {
   "cell_type": "code",
   "execution_count": 61,
   "metadata": {
    "collapsed": false
   },
   "outputs": [
    {
     "name": "stdout",
     "output_type": "stream",
     "text": [
      "((50, 96), (0.9638252985093606, 271))\n",
      "((223, 651), (0.9704414075796239, 55))\n",
      "((275, 487), (0.9760904982155516, 43))\n",
      "((100, 1498), (1.0, 1))\n",
      "((59, 511), (0.9663140130917418, 37))\n",
      "((223, 1131), (0.9570202978345285, 6))\n",
      "((60, 98), (0.9517171195132221, 48))\n",
      "((60, 178), (0.9619532111324821, 26))\n",
      "((22, 484), (0.9623569271269912, 70))\n",
      "((223, 867), (0.9775339768579192, 4))\n"
     ]
    }
   ],
   "source": [
    "for r in movie_pair_similarities.take(10):\n",
    "    print(r)"
   ]
  },
  {
   "cell_type": "code",
   "execution_count": 62,
   "metadata": {
    "collapsed": true
   },
   "outputs": [],
   "source": [
    "def process_movie_row(movie_row):\n",
    "    movie=movie_row.split('|')\n",
    "    movie_id=int(movie[0])\n",
    "    movie_title=movie[1]\n",
    "    return (movie_id,movie_title)\n",
    "\n",
    "movie_names_and_ratings=(sc.textFile(\"/home/ggomarr/Documents/Education/Udemy_Spark/ml-100k/u.item\")\n",
    "                           .map(process_movie_row)\n",
    "                           .join(movie_avg_ratings)\n",
    "                           .mapValues(lambda x: (x[0],x[1][0],x[1][1])))"
   ]
  },
  {
   "cell_type": "code",
   "execution_count": 63,
   "metadata": {
    "collapsed": false,
    "scrolled": true
   },
   "outputs": [
    {
     "name": "stdout",
     "output_type": "stream",
     "text": [
      "   1 [3.88, 452] - Toy Story (1995)\n",
      "   2 [3.21, 131] - GoldenEye (1995)\n",
      "   3 [3.03,  90] - Four Rooms (1995)\n",
      "   4 [3.55, 209] - Get Shorty (1995)\n",
      "   5 [3.30,  86] - Copycat (1995)\n",
      "   6 [3.58,  26] - Shanghai Triad (Yao a yao yao dao waipo qiao) (1995)\n",
      "   7 [3.80, 392] - Twelve Monkeys (1995)\n",
      "   8 [4.00, 219] - Babe (1995)\n",
      "   9 [3.90, 299] - Dead Man Walking (1995)\n",
      "  10 [3.83,  89] - Richard III (1995)\n"
     ]
    }
   ],
   "source": [
    "for r in movie_names_and_ratings.takeOrdered(10):\n",
    "    print('{:4d} [{:4.2f}, {:3d}] - {}'.format(r[0],r[1][1],r[1][2],r[1][0]))"
   ]
  },
  {
   "cell_type": "code",
   "execution_count": 64,
   "metadata": {
    "collapsed": false
   },
   "outputs": [],
   "source": [
    "target_movie=50\n",
    "min_similarity=0.95\n",
    "min_num_rating_pairs=25\n",
    "\n",
    "target_movie_filtered=(movie_pair_similarities.filter(lambda x: ((x[0][0]==target_movie) or \\\n",
    "                                                                 (x[0][1]==target_movie)) and \\\n",
    "                                                                 x[1][0]>=min_similarity and \\\n",
    "                                                                 x[1][1]>=min_num_rating_pairs)\n",
    "                                              .map(lambda x: (x[0][0] if x[0][0]<>target_movie else x[0][1],\n",
    "                                                              (x[1][0],x[1][1]))))"
   ]
  },
  {
   "cell_type": "code",
   "execution_count": 65,
   "metadata": {
    "collapsed": false,
    "scrolled": true
   },
   "outputs": [
    {
     "name": "stdout",
     "output_type": "stream",
     "text": [
      "(172, (0.9895522078385338, 345))\n",
      "(181, (0.9857230861253026, 480))\n",
      "(963, (0.9823449614960231, 40))\n",
      "(174, (0.981760098872619, 380))\n",
      "(1007, (0.9783184758610347, 37))\n",
      "(178, (0.9776576120448436, 109))\n",
      "(408, (0.9775948291054827, 92))\n",
      "(498, (0.9764692222674887, 138))\n",
      "(251, (0.9761507096081464, 38))\n",
      "(1142, (0.9758709250445461, 37))\n"
     ]
    }
   ],
   "source": [
    "for r in target_movie_filtered.takeOrdered(10,key=lambda x: (-x[1][0],-x[1][1])):\n",
    "    print(r)"
   ]
  },
  {
   "cell_type": "code",
   "execution_count": 66,
   "metadata": {
    "collapsed": false,
    "scrolled": true
   },
   "outputs": [],
   "source": [
    "target_movie_filtered_named_rated=(target_movie_filtered.join(movie_names_and_ratings)\n",
    "                                                        .mapValues(lambda x: (x[1][0],x[1][1],x[1][2],\n",
    "                                                                              x[0][1],x[0][0])))"
   ]
  },
  {
   "cell_type": "code",
   "execution_count": 67,
   "metadata": {
    "collapsed": false
   },
   "outputs": [
    {
     "name": "stdout",
     "output_type": "stream",
     "text": [
      "(12, (u'Usual Suspects, The (1995)', 4.385767790262173, 267, 223, 0.9724956031333988))\n",
      "(528, (u'Killing Fields, The (1984)', 4.132231404958677, 121, 101, 0.9606248098770778))\n",
      "(48, (u'Hoop Dreams (1994)', 4.094017094017094, 117, 104, 0.9596593446508168))\n",
      "(96, (u'Terminator 2: Judgment Day (1991)', 4.0067796610169495, 295, 271, 0.9638252985093606))\n",
      "(132, (u'Wizard of Oz, The (1939)', 4.0772357723577235, 246, 221, 0.9686687782994247))\n",
      "(648, (u'Quiet Man, The (1952)', 4.029850746268656, 67, 57, 0.9602369649769346))\n",
      "(168, (u'Monty Python and the Holy Grail (1974)', 4.0664556962025316, 316, 278, 0.9628570039980153))\n",
      "(180, (u'Apocalypse Now (1979)', 4.04524886877828, 221, 183, 0.9554367900581618))\n",
      "(408, (u'Close Shave, A (1995)', 4.491071428571429, 112, 92, 0.9775948291054827))\n",
      "(480, (u'North by Northwest (1959)', 4.284916201117318, 179, 156, 0.9734534315266805))\n"
     ]
    }
   ],
   "source": [
    "for r in target_movie_filtered_named_rated.take(10):\n",
    "    print r"
   ]
  },
  {
   "cell_type": "code",
   "execution_count": 68,
   "metadata": {
    "collapsed": false,
    "scrolled": true
   },
   "outputs": [
    {
     "name": "stdout",
     "output_type": "stream",
     "text": [
      "Most similar movies to   50 [4.36, 583] - Star Wars (1977)\n",
      " 172 [4.20, 345/367] (0.9896): Empire Strikes Back, The (1980)\n",
      " 181 [4.01, 480/507] (0.9857): Return of the Jedi (1983)\n",
      " 963 [4.29,  40/ 41] (0.9823): Some Folks Call It a Sling Blade (1993)\n",
      " 174 [4.25, 380/420] (0.9818): Raiders of the Lost Ark (1981)\n",
      "1007 [4.13,  37/ 47] (0.9783): Waiting for Guffman (1996)\n",
      " 178 [4.34, 109/125] (0.9777): 12 Angry Men (1957)\n",
      " 408 [4.49,  92/112] (0.9776): Close Shave, A (1995)\n",
      " 498 [4.18, 138/152] (0.9765): African Queen, The (1951)\n",
      " 251 [4.26,  38/ 46] (0.9762): Shall We Dance? (1996)\n",
      "1142 [4.05,  37/ 44] (0.9759): When We Were Kings (1996)\n"
     ]
    }
   ],
   "source": [
    "target_movie_r=movie_names_and_ratings.lookup(target_movie)[0]\n",
    "print('Most similar movies to {:4d} [{:4.2f}, {:3d}] - {}'.format(target_movie,\n",
    "                                                                  target_movie_r[1],target_movie_r[2],\n",
    "                                                                  target_movie_r[0]))\n",
    "for r in target_movie_filtered_named_rated.takeOrdered(10,key=lambda x: (-x[1][4],-x[1][1])):\n",
    "    print('{:4d} [{:.2f}, {:3d}/{:3d}] ({:.4f}): {}'.format(r[0],r[1][1],r[1][3],r[1][2],r[1][4],r[1][0]))"
   ]
  },
  {
   "cell_type": "code",
   "execution_count": null,
   "metadata": {
    "collapsed": true
   },
   "outputs": [],
   "source": []
  }
 ],
 "metadata": {
  "kernelspec": {
   "display_name": "Python 2",
   "language": "python",
   "name": "python2"
  },
  "language_info": {
   "codemirror_mode": {
    "name": "ipython",
    "version": 2
   },
   "file_extension": ".py",
   "mimetype": "text/x-python",
   "name": "python",
   "nbconvert_exporter": "python",
   "pygments_lexer": "ipython2",
   "version": "2.7.12"
  }
 },
 "nbformat": 4,
 "nbformat_minor": 0
}
