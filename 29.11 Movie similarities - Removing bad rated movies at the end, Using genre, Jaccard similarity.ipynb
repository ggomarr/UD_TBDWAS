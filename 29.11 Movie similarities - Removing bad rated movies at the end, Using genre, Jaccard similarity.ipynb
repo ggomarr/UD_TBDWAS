{
 "cells": [
  {
   "cell_type": "code",
   "execution_count": 1,
   "metadata": {
    "collapsed": true
   },
   "outputs": [],
   "source": [
    "import findspark\n",
    "findspark.init()"
   ]
  },
  {
   "cell_type": "code",
   "execution_count": 2,
   "metadata": {
    "collapsed": false
   },
   "outputs": [],
   "source": [
    "from pyspark import SparkConf, SparkContext\n",
    "conf = SparkConf().setMaster(\"local[*]\").setAppName(\"MovieSimilaritiesRedux011\")\n",
    "sc = SparkContext(conf = conf)"
   ]
  },
  {
   "cell_type": "code",
   "execution_count": 3,
   "metadata": {
    "collapsed": false,
    "scrolled": true
   },
   "outputs": [],
   "source": [
    "def process_movie_row(movie_row):\n",
    "    movie=movie_row.split()\n",
    "    user_id=int(movie[0])\n",
    "    movie_id=int(movie[1])\n",
    "    rating=float(movie[2])\n",
    "    return user_id,(movie_id,rating)\n",
    "\n",
    "user_movie_ratings=(sc.textFile(\"/home/ggomarr/Documents/Education/Udemy_Spark/ml-100k/u.data\")\n",
    "                      .map(process_movie_row))"
   ]
  },
  {
   "cell_type": "code",
   "execution_count": 4,
   "metadata": {
    "collapsed": false,
    "scrolled": true
   },
   "outputs": [
    {
     "name": "stdout",
     "output_type": "stream",
     "text": [
      "(196, (242, 3.0))\n",
      "(186, (302, 3.0))\n",
      "(22, (377, 1.0))\n",
      "(244, (51, 2.0))\n",
      "(166, (346, 1.0))\n",
      "(298, (474, 4.0))\n",
      "(115, (265, 2.0))\n",
      "(253, (465, 5.0))\n",
      "(305, (451, 3.0))\n",
      "(6, (86, 3.0))\n"
     ]
    }
   ],
   "source": [
    "for r in user_movie_ratings.take(10):\n",
    "    print(r)"
   ]
  },
  {
   "cell_type": "code",
   "execution_count": 5,
   "metadata": {
    "collapsed": false
   },
   "outputs": [],
   "source": [
    "user_mr_pairs=(user_movie_ratings.join(user_movie_ratings)\n",
    "                                 .filter(lambda x: x[1][0][0]<x[1][1][0])\n",
    "                                 .map(lambda x: ((x[1][0][0],x[1][1][0]),(x[1][0][1],x[1][1][1])))\n",
    "                                 .groupByKey()\n",
    "                                 .mapValues(lambda x: zip(*x)))"
   ]
  },
  {
   "cell_type": "code",
   "execution_count": 6,
   "metadata": {
    "collapsed": false,
    "scrolled": true
   },
   "outputs": [
    {
     "name": "stdout",
     "output_type": "stream",
     "text": [
      "((197, 1097), [(5.0, 4.0, 3.0, 5.0, 3.0, 4.0, 2.0), (4.0, 5.0, 2.0, 4.0, 3.0, 4.0, 3.0)])\n",
      "((42, 364), [(4.0, 5.0, 4.0, 4.0, 3.0, 5.0, 3.0, 4.0, 1.0, 4.0, 5.0, 4.0, 5.0, 5.0, 4.0, 4.0, 5.0, 2.0), (3.0, 2.0, 3.0, 3.0, 2.0, 1.0, 4.0, 2.0, 1.0, 3.0, 3.0, 3.0, 3.0, 2.0, 3.0, 4.0, 2.0, 4.0)])\n",
      "((773, 1409), [(1.0,), (1.0,)])\n",
      "((273, 617), [(3.0, 5.0, 4.0, 3.0, 3.0, 3.0, 5.0), (3.0, 4.0, 5.0, 4.0, 3.0, 5.0, 4.0)])\n",
      "((372, 974), [(3.0,), (2.0,)])\n",
      "((789, 865), [(3.0, 5.0, 3.0), (4.0, 5.0, 4.0)])\n",
      "((496, 1314), [(4.0, 3.0, 5.0, 3.0), (3.0, 3.0, 3.0, 3.0)])\n",
      "((389, 493), [(5.0, 3.0, 4.0, 3.0, 3.0, 4.0, 4.0), (4.0, 5.0, 3.0, 3.0, 4.0, 4.0, 5.0)])\n",
      "((856, 1006), [(4.0, 3.0, 5.0, 3.0, 4.0, 1.0, 3.0, 4.0, 4.0, 3.0), (4.0, 2.0, 3.0, 2.0, 4.0, 1.0, 2.0, 3.0, 3.0, 4.0)])\n",
      "((552, 754), [(5.0, 1.0), (3.0, 3.0)])\n"
     ]
    }
   ],
   "source": [
    "for r in user_mr_pairs.take(10):\n",
    "    print(r)"
   ]
  },
  {
   "cell_type": "code",
   "execution_count": 7,
   "metadata": {
    "collapsed": false
   },
   "outputs": [],
   "source": [
    "def jaccard_similarity(v1,v2):\n",
    "    from sklearn.metrics import jaccard_similarity_score\n",
    "    num_pairs=len(v1)\n",
    "    return jaccard_similarity_score(v1,v2),num_pairs\n",
    "    \n",
    "movie_pair_ur_similarities=user_mr_pairs.mapValues(lambda x: jaccard_similarity(*x))"
   ]
  },
  {
   "cell_type": "code",
   "execution_count": 31,
   "metadata": {
    "collapsed": false
   },
   "outputs": [
    {
     "name": "stdout",
     "output_type": "stream",
     "text": [
      "((1, 2), (0.25961538461538464, 104))\n",
      "((1, 3), (0.25641025641025639, 78))\n",
      "((1, 4), (0.3087248322147651, 149))\n",
      "((1, 5), (0.43859649122807015, 57))\n",
      "((1, 6), (0.5, 14))\n",
      "((1, 7), (0.33096085409252668, 281))\n",
      "((1, 8), (0.41558441558441561, 154))\n",
      "((1, 9), (0.30348258706467662, 201))\n",
      "((1, 10), (0.31147540983606559, 61))\n",
      "((1, 11), (0.375, 160))\n"
     ]
    }
   ],
   "source": [
    "for r in movie_pair_ur_similarities.takeOrdered(10):\n",
    "    print(r)"
   ]
  },
  {
   "cell_type": "code",
   "execution_count": 9,
   "metadata": {
    "collapsed": true
   },
   "outputs": [],
   "source": [
    "def process_movie_row_genre(movie_row):\n",
    "    movie=movie_row.split('|')\n",
    "    movie_id=int(movie[0])\n",
    "    movie_genres=[int(g) for g in movie[5:]]\n",
    "    return movie_id,movie_genres\n",
    "\n",
    "processed_movie_genres=(sc.textFile(\"/home/ggomarr/Documents/Education/Udemy_Spark/ml-100k/u.item\")\n",
    "                          .map(process_movie_row_genre))"
   ]
  },
  {
   "cell_type": "code",
   "execution_count": 10,
   "metadata": {
    "collapsed": false,
    "scrolled": true
   },
   "outputs": [
    {
     "name": "stdout",
     "output_type": "stream",
     "text": [
      "   1 - [0, 0, 0, 1, 1, 1, 0, 0, 0, 0, 0, 0, 0, 0, 0, 0, 0, 0, 0]\n",
      "   2 - [0, 1, 1, 0, 0, 0, 0, 0, 0, 0, 0, 0, 0, 0, 0, 0, 1, 0, 0]\n",
      "   3 - [0, 0, 0, 0, 0, 0, 0, 0, 0, 0, 0, 0, 0, 0, 0, 0, 1, 0, 0]\n",
      "   4 - [0, 1, 0, 0, 0, 1, 0, 0, 1, 0, 0, 0, 0, 0, 0, 0, 0, 0, 0]\n",
      "   5 - [0, 0, 0, 0, 0, 0, 1, 0, 1, 0, 0, 0, 0, 0, 0, 0, 1, 0, 0]\n",
      "   6 - [0, 0, 0, 0, 0, 0, 0, 0, 1, 0, 0, 0, 0, 0, 0, 0, 0, 0, 0]\n",
      "   7 - [0, 0, 0, 0, 0, 0, 0, 0, 1, 0, 0, 0, 0, 0, 0, 1, 0, 0, 0]\n",
      "   8 - [0, 0, 0, 0, 1, 1, 0, 0, 1, 0, 0, 0, 0, 0, 0, 0, 0, 0, 0]\n",
      "   9 - [0, 0, 0, 0, 0, 0, 0, 0, 1, 0, 0, 0, 0, 0, 0, 0, 0, 0, 0]\n",
      "  10 - [0, 0, 0, 0, 0, 0, 0, 0, 1, 0, 0, 0, 0, 0, 0, 0, 0, 1, 0]\n"
     ]
    }
   ],
   "source": [
    "for r in processed_movie_genres.takeOrdered(10):\n",
    "    print('{:4d} - {}'.format(r[0],r[1]))"
   ]
  },
  {
   "cell_type": "code",
   "execution_count": 11,
   "metadata": {
    "collapsed": true
   },
   "outputs": [],
   "source": [
    "movie_gr_pairs=(processed_movie_genres.cartesian(processed_movie_genres)\n",
    "                                      .filter(lambda x: x[0][0]<x[1][0])\n",
    "                                      .map(lambda x: ((x[0][0],x[1][0]),(x[0][1],x[1][1]))))"
   ]
  },
  {
   "cell_type": "code",
   "execution_count": 12,
   "metadata": {
    "collapsed": false
   },
   "outputs": [
    {
     "name": "stdout",
     "output_type": "stream",
     "text": [
      "((1, 2), ([0, 0, 0, 1, 1, 1, 0, 0, 0, 0, 0, 0, 0, 0, 0, 0, 0, 0, 0], [0, 1, 1, 0, 0, 0, 0, 0, 0, 0, 0, 0, 0, 0, 0, 0, 1, 0, 0]))\n",
      "((1, 3), ([0, 0, 0, 1, 1, 1, 0, 0, 0, 0, 0, 0, 0, 0, 0, 0, 0, 0, 0], [0, 0, 0, 0, 0, 0, 0, 0, 0, 0, 0, 0, 0, 0, 0, 0, 1, 0, 0]))\n",
      "((1, 4), ([0, 0, 0, 1, 1, 1, 0, 0, 0, 0, 0, 0, 0, 0, 0, 0, 0, 0, 0], [0, 1, 0, 0, 0, 1, 0, 0, 1, 0, 0, 0, 0, 0, 0, 0, 0, 0, 0]))\n",
      "((1, 5), ([0, 0, 0, 1, 1, 1, 0, 0, 0, 0, 0, 0, 0, 0, 0, 0, 0, 0, 0], [0, 0, 0, 0, 0, 0, 1, 0, 1, 0, 0, 0, 0, 0, 0, 0, 1, 0, 0]))\n",
      "((1, 6), ([0, 0, 0, 1, 1, 1, 0, 0, 0, 0, 0, 0, 0, 0, 0, 0, 0, 0, 0], [0, 0, 0, 0, 0, 0, 0, 0, 1, 0, 0, 0, 0, 0, 0, 0, 0, 0, 0]))\n"
     ]
    }
   ],
   "source": [
    "for r in movie_gr_pairs.take(5):\n",
    "    print r"
   ]
  },
  {
   "cell_type": "code",
   "execution_count": 13,
   "metadata": {
    "collapsed": true
   },
   "outputs": [],
   "source": [
    "movie_pair_gr_similarities=movie_gr_pairs.mapValues(lambda x: jaccard_similarity(*x)[0])"
   ]
  },
  {
   "cell_type": "code",
   "execution_count": 14,
   "metadata": {
    "collapsed": false,
    "scrolled": true
   },
   "outputs": [
    {
     "name": "stdout",
     "output_type": "stream",
     "text": [
      "((1, 2), 0.68421052631578949)\n",
      "((1, 3), 0.78947368421052633)\n",
      "((1, 4), 0.78947368421052633)\n",
      "((1, 5), 0.68421052631578949)\n",
      "((1, 6), 0.78947368421052633)\n",
      "((1, 7), 0.73684210526315785)\n",
      "((1, 8), 0.89473684210526316)\n",
      "((1, 9), 0.78947368421052633)\n",
      "((1, 10), 0.73684210526315785)\n",
      "((1, 11), 0.73684210526315785)\n"
     ]
    }
   ],
   "source": [
    "for r in movie_pair_gr_similarities.takeOrdered(10):\n",
    "    print r"
   ]
  },
  {
   "cell_type": "code",
   "execution_count": 15,
   "metadata": {
    "collapsed": false
   },
   "outputs": [],
   "source": [
    "genre_weight=0.25\n",
    "\n",
    "movie_pair_similarities=(movie_pair_ur_similarities.join(movie_pair_gr_similarities)\n",
    "                                                   .mapValues(lambda x: (x[0][0]+genre_weight*x[1],x[0][1])))"
   ]
  },
  {
   "cell_type": "code",
   "execution_count": 16,
   "metadata": {
    "collapsed": false
   },
   "outputs": [
    {
     "name": "stdout",
     "output_type": "stream",
     "text": [
      "((1, 2), (0.43066801619433204, 104))\n",
      "((1, 3), (0.45377867746288797, 78))\n",
      "((1, 4), (0.50609325326739674, 149))\n",
      "((1, 5), (0.60964912280701755, 57))\n",
      "((1, 6), (0.69736842105263164, 14))\n",
      "((1, 7), (0.51517138040831612, 281))\n",
      "((1, 8), (0.63926862611073143, 154))\n",
      "((1, 9), (0.50085100811730821, 201))\n",
      "((1, 10), (0.49568593615185508, 61))\n",
      "((1, 11), (0.55921052631578949, 160))\n"
     ]
    }
   ],
   "source": [
    "for r in movie_pair_similarities.takeOrdered(10):\n",
    "    print r"
   ]
  },
  {
   "cell_type": "code",
   "execution_count": 17,
   "metadata": {
    "collapsed": false
   },
   "outputs": [],
   "source": [
    "movie_avg_ratings=(user_movie_ratings.map(lambda x: (x[1][0],(x[1][1],1)))\n",
    "                                     .reduceByKey(lambda x, y: (x[0]+y[0],x[1]+y[1]))\n",
    "                                     .mapValues(lambda x: (x[0]/x[1],x[1])))"
   ]
  },
  {
   "cell_type": "code",
   "execution_count": 18,
   "metadata": {
    "collapsed": false,
    "scrolled": true
   },
   "outputs": [
    {
     "name": "stdout",
     "output_type": "stream",
     "text": [
      "(2, (3.2061068702290076, 131))\n",
      "(4, (3.550239234449761, 209))\n",
      "(6, (3.576923076923077, 26))\n",
      "(8, (3.9954337899543377, 219))\n",
      "(10, (3.831460674157303, 89))\n",
      "(12, (4.385767790262173, 267))\n",
      "(14, (3.9672131147540983, 183))\n",
      "(16, (3.2051282051282053, 39))\n",
      "(18, (2.8, 10))\n",
      "(20, (3.4166666666666665, 72))\n"
     ]
    }
   ],
   "source": [
    "for r in movie_avg_ratings.take(10):\n",
    "    print(r)"
   ]
  },
  {
   "cell_type": "code",
   "execution_count": 19,
   "metadata": {
    "collapsed": true
   },
   "outputs": [],
   "source": [
    "def process_movie_row_names_and_ratings(movie_row):\n",
    "    movie=movie_row.split('|')\n",
    "    movie_id=int(movie[0])\n",
    "    movie_title=movie[1]\n",
    "    return (movie_id,movie_title)\n",
    "\n",
    "movie_names_and_ratings=(sc.textFile(\"/home/ggomarr/Documents/Education/Udemy_Spark/ml-100k/u.item\")\n",
    "                           .map(process_movie_row_names_and_ratings)\n",
    "                           .join(movie_avg_ratings)\n",
    "                           .mapValues(lambda x: (x[0],x[1][0],x[1][1])))"
   ]
  },
  {
   "cell_type": "code",
   "execution_count": 20,
   "metadata": {
    "collapsed": false,
    "scrolled": true
   },
   "outputs": [
    {
     "name": "stdout",
     "output_type": "stream",
     "text": [
      "   1 [3.88, 452] - Toy Story (1995)\n",
      "   2 [3.21, 131] - GoldenEye (1995)\n",
      "   3 [3.03,  90] - Four Rooms (1995)\n",
      "   4 [3.55, 209] - Get Shorty (1995)\n",
      "   5 [3.30,  86] - Copycat (1995)\n",
      "   6 [3.58,  26] - Shanghai Triad (Yao a yao yao dao waipo qiao) (1995)\n",
      "   7 [3.80, 392] - Twelve Monkeys (1995)\n",
      "   8 [4.00, 219] - Babe (1995)\n",
      "   9 [3.90, 299] - Dead Man Walking (1995)\n",
      "  10 [3.83,  89] - Richard III (1995)\n"
     ]
    }
   ],
   "source": [
    "for r in movie_names_and_ratings.takeOrdered(10):\n",
    "    print('{:4d} [{:4.2f}, {:3d}] - {}'.format(r[0],r[1][1],r[1][2],r[1][0]))"
   ]
  },
  {
   "cell_type": "code",
   "execution_count": 26,
   "metadata": {
    "collapsed": false
   },
   "outputs": [],
   "source": [
    "target_movie=50\n",
    "min_similarity=0.50\n",
    "min_num_rating_pairs=25\n",
    "\n",
    "target_movie_filtered=(movie_pair_similarities.filter(lambda x: ((x[0][0]==target_movie) or \\\n",
    "                                                                 (x[0][1]==target_movie)) and \\\n",
    "                                                                 x[1][0]>=min_similarity and \\\n",
    "                                                                 x[1][1]>=min_num_rating_pairs)\n",
    "                                              .map(lambda x: (x[0][0] if x[0][0]<>target_movie else x[0][1],\n",
    "                                                              (x[1][0],x[1][1]))))"
   ]
  },
  {
   "cell_type": "code",
   "execution_count": 27,
   "metadata": {
    "collapsed": false,
    "scrolled": true
   },
   "outputs": [
    {
     "name": "stdout",
     "output_type": "stream",
     "text": [
      "(172, (0.88032036613272302, 345))\n",
      "(181, (0.8125, 480))\n",
      "(174, (0.78157894736842104, 380))\n",
      "(114, (0.75725952813067143, 58))\n",
      "(641, (0.74421052631578954, 25))\n",
      "(169, (0.7307102708226878, 103))\n",
      "(936, (0.68957115009746583, 27))\n",
      "(963, (0.68289473684210522, 40))\n",
      "(173, (0.67883617494440318, 284))\n",
      "(483, (0.67867683226758491, 214))\n"
     ]
    }
   ],
   "source": [
    "for r in target_movie_filtered.takeOrdered(10,key=lambda x: (-x[1][0],-x[1][1])):\n",
    "    print(r)"
   ]
  },
  {
   "cell_type": "code",
   "execution_count": 28,
   "metadata": {
    "collapsed": false,
    "scrolled": true
   },
   "outputs": [],
   "source": [
    "min_rating=4\n",
    "\n",
    "target_movie_filtered_named_rated=(target_movie_filtered.join(movie_names_and_ratings)\n",
    "                                                        .mapValues(lambda x: (x[1][0],x[1][1],x[1][2],\n",
    "                                                                              x[0][1],x[0][0]))\n",
    "                                                        .filter(lambda x: x[1][1]>=min_rating))"
   ]
  },
  {
   "cell_type": "code",
   "execution_count": 29,
   "metadata": {
    "collapsed": false
   },
   "outputs": [
    {
     "name": "stdout",
     "output_type": "stream",
     "text": [
      "(12, (u'Usual Suspects, The (1995)', 4.385767790262173, 267, 223, 0.6332310597120604))\n",
      "(528, (u'Killing Fields, The (1984)', 4.132231404958677, 121, 101, 0.55054715997915582))\n",
      "(48, (u'Hoop Dreams (1994)', 4.094017094017094, 117, 104, 0.56528340080971662))\n",
      "(60, (u'Three Colors: Blue (1993)', 4.015625, 64, 53, 0.51067527308838134))\n",
      "(96, (u'Terminator 2: Judgment Day (1991)', 4.0067796610169495, 295, 271, 0.58482229559137699))\n",
      "(132, (u'Wizard of Oz, The (1939)', 4.0772357723577235, 246, 221, 0.56513455584663008))\n",
      "(648, (u'Quiet Man, The (1952)', 4.029850746268656, 67, 57, 0.55263157894736836))\n",
      "(168, (u'Monty Python and the Holy Grail (1974)', 4.0664556962025316, 316, 278, 0.59551306323362363))\n",
      "(180, (u'Apocalypse Now (1979)', 4.04524886877828, 221, 183, 0.57765314926660916))\n",
      "(192, (u'Raging Bull (1980)', 4.120689655172414, 116, 96, 0.51480263157894735))\n"
     ]
    }
   ],
   "source": [
    "for r in target_movie_filtered_named_rated.take(10):\n",
    "    print r"
   ]
  },
  {
   "cell_type": "code",
   "execution_count": 30,
   "metadata": {
    "collapsed": false,
    "scrolled": true
   },
   "outputs": [
    {
     "name": "stdout",
     "output_type": "stream",
     "text": [
      "Most similar movies to   50 [4.36, 583] - Star Wars (1977)\n",
      " 172 [4.20, 345/367] (0.8803): Empire Strikes Back, The (1980)\n",
      " 181 [4.01, 480/507] (0.8125): Return of the Jedi (1983)\n",
      " 174 [4.25, 380/420] (0.7816): Raiders of the Lost Ark (1981)\n",
      " 114 [4.45,  58/ 67] (0.7573): Wallace & Gromit: The Best of Aardman Animation (1996)\n",
      " 641 [4.21,  25/ 33] (0.7442): Paths of Glory (1957)\n",
      " 169 [4.47, 103/118] (0.7307): Wrong Trousers, The (1993)\n",
      " 963 [4.29,  40/ 41] (0.6829): Some Folks Call It a Sling Blade (1993)\n",
      " 173 [4.17, 284/324] (0.6788): Princess Bride, The (1987)\n",
      " 483 [4.46, 214/243] (0.6787): Casablanca (1942)\n",
      " 498 [4.18, 138/152] (0.6716): African Queen, The (1951)\n"
     ]
    }
   ],
   "source": [
    "target_movie_r=movie_names_and_ratings.lookup(target_movie)[0]\n",
    "print('Most similar movies to {:4d} [{:4.2f}, {:3d}] - {}'.format(target_movie,\n",
    "                                                                  target_movie_r[1],target_movie_r[2],\n",
    "                                                                  target_movie_r[0]))\n",
    "for r in target_movie_filtered_named_rated.takeOrdered(10,key=lambda x: (-x[1][4],-x[1][1])):\n",
    "    print('{:4d} [{:.2f}, {:3d}/{:3d}] ({:.4f}): {}'.format(r[0],r[1][1],r[1][3],r[1][2],r[1][4],r[1][0]))"
   ]
  },
  {
   "cell_type": "code",
   "execution_count": null,
   "metadata": {
    "collapsed": true
   },
   "outputs": [],
   "source": []
  }
 ],
 "metadata": {
  "kernelspec": {
   "display_name": "Python 2",
   "language": "python",
   "name": "python2"
  },
  "language_info": {
   "codemirror_mode": {
    "name": "ipython",
    "version": 2
   },
   "file_extension": ".py",
   "mimetype": "text/x-python",
   "name": "python",
   "nbconvert_exporter": "python",
   "pygments_lexer": "ipython2",
   "version": "2.7.12"
  }
 },
 "nbformat": 4,
 "nbformat_minor": 0
}
