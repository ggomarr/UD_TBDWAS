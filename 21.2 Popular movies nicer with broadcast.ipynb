{
 "cells": [
  {
   "cell_type": "code",
   "execution_count": 1,
   "metadata": {
    "collapsed": true
   },
   "outputs": [],
   "source": [
    "import findspark\n",
    "findspark.init()"
   ]
  },
  {
   "cell_type": "code",
   "execution_count": 2,
   "metadata": {
    "collapsed": true
   },
   "outputs": [],
   "source": [
    "from pyspark import SparkConf, SparkContext\n",
    "conf = SparkConf().setMaster(\"local\").setAppName(\"PopularMoviesNicerWithBroadcast\")\n",
    "sc = SparkContext(conf = conf)"
   ]
  },
  {
   "cell_type": "code",
   "execution_count": 17,
   "metadata": {
    "collapsed": false
   },
   "outputs": [],
   "source": [
    "movie_counts_raw=sc.textFile(\"/home/ggomarr/Documents/Education/Udemy_Spark/ml-100k/u.data\")\n",
    "movie_counts_sorted=(movie_counts_raw.map(lambda x: (int(x.split()[1]),1) )\n",
    "                                     .reduceByKey(lambda x, y: x + y)\n",
    "                                     .map(lambda x: (x[1], x[0]))\n",
    "                                     .sortByKey(False))"
   ]
  },
  {
   "cell_type": "code",
   "execution_count": 18,
   "metadata": {
    "collapsed": false
   },
   "outputs": [
    {
     "name": "stdout",
     "output_type": "stream",
     "text": [
      " 583 -  50\n",
      " 509 - 258\n",
      " 508 - 100\n",
      " 507 - 181\n",
      " 485 - 294\n",
      " 481 - 286\n",
      " 478 - 288\n",
      " 452 -   1\n",
      " 431 - 300\n",
      " 429 - 121\n"
     ]
    }
   ],
   "source": [
    "for movie in movie_counts_sorted.take(10):\n",
    "    print('{:4d} - {:3d}'.format(movie[0],movie[1]))"
   ]
  },
  {
   "cell_type": "code",
   "execution_count": 20,
   "metadata": {
    "collapsed": false,
    "scrolled": true
   },
   "outputs": [],
   "source": [
    "def process_movie_names_file(movie_names_file):\n",
    "    movie_names_dict={}\n",
    "    with open(movie_names_file) as f:\n",
    "        for movie_row in f:\n",
    "            movie=movie_row.split('|')\n",
    "            movie_id=int(movie[0])\n",
    "            movie_title=movie[1]\n",
    "            movie_names_dict[movie_id]=movie_title\n",
    "    return movie_names_dict\n",
    "\n",
    "movie_names_file=\"/home/ggomarr/Documents/Education/Udemy_Spark/ml-100k/u.item\"\n",
    "movie_names_dict=process_movie_names_file(movie_names_file)"
   ]
  },
  {
   "cell_type": "code",
   "execution_count": 21,
   "metadata": {
    "collapsed": false,
    "scrolled": true
   },
   "outputs": [
    {
     "name": "stdout",
     "output_type": "stream",
     "text": [
      "   1 - Toy Story (1995)\n",
      "   2 - GoldenEye (1995)\n",
      "   3 - Four Rooms (1995)\n",
      "   4 - Get Shorty (1995)\n",
      "   5 - Copycat (1995)\n",
      "   6 - Shanghai Triad (Yao a yao yao dao waipo qiao) (1995)\n",
      "   7 - Twelve Monkeys (1995)\n",
      "   8 - Babe (1995)\n",
      "   9 - Dead Man Walking (1995)\n",
      "  10 - Richard III (1995)\n"
     ]
    }
   ],
   "source": [
    "for movie_id in range(1,11):\n",
    "    print('{:4d} - {}'.format(movie_id,movie_names_dict[movie_id]))"
   ]
  },
  {
   "cell_type": "code",
   "execution_count": 56,
   "metadata": {
    "collapsed": true
   },
   "outputs": [],
   "source": [
    "movie_names_dict_bc=sc.broadcast(movie_names_dict)"
   ]
  },
  {
   "cell_type": "code",
   "execution_count": 22,
   "metadata": {
    "collapsed": false
   },
   "outputs": [],
   "source": [
    "movie_counts_with_names_sorted=movie_counts_sorted.map(lambda x: (x[0],(x[1],movie_names_dict_bc.value[x[1]])))"
   ]
  },
  {
   "cell_type": "code",
   "execution_count": 24,
   "metadata": {
    "collapsed": false
   },
   "outputs": [
    {
     "name": "stdout",
     "output_type": "stream",
     "text": [
      "583 -   50 - Star Wars (1977)\n",
      "509 -  258 - Contact (1997)\n",
      "508 -  100 - Fargo (1996)\n",
      "507 -  181 - Return of the Jedi (1983)\n",
      "485 -  294 - Liar Liar (1997)\n",
      "481 -  286 - English Patient, The (1996)\n",
      "478 -  288 - Scream (1996)\n",
      "452 -    1 - Toy Story (1995)\n",
      "431 -  300 - Air Force One (1997)\n",
      "429 -  121 - Independence Day (ID4) (1996)\n"
     ]
    }
   ],
   "source": [
    "for movie in movie_counts_with_names_sorted.take(10):\n",
    "    print('{:3d} - {:4d} - {}'.format(movie[0],movie[1][0],movie[1][1]))"
   ]
  },
  {
   "cell_type": "code",
   "execution_count": null,
   "metadata": {
    "collapsed": true
   },
   "outputs": [],
   "source": []
  }
 ],
 "metadata": {
  "kernelspec": {
   "display_name": "Python 2",
   "language": "python",
   "name": "python2"
  },
  "language_info": {
   "codemirror_mode": {
    "name": "ipython",
    "version": 2
   },
   "file_extension": ".py",
   "mimetype": "text/x-python",
   "name": "python",
   "nbconvert_exporter": "python",
   "pygments_lexer": "ipython2",
   "version": "2.7.12"
  }
 },
 "nbformat": 4,
 "nbformat_minor": 0
}
