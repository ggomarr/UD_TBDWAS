{
 "cells": [
  {
   "cell_type": "code",
   "execution_count": 1,
   "metadata": {
    "collapsed": true
   },
   "outputs": [],
   "source": [
    "import findspark\n",
    "findspark.init()\n",
    "\n",
    "from pyspark.sql import SparkSession, Row\n",
    "spark=SparkSession.builder.appName('SparkSQL039').getOrCreate()\n",
    "sc=spark.sparkContext"
   ]
  },
  {
   "cell_type": "code",
   "execution_count": 3,
   "metadata": {
    "collapsed": false
   },
   "outputs": [],
   "source": [
    "def extract_row(line):\n",
    "    fields=line.split(',')\n",
    "    return Row(ID=int(fields[0]),\n",
    "               name=str(fields[1].encode(\"utf-8\")),\n",
    "               age=int(fields[2]),\n",
    "               numFriends=int(fields[3]))\n",
    "people=sc.textFile('/home/ggomarr/Documents/Education/Udemy_Spark/10_fakefriends.csv').map(extract_row)\n",
    "people_df=spark.createDataFrame(people).cache()"
   ]
  },
  {
   "cell_type": "code",
   "execution_count": 4,
   "metadata": {
    "collapsed": false,
    "scrolled": true
   },
   "outputs": [
    {
     "name": "stdout",
     "output_type": "stream",
     "text": [
      "Row(ID=21, age=19, name=u'Miles', numFriends=268)\n",
      "Row(ID=52, age=19, name=u'Beverly', numFriends=269)\n",
      "Row(ID=54, age=19, name=u'Brunt', numFriends=5)\n",
      "Row(ID=106, age=18, name=u'Beverly', numFriends=499)\n",
      "Row(ID=115, age=18, name=u'Dukat', numFriends=397)\n",
      "Row(ID=133, age=19, name=u'Quark', numFriends=265)\n",
      "Row(ID=136, age=19, name=u'Will', numFriends=335)\n",
      "Row(ID=225, age=19, name=u'Elim', numFriends=106)\n",
      "Row(ID=304, age=19, name=u'Will', numFriends=404)\n",
      "Row(ID=341, age=18, name=u'Data', numFriends=326)\n",
      "Row(ID=366, age=19, name=u'Keiko', numFriends=119)\n",
      "Row(ID=373, age=19, name=u'Quark', numFriends=272)\n",
      "Row(ID=377, age=18, name=u'Beverly', numFriends=418)\n",
      "Row(ID=404, age=18, name=u'Kasidy', numFriends=24)\n",
      "Row(ID=409, age=19, name=u'Nog', numFriends=267)\n",
      "Row(ID=439, age=18, name=u'Data', numFriends=417)\n",
      "Row(ID=444, age=18, name=u'Keiko', numFriends=472)\n",
      "Row(ID=492, age=19, name=u'Dukat', numFriends=36)\n",
      "Row(ID=494, age=18, name=u'Kasidy', numFriends=194)\n"
     ]
    }
   ],
   "source": [
    "people_df.createOrReplaceTempView(\"people\")\n",
    "teen_lst=spark.sql('SELECT * FROM people WHERE age >= 13 AND age <= 19')\n",
    "for teen in teen_lst.collect():\n",
    "    print(teen)"
   ]
  },
  {
   "cell_type": "code",
   "execution_count": 6,
   "metadata": {
    "collapsed": false,
    "scrolled": true
   },
   "outputs": [
    {
     "name": "stdout",
     "output_type": "stream",
     "text": [
      "+---+---+-------+----------+\n",
      "| ID|age|   name|numFriends|\n",
      "+---+---+-------+----------+\n",
      "| 21| 19|  Miles|       268|\n",
      "| 52| 19|Beverly|       269|\n",
      "| 54| 19|  Brunt|         5|\n",
      "|106| 18|Beverly|       499|\n",
      "|115| 18|  Dukat|       397|\n",
      "|133| 19|  Quark|       265|\n",
      "|136| 19|   Will|       335|\n",
      "|225| 19|   Elim|       106|\n",
      "|304| 19|   Will|       404|\n",
      "|341| 18|   Data|       326|\n",
      "|366| 19|  Keiko|       119|\n",
      "|373| 19|  Quark|       272|\n",
      "|377| 18|Beverly|       418|\n",
      "|404| 18| Kasidy|        24|\n",
      "|409| 19|    Nog|       267|\n",
      "|439| 18|   Data|       417|\n",
      "|444| 18|  Keiko|       472|\n",
      "|492| 19|  Dukat|        36|\n",
      "|494| 18| Kasidy|       194|\n",
      "+---+---+-------+----------+\n",
      "\n"
     ]
    }
   ],
   "source": [
    "teen_lst.show()"
   ]
  },
  {
   "cell_type": "code",
   "execution_count": 7,
   "metadata": {
    "collapsed": false
   },
   "outputs": [
    {
     "name": "stdout",
     "output_type": "stream",
     "text": [
      "+---+-----+\n",
      "|age|count|\n",
      "+---+-----+\n",
      "| 18|    8|\n",
      "| 19|   11|\n",
      "| 20|    5|\n",
      "| 21|    8|\n",
      "| 22|    7|\n",
      "| 23|   10|\n",
      "| 24|    5|\n",
      "| 25|   11|\n",
      "| 26|   17|\n",
      "| 27|    8|\n",
      "| 28|   10|\n",
      "| 29|   12|\n",
      "| 30|   11|\n",
      "| 31|    8|\n",
      "| 32|   11|\n",
      "| 33|   12|\n",
      "| 34|    6|\n",
      "| 35|    8|\n",
      "| 36|   10|\n",
      "| 37|    9|\n",
      "+---+-----+\n",
      "only showing top 20 rows\n",
      "\n"
     ]
    }
   ],
   "source": [
    "people_df.groupBy('age').count().orderBy('age').show()"
   ]
  },
  {
   "cell_type": "code",
   "execution_count": 12,
   "metadata": {
    "collapsed": false
   },
   "outputs": [
    {
     "name": "stdout",
     "output_type": "stream",
     "text": [
      "+---+------------------+---------+\n",
      "|age|   avg(numFriends)|count(ID)|\n",
      "+---+------------------+---------+\n",
      "| 18|           343.375|        8|\n",
      "| 19|213.27272727272728|       11|\n",
      "| 20|             165.0|        5|\n",
      "| 21|           350.875|        8|\n",
      "| 22|206.42857142857142|        7|\n",
      "| 23|             246.3|       10|\n",
      "| 24|             233.8|        5|\n",
      "| 25|197.45454545454547|       11|\n",
      "| 26|242.05882352941177|       17|\n",
      "| 27|           228.125|        8|\n",
      "| 28|             209.1|       10|\n",
      "| 29|215.91666666666666|       12|\n",
      "| 30| 235.8181818181818|       11|\n",
      "| 31|            267.25|        8|\n",
      "| 32| 207.9090909090909|       11|\n",
      "| 33| 325.3333333333333|       12|\n",
      "| 34|             245.5|        6|\n",
      "| 35|           211.625|        8|\n",
      "| 36|             246.6|       10|\n",
      "| 37|249.33333333333334|        9|\n",
      "+---+------------------+---------+\n",
      "only showing top 20 rows\n",
      "\n"
     ]
    }
   ],
   "source": [
    "spark.sql('SELECT age,MEAN(numFriends),COUNT(ID) FROM people GROUP BY age ORDER BY age').show()"
   ]
  },
  {
   "cell_type": "code",
   "execution_count": 24,
   "metadata": {
    "collapsed": false,
    "scrolled": true
   },
   "outputs": [
    {
     "name": "stdout",
     "output_type": "stream",
     "text": [
      "+---+--------+---+---+\n",
      "|_c0|     _c1|_c2|_c3|\n",
      "+---+--------+---+---+\n",
      "|  0|    Will| 33|385|\n",
      "|  1|Jean-Luc| 26|  2|\n",
      "|  2|    Hugh| 55|221|\n",
      "|  3|  Deanna| 40|465|\n",
      "|  4|   Quark| 68| 21|\n",
      "|  5|  Weyoun| 59|318|\n",
      "|  6|  Gowron| 37|220|\n",
      "|  7|    Will| 54|307|\n",
      "|  8|  Jadzia| 38|380|\n",
      "|  9|    Hugh| 27|181|\n",
      "| 10|     Odo| 53|191|\n",
      "| 11|     Ben| 57|372|\n",
      "| 12|   Keiko| 54|253|\n",
      "| 13|Jean-Luc| 56|444|\n",
      "| 14|    Hugh| 43| 49|\n",
      "| 15|     Rom| 36| 49|\n",
      "| 16|  Weyoun| 22|323|\n",
      "| 17|     Odo| 35| 13|\n",
      "| 18|Jean-Luc| 45|455|\n",
      "| 19|  Geordi| 60|246|\n",
      "+---+--------+---+---+\n",
      "only showing top 20 rows\n",
      "\n"
     ]
    }
   ],
   "source": [
    "people_df_2=spark.read.csv('/home/ggomarr/Documents/Education/Udemy_Spark/10_fakefriends.csv',\n",
    "                           sep=',',\n",
    "                           inferSchema=True)\n",
    "people_df_2.show()"
   ]
  },
  {
   "cell_type": "code",
   "execution_count": 25,
   "metadata": {
    "collapsed": false
   },
   "outputs": [
    {
     "data": {
      "text/plain": [
       "StructType(List(StructField(_c0,IntegerType,true),StructField(_c1,StringType,true),StructField(_c2,IntegerType,true),StructField(_c3,IntegerType,true)))"
      ]
     },
     "execution_count": 25,
     "metadata": {},
     "output_type": "execute_result"
    }
   ],
   "source": [
    "people_df_2.schema"
   ]
  },
  {
   "cell_type": "code",
   "execution_count": 26,
   "metadata": {
    "collapsed": false
   },
   "outputs": [
    {
     "name": "stdout",
     "output_type": "stream",
     "text": [
      "+---+--------+---+-------+\n",
      "| ID|    name|age|friends|\n",
      "+---+--------+---+-------+\n",
      "|  0|    Will| 33|    385|\n",
      "|  1|Jean-Luc| 26|      2|\n",
      "|  2|    Hugh| 55|    221|\n",
      "|  3|  Deanna| 40|    465|\n",
      "|  4|   Quark| 68|     21|\n",
      "|  5|  Weyoun| 59|    318|\n",
      "|  6|  Gowron| 37|    220|\n",
      "|  7|    Will| 54|    307|\n",
      "|  8|  Jadzia| 38|    380|\n",
      "|  9|    Hugh| 27|    181|\n",
      "| 10|     Odo| 53|    191|\n",
      "| 11|     Ben| 57|    372|\n",
      "| 12|   Keiko| 54|    253|\n",
      "| 13|Jean-Luc| 56|    444|\n",
      "| 14|    Hugh| 43|     49|\n",
      "| 15|     Rom| 36|     49|\n",
      "| 16|  Weyoun| 22|    323|\n",
      "| 17|     Odo| 35|     13|\n",
      "| 18|Jean-Luc| 45|    455|\n",
      "| 19|  Geordi| 60|    246|\n",
      "+---+--------+---+-------+\n",
      "only showing top 20 rows\n",
      "\n"
     ]
    }
   ],
   "source": [
    "from pyspark.sql.types import StructType, StructField, IntegerType, StringType\n",
    "\n",
    "schema=StructType([StructField(\"ID\", IntegerType()),\n",
    "                   StructField(\"name\", StringType()),\n",
    "                   StructField(\"age\", IntegerType()),\n",
    "                   StructField(\"friends\", IntegerType())])\n",
    "people_df_2=spark.read.csv('/home/ggomarr/Documents/Education/Udemy_Spark/10_fakefriends.csv',\n",
    "                           sep=',',\n",
    "                           schema=schema)\n",
    "people_df_2.show()"
   ]
  },
  {
   "cell_type": "code",
   "execution_count": 27,
   "metadata": {
    "collapsed": false
   },
   "outputs": [
    {
     "name": "stdout",
     "output_type": "stream",
     "text": [
      "+---+-----+\n",
      "|age|count|\n",
      "+---+-----+\n",
      "| 18|    8|\n",
      "| 19|   11|\n",
      "| 20|    5|\n",
      "| 21|    8|\n",
      "| 22|    7|\n",
      "| 23|   10|\n",
      "| 24|    5|\n",
      "| 25|   11|\n",
      "| 26|   17|\n",
      "| 27|    8|\n",
      "| 28|   10|\n",
      "| 29|   12|\n",
      "| 30|   11|\n",
      "| 31|    8|\n",
      "| 32|   11|\n",
      "| 33|   12|\n",
      "| 34|    6|\n",
      "| 35|    8|\n",
      "| 36|   10|\n",
      "| 37|    9|\n",
      "+---+-----+\n",
      "only showing top 20 rows\n",
      "\n"
     ]
    }
   ],
   "source": [
    "people_df_2.groupBy('age').count().orderBy('age').show()"
   ]
  },
  {
   "cell_type": "code",
   "execution_count": null,
   "metadata": {
    "collapsed": true
   },
   "outputs": [],
   "source": []
  }
 ],
 "metadata": {
  "kernelspec": {
   "display_name": "Python 2",
   "language": "python",
   "name": "python2"
  },
  "language_info": {
   "codemirror_mode": {
    "name": "ipython",
    "version": 2
   },
   "file_extension": ".py",
   "mimetype": "text/x-python",
   "name": "python",
   "nbconvert_exporter": "python",
   "pygments_lexer": "ipython2",
   "version": "2.7.12"
  }
 },
 "nbformat": 4,
 "nbformat_minor": 0
}
