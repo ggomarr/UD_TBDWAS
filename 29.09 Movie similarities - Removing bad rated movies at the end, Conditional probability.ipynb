{
 "cells": [
  {
   "cell_type": "code",
   "execution_count": 2,
   "metadata": {
    "collapsed": true
   },
   "outputs": [],
   "source": [
    "import findspark\n",
    "findspark.init()"
   ]
  },
  {
   "cell_type": "code",
   "execution_count": 3,
   "metadata": {
    "collapsed": false
   },
   "outputs": [],
   "source": [
    "from pyspark import SparkConf, SparkContext\n",
    "conf = SparkConf().setMaster(\"local[*]\").setAppName(\"MovieSimilaritiesRedux009\")\n",
    "sc = SparkContext(conf = conf)"
   ]
  },
  {
   "cell_type": "code",
   "execution_count": 4,
   "metadata": {
    "collapsed": false,
    "scrolled": true
   },
   "outputs": [],
   "source": [
    "def process_movie_row(movie_row):\n",
    "    movie=movie_row.split()\n",
    "    user_id=int(movie[0])\n",
    "    movie_id=int(movie[1])\n",
    "    rating=float(movie[2])\n",
    "    return user_id,(movie_id,rating)\n",
    "\n",
    "user_movie_ratings=(sc.textFile(\"/home/ggomarr/Documents/Education/Udemy_Spark/ml-100k/u.data\")\n",
    "                      .map(process_movie_row))"
   ]
  },
  {
   "cell_type": "code",
   "execution_count": 5,
   "metadata": {
    "collapsed": false,
    "scrolled": true
   },
   "outputs": [
    {
     "name": "stdout",
     "output_type": "stream",
     "text": [
      "(196, (242, 3.0))\n",
      "(186, (302, 3.0))\n",
      "(22, (377, 1.0))\n",
      "(244, (51, 2.0))\n",
      "(166, (346, 1.0))\n",
      "(298, (474, 4.0))\n",
      "(115, (265, 2.0))\n",
      "(253, (465, 5.0))\n",
      "(305, (451, 3.0))\n",
      "(6, (86, 3.0))\n"
     ]
    }
   ],
   "source": [
    "for r in user_movie_ratings.take(10):\n",
    "    print(r)"
   ]
  },
  {
   "cell_type": "code",
   "execution_count": 6,
   "metadata": {
    "collapsed": false
   },
   "outputs": [],
   "source": [
    "user_mr_pairs=(user_movie_ratings.join(user_movie_ratings)\n",
    "                                 .filter(lambda x: x[1][0][0]<x[1][1][0])\n",
    "                                 .map(lambda x: ((x[1][0][0],x[1][1][0]),(x[1][0][1],x[1][1][1])))\n",
    "                                 .groupByKey())"
   ]
  },
  {
   "cell_type": "code",
   "execution_count": 7,
   "metadata": {
    "collapsed": false,
    "scrolled": true
   },
   "outputs": [
    {
     "name": "stdout",
     "output_type": "stream",
     "text": [
      "((197, 1097), <pyspark.resultiterable.ResultIterable object at 0x7ff438993310>)\n",
      "((42, 364), <pyspark.resultiterable.ResultIterable object at 0x7ff438993090>)\n",
      "((773, 1409), <pyspark.resultiterable.ResultIterable object at 0x7ff4389930d0>)\n",
      "((273, 617), <pyspark.resultiterable.ResultIterable object at 0x7ff438993110>)\n",
      "((372, 974), <pyspark.resultiterable.ResultIterable object at 0x7ff438993150>)\n",
      "((789, 865), <pyspark.resultiterable.ResultIterable object at 0x7ff438993190>)\n",
      "((496, 1314), <pyspark.resultiterable.ResultIterable object at 0x7ff4389931d0>)\n",
      "((389, 493), <pyspark.resultiterable.ResultIterable object at 0x7ff4389934d0>)\n",
      "((856, 1006), <pyspark.resultiterable.ResultIterable object at 0x7ff438993510>)\n",
      "((552, 754), <pyspark.resultiterable.ResultIterable object at 0x7ff438993550>)\n"
     ]
    }
   ],
   "source": [
    "for r in user_mr_pairs.take(10):\n",
    "    print(r)"
   ]
  },
  {
   "cell_type": "code",
   "execution_count": 8,
   "metadata": {
    "collapsed": false
   },
   "outputs": [],
   "source": [
    "def conditional_probability_similarity(ratings):\n",
    "    def compare(x,y):\n",
    "        if x>y:\n",
    "            return -1\n",
    "        elif x==y:\n",
    "            return 0\n",
    "        else:\n",
    "            return 1\n",
    "    ratings_comparison=[ compare(x,y) for x,y in ratings ]\n",
    "    num_pairs=len(ratings)\n",
    "    similarity=1.0*ratings_comparison.count(0)/num_pairs\n",
    "    return similarity,num_pairs\n",
    "    \n",
    "movie_pair_similarities=user_mr_pairs.mapValues(conditional_probability_similarity)"
   ]
  },
  {
   "cell_type": "code",
   "execution_count": 9,
   "metadata": {
    "collapsed": false
   },
   "outputs": [
    {
     "name": "stdout",
     "output_type": "stream",
     "text": [
      "((197, 1097), (0.2857142857142857, 7))\n",
      "((42, 364), (0.1111111111111111, 18))\n",
      "((773, 1409), (1.0, 1))\n",
      "((273, 617), (0.2857142857142857, 7))\n",
      "((372, 974), (0.0, 1))\n",
      "((789, 865), (0.3333333333333333, 3))\n",
      "((496, 1314), (0.5, 4))\n",
      "((389, 493), (0.2857142857142857, 7))\n",
      "((856, 1006), (0.3, 10))\n",
      "((552, 754), (0.0, 2))\n"
     ]
    }
   ],
   "source": [
    "for r in movie_pair_similarities.take(10):\n",
    "    print(r)"
   ]
  },
  {
   "cell_type": "code",
   "execution_count": 10,
   "metadata": {
    "collapsed": false
   },
   "outputs": [],
   "source": [
    "movie_avg_ratings=(user_movie_ratings.map(lambda x: (x[1][0],(x[1][1],1)))\n",
    "                                     .reduceByKey(lambda x, y: (x[0]+y[0],x[1]+y[1]))\n",
    "                                     .mapValues(lambda x: (x[0]/x[1],x[1])))"
   ]
  },
  {
   "cell_type": "code",
   "execution_count": 11,
   "metadata": {
    "collapsed": false,
    "scrolled": true
   },
   "outputs": [
    {
     "name": "stdout",
     "output_type": "stream",
     "text": [
      "(2, (3.2061068702290076, 131))\n",
      "(4, (3.550239234449761, 209))\n",
      "(6, (3.576923076923077, 26))\n",
      "(8, (3.9954337899543377, 219))\n",
      "(10, (3.831460674157303, 89))\n",
      "(12, (4.385767790262173, 267))\n",
      "(14, (3.9672131147540983, 183))\n",
      "(16, (3.2051282051282053, 39))\n",
      "(18, (2.8, 10))\n",
      "(20, (3.4166666666666665, 72))\n"
     ]
    }
   ],
   "source": [
    "for r in movie_avg_ratings.take(10):\n",
    "    print(r)"
   ]
  },
  {
   "cell_type": "code",
   "execution_count": 12,
   "metadata": {
    "collapsed": true
   },
   "outputs": [],
   "source": [
    "def process_movie_row(movie_row):\n",
    "    movie=movie_row.split('|')\n",
    "    movie_id=int(movie[0])\n",
    "    movie_title=movie[1]\n",
    "    return (movie_id,movie_title)\n",
    "\n",
    "movie_names_and_ratings=(sc.textFile(\"/home/ggomarr/Documents/Education/Udemy_Spark/ml-100k/u.item\")\n",
    "                           .map(process_movie_row)\n",
    "                           .join(movie_avg_ratings)\n",
    "                           .mapValues(lambda x: (x[0],x[1][0],x[1][1])))"
   ]
  },
  {
   "cell_type": "code",
   "execution_count": 13,
   "metadata": {
    "collapsed": false,
    "scrolled": true
   },
   "outputs": [
    {
     "name": "stdout",
     "output_type": "stream",
     "text": [
      "   1 [3.88, 452] - Toy Story (1995)\n",
      "   2 [3.21, 131] - GoldenEye (1995)\n",
      "   3 [3.03,  90] - Four Rooms (1995)\n",
      "   4 [3.55, 209] - Get Shorty (1995)\n",
      "   5 [3.30,  86] - Copycat (1995)\n",
      "   6 [3.58,  26] - Shanghai Triad (Yao a yao yao dao waipo qiao) (1995)\n",
      "   7 [3.80, 392] - Twelve Monkeys (1995)\n",
      "   8 [4.00, 219] - Babe (1995)\n",
      "   9 [3.90, 299] - Dead Man Walking (1995)\n",
      "  10 [3.83,  89] - Richard III (1995)\n"
     ]
    }
   ],
   "source": [
    "for r in movie_names_and_ratings.takeOrdered(10):\n",
    "    print('{:4d} [{:4.2f}, {:3d}] - {}'.format(r[0],r[1][1],r[1][2],r[1][0]))"
   ]
  },
  {
   "cell_type": "code",
   "execution_count": 14,
   "metadata": {
    "collapsed": false
   },
   "outputs": [],
   "source": [
    "target_movie=50\n",
    "min_similarity=0.25\n",
    "min_num_rating_pairs=25\n",
    "\n",
    "target_movie_filtered=(movie_pair_similarities.filter(lambda x: ((x[0][0]==target_movie) or \\\n",
    "                                                                 (x[0][1]==target_movie)) and \\\n",
    "                                                                 x[1][0]>=min_similarity and \\\n",
    "                                                                 x[1][1]>=min_num_rating_pairs)\n",
    "                                              .map(lambda x: (x[0][0] if x[0][0]<>target_movie else x[0][1],\n",
    "                                                              (x[1][0],x[1][1]))))"
   ]
  },
  {
   "cell_type": "code",
   "execution_count": 15,
   "metadata": {
    "collapsed": false,
    "scrolled": true
   },
   "outputs": [
    {
     "name": "stdout",
     "output_type": "stream",
     "text": [
      "(172, (0.6434782608695652, 345))\n",
      "(114, (0.5862068965517241, 58))\n",
      "(169, (0.5728155339805825, 103))\n",
      "(174, (0.5710526315789474, 380))\n",
      "(181, (0.5625, 480))\n",
      "(641, (0.56, 25))\n",
      "(963, (0.525, 40))\n",
      "(408, (0.5217391304347826, 92))\n",
      "(936, (0.5185185185185185, 27))\n",
      "(1142, (0.4864864864864865, 37))\n"
     ]
    }
   ],
   "source": [
    "for r in target_movie_filtered.takeOrdered(10,key=lambda x: (-x[1][0],-x[1][1])):\n",
    "    print(r)"
   ]
  },
  {
   "cell_type": "code",
   "execution_count": 16,
   "metadata": {
    "collapsed": false,
    "scrolled": true
   },
   "outputs": [],
   "source": [
    "min_rating=4\n",
    "\n",
    "target_movie_filtered_named_rated=(target_movie_filtered.join(movie_names_and_ratings)\n",
    "                                                        .mapValues(lambda x: (x[1][0],x[1][1],x[1][2],\n",
    "                                                                              x[0][1],x[0][0]))\n",
    "                                                        .filter(lambda x: x[1][1]>=min_rating))"
   ]
  },
  {
   "cell_type": "code",
   "execution_count": 17,
   "metadata": {
    "collapsed": false
   },
   "outputs": [
    {
     "name": "stdout",
     "output_type": "stream",
     "text": [
      "(512, (u'Wings of Desire (1987)', 4.0, 57, 47, 0.2765957446808511))\n",
      "(520, (u'Great Escape, The (1963)', 4.104838709677419, 124, 107, 0.40186915887850466))\n",
      "(528, (u'Killing Fields, The (1984)', 4.132231404958677, 121, 101, 0.36633663366336633))\n",
      "(48, (u'Hoop Dreams (1994)', 4.094017094017094, 117, 104, 0.3942307692307692))\n",
      "(56, (u'Pulp Fiction (1994)', 4.060913705583756, 394, 330, 0.396969696969697))\n",
      "(96, (u'Terminator 2: Judgment Day (1991)', 4.0067796610169495, 295, 271, 0.3874538745387454))\n",
      "(648, (u'Quiet Man, The (1952)', 4.029850746268656, 67, 57, 0.3684210526315789))\n",
      "(168, (u'Monty Python and the Holy Grail (1974)', 4.0664556962025316, 316, 278, 0.4244604316546763))\n",
      "(192, (u'Raging Bull (1980)', 4.120689655172414, 116, 96, 0.34375))\n",
      "(272, (u'Good Will Hunting (1997)', 4.262626262626263, 198, 110, 0.4636363636363636))\n"
     ]
    }
   ],
   "source": [
    "for r in target_movie_filtered_named_rated.take(10):\n",
    "    print r"
   ]
  },
  {
   "cell_type": "code",
   "execution_count": 18,
   "metadata": {
    "collapsed": false,
    "scrolled": true
   },
   "outputs": [
    {
     "name": "stdout",
     "output_type": "stream",
     "text": [
      "Most similar movies to   50 [4.36, 583] - Star Wars (1977)\n",
      " 172 [4.20, 345/367] (0.6435): Empire Strikes Back, The (1980)\n",
      " 114 [4.45,  58/ 67] (0.5862): Wallace & Gromit: The Best of Aardman Animation (1996)\n",
      " 169 [4.47, 103/118] (0.5728): Wrong Trousers, The (1993)\n",
      " 174 [4.25, 380/420] (0.5711): Raiders of the Lost Ark (1981)\n",
      " 181 [4.01, 480/507] (0.5625): Return of the Jedi (1983)\n",
      " 641 [4.21,  25/ 33] (0.5600): Paths of Glory (1957)\n",
      " 963 [4.29,  40/ 41] (0.5250): Some Folks Call It a Sling Blade (1993)\n",
      " 408 [4.49,  92/112] (0.5217): Close Shave, A (1995)\n",
      "1142 [4.05,  37/ 44] (0.4865): When We Were Kings (1996)\n",
      " 478 [4.12,  87/104] (0.4828): Philadelphia Story, The (1940)\n"
     ]
    }
   ],
   "source": [
    "target_movie_r=movie_names_and_ratings.lookup(target_movie)[0]\n",
    "print('Most similar movies to {:4d} [{:4.2f}, {:3d}] - {}'.format(target_movie,\n",
    "                                                                  target_movie_r[1],target_movie_r[2],\n",
    "                                                                  target_movie_r[0]))\n",
    "for r in target_movie_filtered_named_rated.takeOrdered(10,key=lambda x: (-x[1][4],-x[1][1])):\n",
    "    print('{:4d} [{:.2f}, {:3d}/{:3d}] ({:.4f}): {}'.format(r[0],r[1][1],r[1][3],r[1][2],r[1][4],r[1][0]))"
   ]
  },
  {
   "cell_type": "code",
   "execution_count": null,
   "metadata": {
    "collapsed": true
   },
   "outputs": [],
   "source": []
  }
 ],
 "metadata": {
  "kernelspec": {
   "display_name": "Python 2",
   "language": "python",
   "name": "python2"
  },
  "language_info": {
   "codemirror_mode": {
    "name": "ipython",
    "version": 2
   },
   "file_extension": ".py",
   "mimetype": "text/x-python",
   "name": "python",
   "nbconvert_exporter": "python",
   "pygments_lexer": "ipython2",
   "version": "2.7.12"
  }
 },
 "nbformat": 4,
 "nbformat_minor": 0
}
