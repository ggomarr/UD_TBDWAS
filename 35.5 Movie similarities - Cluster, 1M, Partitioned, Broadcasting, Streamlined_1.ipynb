{
 "cells": [
  {
   "cell_type": "markdown",
   "metadata": {},
   "source": [
    "# 35.5 Movie similarities\n",
    "- 1M\n",
    "- Cluster\n",
    "- Partitioned\n",
    "- Broadcasting title, average rating, and genre vector dictionary\n",
    "- Streamlined\n",
    "- Removing bad rated movies at the end\n",
    "- Cosine similarity for movie ratings\n",
    "- Cosine similarity for movie genres"
   ]
  },
  {
   "cell_type": "code",
   "execution_count": 1,
   "metadata": {
    "collapsed": true
   },
   "outputs": [],
   "source": [
    "import findspark\n",
    "findspark.init()"
   ]
  },
  {
   "cell_type": "code",
   "execution_count": 2,
   "metadata": {
    "collapsed": false
   },
   "outputs": [],
   "source": [
    "from pyspark import SparkConf, SparkContext\n",
    "conf=SparkConf().setMaster(\"spark://1.1.1.102:7077\").setAppName(\"MovieSimilaritiesCluster005\")\n",
    "sc=SparkContext(conf=conf)"
   ]
  },
  {
   "cell_type": "code",
   "execution_count": 3,
   "metadata": {
    "collapsed": true
   },
   "outputs": [],
   "source": [
    "num_partitions=8"
   ]
  },
  {
   "cell_type": "code",
   "execution_count": 16,
   "metadata": {
    "collapsed": true
   },
   "outputs": [],
   "source": [
    "def process_movie_row(movie_row):\n",
    "    movie=movie_row.split('::')\n",
    "    user_id=int(movie[0])\n",
    "    movie_id=int(movie[1])\n",
    "    rating=float(movie[2])\n",
    "    return user_id,(movie_id,rating)\n",
    "\n",
    "user_movie_ratings=(sc.textFile(\"file:///home/sparky/jupyter/ZZ_Data/ml-1m/ratings.dat\")\n",
    "                      .map(process_movie_row).partitionBy(num_partitions).persist())"
   ]
  },
  {
   "cell_type": "code",
   "execution_count": 17,
   "metadata": {
    "collapsed": true
   },
   "outputs": [],
   "source": [
    "user_mr_pairs=(user_movie_ratings.join(user_movie_ratings)\n",
    "                                 .filter(lambda x: x[1][0][0]<x[1][1][0])\n",
    "                                 .map(lambda x: ((x[1][0][0],x[1][1][0]),[(x[1][0][1],x[1][1][1])]))\n",
    "                                 .partitionBy(num_partitions)\n",
    "                                 .reduceByKey(lambda x,y: x+y)\n",
    "                                 .mapValues(lambda x: zip(*x)))"
   ]
  },
  {
   "cell_type": "code",
   "execution_count": 19,
   "metadata": {
    "collapsed": true
   },
   "outputs": [],
   "source": [
    "def cosine_similarity(v1,v2):\n",
    "    from math import sqrt\n",
    "    def mult_vectors(a,b):\n",
    "        return sum([1.0*a[n]*b[n] for n in range(len(a))])\n",
    "    num_pairs=len(v1)\n",
    "    try:\n",
    "        return mult_vectors(v1,v2)/(sqrt(mult_vectors(v1,v1)) * sqrt(mult_vectors(v2,v2))),num_pairs\n",
    "    except:\n",
    "        return 0,num_pairs\n",
    "    \n",
    "movie_pair_ur_similarities=user_mr_pairs.mapValues(lambda x: cosine_similarity(*x))"
   ]
  },
  {
   "cell_type": "code",
   "execution_count": 20,
   "metadata": {
    "collapsed": false
   },
   "outputs": [],
   "source": [
    "movie_ar_dict=(user_movie_ratings.map(lambda x: (x[1][0],(x[1][1],1)))\n",
    "                                 .reduceByKey(lambda x,y: (x[0]+y[0],x[1]+y[1]))\n",
    "                                 .mapValues(lambda x: (x[0]/x[1],x[1]))\n",
    "                                 .collectAsMap())"
   ]
  },
  {
   "cell_type": "code",
   "execution_count": 21,
   "metadata": {
    "collapsed": false
   },
   "outputs": [],
   "source": [
    "def build_movie_dict(file_nom,ratings_dict={}):\n",
    "    movie_dict={}\n",
    "    with open(file_nom) as f:\n",
    "        for movie_row in f:\n",
    "            movie_row=movie_row.strip()\n",
    "            movie=movie_row.split('::')\n",
    "            movie_id=int(movie[0])\n",
    "            movie_title=movie[1]\n",
    "            genres=['Action','Adventure','Animation','Children\\'s','Comedy','Crime',\n",
    "                    'Documentary','Drama','Fantasy','Film-Noir','Horror',\n",
    "                    'Musical','Mystery','Romance','Sci-Fi','Thriller','War','Western']\n",
    "            movie_genres=[0]*len(genres)\n",
    "            for genre in movie[2].split('|'):\n",
    "                movie_genres[genres.index(genre)]=1\n",
    "            if movie_id in ratings_dict.keys():\n",
    "                movie_avg=ratings_dict[movie_id][0]\n",
    "                movie_cnt=ratings_dict[movie_id][1]\n",
    "            else:\n",
    "                movie_avg=0\n",
    "                movie_cnt=0\n",
    "            movie_dict[movie_id]=(movie_avg,movie_cnt,movie_title,movie_genres)\n",
    "    return movie_dict\n",
    "\n",
    "movie_dict=sc.broadcast(build_movie_dict('/home/sparky/jupyter/ZZ_Data/ml-1m/movies.dat',movie_ar_dict))"
   ]
  },
  {
   "cell_type": "code",
   "execution_count": 22,
   "metadata": {
    "collapsed": true
   },
   "outputs": [],
   "source": [
    "def adjust_rating_by_genre(movie_pair,genre_weight=0.25):\n",
    "    gr_similarity=cosine_similarity(movie_dict.value[movie_pair[0][0]][3],\n",
    "                                    movie_dict.value[movie_pair[0][1]][3])[0]\n",
    "    return (movie_pair[0],\n",
    "            (movie_pair[1][0]+genre_weight*gr_similarity,movie_pair[1][1]))\n",
    "\n",
    "movie_pair_similarities=movie_pair_ur_similarities.map(adjust_rating_by_genre)"
   ]
  },
  {
   "cell_type": "code",
   "execution_count": 23,
   "metadata": {
    "collapsed": false
   },
   "outputs": [],
   "source": [
    "target_movie=260\n",
    "\n",
    "min_rating=4\n",
    "min_similarity=0.95\n",
    "min_num_rating_pairs=250\n",
    "\n",
    "sims_to_target=(movie_pair_similarities.filter(lambda x: ((x[0][0]==target_movie) or (x[0][1]==target_movie)) and \\\n",
    "                                                         x[1][0]>=min_similarity and \\\n",
    "                                                         x[1][1]>=min_num_rating_pairs)\n",
    "                                       .map(lambda x: (x[0][0] if x[0][0]<>target_movie else x[0][1],\n",
    "                                                       x[1])))"
   ]
  },
  {
   "cell_type": "code",
   "execution_count": 24,
   "metadata": {
    "collapsed": false
   },
   "outputs": [],
   "source": [
    "sims_to_target_ext_fil=(sims_to_target.map(lambda x: (x[0],(movie_dict.value[x[0]][0],\n",
    "                                                            x[1][0],x[1][1],\n",
    "                                                            movie_dict.value[x[0]][1],\n",
    "                                                            movie_dict.value[x[0]][2])))\n",
    "                                      .filter(lambda x: x[1][0]>=min_rating))"
   ]
  },
  {
   "cell_type": "code",
   "execution_count": 25,
   "metadata": {
    "collapsed": false
   },
   "outputs": [
    {
     "name": "stdout",
     "output_type": "stream",
     "text": [
      "Most similar movies to  260 [4.45, 2991] - Star Wars: Episode IV - A New Hope (1977)\n",
      "1198 [1.1623, 1972/2514] (4.48): Raiders of the Lost Ark (1981)\n",
      "1196 [1.1575, 2355/2990] (4.29): Star Wars: Episode V - The Empire Strikes Back (1980)\n",
      "1291 [1.1542, 1397/1628] (4.13): Indiana Jones and the Last Crusade (1989)\n",
      "1210 [1.1518, 2113/2883] (4.02): Star Wars: Episode VI - Return of the Jedi (1983)\n",
      "  29 [1.1390,  344/ 403] (4.06): City of Lost Children, The (1995)\n",
      "1240 [1.1189, 1746/2098] (4.15): Terminator, The (1984)\n",
      "2571 [1.1176, 1908/2590] (4.32): Matrix, The (1999)\n",
      "1287 [1.1170,  600/ 704] (4.11): Ben-Hur (1959)\n",
      " 589 [1.1147, 1889/2649] (4.06): Terminator 2: Judgment Day (1991)\n",
      "3000 [1.1087,  287/ 345] (4.15): Princess Mononoke, The (Mononoke Hime) (1997)\n"
     ]
    }
   ],
   "source": [
    "target_info=movie_dict.value[target_movie]\n",
    "print('Most similar movies to {:4d} [{:4.2f}, {:3d}] - {}'.format(target_movie,\n",
    "                                                                  target_info[0],\n",
    "                                                                  target_info[1],\n",
    "                                                                  target_info[2]))\n",
    "for r in sims_to_target_ext_fil.takeOrdered(10,key=lambda x: (-x[1][1],-x[1][0])):\n",
    "    print('{:4d} [{:.4f}, {:4d}/{:4d}] ({:.2f}): {}'.format(r[0],r[1][1],r[1][2],r[1][3],r[1][0],r[1][4]))"
   ]
  },
  {
   "cell_type": "code",
   "execution_count": null,
   "metadata": {
    "collapsed": true
   },
   "outputs": [],
   "source": []
  }
 ],
 "metadata": {
  "kernelspec": {
   "display_name": "Python 2",
   "language": "python",
   "name": "python2"
  },
  "language_info": {
   "codemirror_mode": {
    "name": "ipython",
    "version": 2
   },
   "file_extension": ".py",
   "mimetype": "text/x-python",
   "name": "python",
   "nbconvert_exporter": "python",
   "pygments_lexer": "ipython2",
   "version": "2.7.12"
  }
 },
 "nbformat": 4,
 "nbformat_minor": 1
}
